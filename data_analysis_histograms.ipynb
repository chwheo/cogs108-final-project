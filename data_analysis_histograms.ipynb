{
 "cells": [
  {
   "cell_type": "code",
   "execution_count": 1,
   "id": "053ba735",
   "metadata": {},
   "outputs": [
    {
     "name": "stdout",
     "output_type": "stream",
     "text": [
      "Requirement already satisfied: patsy in c:\\users\\arnav\\appdata\\roaming\\jupyterlab-desktop\\jlab_server\\lib\\site-packages (0.5.2)\n",
      "Requirement already satisfied: six in c:\\users\\arnav\\appdata\\roaming\\jupyterlab-desktop\\jlab_server\\lib\\site-packages (from patsy) (1.16.0)\n",
      "Requirement already satisfied: numpy>=1.4 in c:\\users\\arnav\\appdata\\roaming\\jupyterlab-desktop\\jlab_server\\lib\\site-packages (from patsy) (1.22.3)\n",
      "Note: you may need to restart the kernel to use updated packages.\n"
     ]
    }
   ],
   "source": [
    "pip install patsy"
   ]
  },
  {
   "cell_type": "code",
   "execution_count": 2,
   "id": "21ed3920",
   "metadata": {},
   "outputs": [],
   "source": [
    "import pandas as pd\n",
    "import numpy as np\n",
    "import seaborn as sns\n",
    "import matplotlib.pyplot as plt\n",
    "import statsmodels.api as sm\n",
    "import patsy\n",
    "# packages for importing files\n",
    "import os\n",
    "import glob"
   ]
  },
  {
   "cell_type": "markdown",
   "id": "627954f7",
   "metadata": {},
   "source": [
    "## Creating Summary Dataframe ##"
   ]
  },
  {
   "cell_type": "code",
   "execution_count": 3,
   "id": "2cbee91b",
   "metadata": {},
   "outputs": [],
   "source": [
    "# import intermediate csv\n",
    "path = 'intermediate_csv/'\n",
    "df_fat = pd.read_csv(path + 'fat.csv')\n",
    "df_protein = pd.read_csv(path + 'protein.csv')\n",
    "df_quantity = pd.read_csv(path + 'quantity.csv')\n",
    "\n",
    "col_names = df_fat.columns"
   ]
  },
  {
   "cell_type": "code",
   "execution_count": 4,
   "id": "4265dd4c",
   "metadata": {},
   "outputs": [
    {
     "data": {
      "text/html": [
       "<div>\n",
       "<style scoped>\n",
       "    .dataframe tbody tr th:only-of-type {\n",
       "        vertical-align: middle;\n",
       "    }\n",
       "\n",
       "    .dataframe tbody tr th {\n",
       "        vertical-align: top;\n",
       "    }\n",
       "\n",
       "    .dataframe thead th {\n",
       "        text-align: right;\n",
       "    }\n",
       "</style>\n",
       "<table border=\"1\" class=\"dataframe\">\n",
       "  <thead>\n",
       "    <tr style=\"text-align: right;\">\n",
       "      <th></th>\n",
       "      <th>Unnamed: 0</th>\n",
       "      <th>country</th>\n",
       "      <th>alcoholic_beverages</th>\n",
       "      <th>animal_fats</th>\n",
       "      <th>animal_products</th>\n",
       "      <th>aquatic_products_other</th>\n",
       "      <th>cereals_excluding_beer</th>\n",
       "      <th>eggs</th>\n",
       "      <th>fish_seafood</th>\n",
       "      <th>fruits_excluding_wine</th>\n",
       "      <th>...</th>\n",
       "      <th>sugar_sweeteners</th>\n",
       "      <th>treenuts</th>\n",
       "      <th>vegetable_oils</th>\n",
       "      <th>vegetables</th>\n",
       "      <th>vegetal_products</th>\n",
       "      <th>confirmed</th>\n",
       "      <th>deaths</th>\n",
       "      <th>recovered</th>\n",
       "      <th>active</th>\n",
       "      <th>population</th>\n",
       "    </tr>\n",
       "  </thead>\n",
       "  <tbody>\n",
       "    <tr>\n",
       "      <th>0</th>\n",
       "      <td>0</td>\n",
       "      <td>Afghanistan</td>\n",
       "      <td>0.0</td>\n",
       "      <td>1.39065</td>\n",
       "      <td>4.83625</td>\n",
       "      <td>0.0</td>\n",
       "      <td>1.79580</td>\n",
       "      <td>0.15330</td>\n",
       "      <td>0.0073</td>\n",
       "      <td>0.09490</td>\n",
       "      <td>...</td>\n",
       "      <td>0.0</td>\n",
       "      <td>0.16790</td>\n",
       "      <td>3.81790</td>\n",
       "      <td>0.08030</td>\n",
       "      <td>6.34005</td>\n",
       "      <td>0.132362</td>\n",
       "      <td>0.005628</td>\n",
       "      <td>0.107190</td>\n",
       "      <td>0.000000</td>\n",
       "      <td>38928000.0</td>\n",
       "    </tr>\n",
       "    <tr>\n",
       "      <th>1</th>\n",
       "      <td>1</td>\n",
       "      <td>Albania</td>\n",
       "      <td>0.0</td>\n",
       "      <td>2.93460</td>\n",
       "      <td>27.48085</td>\n",
       "      <td>0.0</td>\n",
       "      <td>2.29585</td>\n",
       "      <td>1.41255</td>\n",
       "      <td>0.1241</td>\n",
       "      <td>0.55115</td>\n",
       "      <td>...</td>\n",
       "      <td>0.0</td>\n",
       "      <td>0.78840</td>\n",
       "      <td>7.93875</td>\n",
       "      <td>0.55845</td>\n",
       "      <td>15.45775</td>\n",
       "      <td>2.054827</td>\n",
       "      <td>0.041614</td>\n",
       "      <td>1.185130</td>\n",
       "      <td>0.828083</td>\n",
       "      <td>2838000.0</td>\n",
       "    </tr>\n",
       "    <tr>\n",
       "      <th>2</th>\n",
       "      <td>2</td>\n",
       "      <td>Algeria</td>\n",
       "      <td>0.0</td>\n",
       "      <td>0.52195</td>\n",
       "      <td>8.38770</td>\n",
       "      <td>0.0</td>\n",
       "      <td>2.44550</td>\n",
       "      <td>0.70810</td>\n",
       "      <td>0.1168</td>\n",
       "      <td>0.33580</td>\n",
       "      <td>...</td>\n",
       "      <td>0.0</td>\n",
       "      <td>0.50005</td>\n",
       "      <td>15.91765</td>\n",
       "      <td>0.29930</td>\n",
       "      <td>20.70280</td>\n",
       "      <td>0.225211</td>\n",
       "      <td>0.006227</td>\n",
       "      <td>0.151938</td>\n",
       "      <td>0.067047</td>\n",
       "      <td>44357000.0</td>\n",
       "    </tr>\n",
       "  </tbody>\n",
       "</table>\n",
       "<p>3 rows × 30 columns</p>\n",
       "</div>"
      ],
      "text/plain": [
       "   Unnamed: 0      country  alcoholic_beverages  animal_fats  animal_products  \\\n",
       "0           0  Afghanistan                  0.0      1.39065          4.83625   \n",
       "1           1      Albania                  0.0      2.93460         27.48085   \n",
       "2           2      Algeria                  0.0      0.52195          8.38770   \n",
       "\n",
       "   aquatic_products_other  cereals_excluding_beer     eggs  fish_seafood  \\\n",
       "0                     0.0                 1.79580  0.15330        0.0073   \n",
       "1                     0.0                 2.29585  1.41255        0.1241   \n",
       "2                     0.0                 2.44550  0.70810        0.1168   \n",
       "\n",
       "   fruits_excluding_wine  ...  sugar_sweeteners  treenuts  vegetable_oils  \\\n",
       "0                0.09490  ...               0.0   0.16790         3.81790   \n",
       "1                0.55115  ...               0.0   0.78840         7.93875   \n",
       "2                0.33580  ...               0.0   0.50005        15.91765   \n",
       "\n",
       "   vegetables  vegetal_products  confirmed    deaths  recovered    active  \\\n",
       "0     0.08030           6.34005   0.132362  0.005628   0.107190  0.000000   \n",
       "1     0.55845          15.45775   2.054827  0.041614   1.185130  0.828083   \n",
       "2     0.29930          20.70280   0.225211  0.006227   0.151938  0.067047   \n",
       "\n",
       "   population  \n",
       "0  38928000.0  \n",
       "1   2838000.0  \n",
       "2  44357000.0  \n",
       "\n",
       "[3 rows x 30 columns]"
      ]
     },
     "execution_count": 4,
     "metadata": {},
     "output_type": "execute_result"
    }
   ],
   "source": [
    "df_fat.head(3)"
   ]
  },
  {
   "cell_type": "code",
   "execution_count": 5,
   "id": "8842ec71",
   "metadata": {},
   "outputs": [
    {
     "data": {
      "text/html": [
       "<div>\n",
       "<style scoped>\n",
       "    .dataframe tbody tr th:only-of-type {\n",
       "        vertical-align: middle;\n",
       "    }\n",
       "\n",
       "    .dataframe tbody tr th {\n",
       "        vertical-align: top;\n",
       "    }\n",
       "\n",
       "    .dataframe thead th {\n",
       "        text-align: right;\n",
       "    }\n",
       "</style>\n",
       "<table border=\"1\" class=\"dataframe\">\n",
       "  <thead>\n",
       "    <tr style=\"text-align: right;\">\n",
       "      <th></th>\n",
       "      <th>Unnamed: 0</th>\n",
       "      <th>country</th>\n",
       "      <th>alcoholic_beverages</th>\n",
       "      <th>animal_fats</th>\n",
       "      <th>animal_products</th>\n",
       "      <th>aquatic_products_other</th>\n",
       "      <th>cereals_excluding_beer</th>\n",
       "      <th>eggs</th>\n",
       "      <th>fish_seafood</th>\n",
       "      <th>fruits_excluding_wine</th>\n",
       "      <th>...</th>\n",
       "      <th>sugar_sweeteners</th>\n",
       "      <th>treenuts</th>\n",
       "      <th>vegetable_oils</th>\n",
       "      <th>vegetables</th>\n",
       "      <th>vegetal_products</th>\n",
       "      <th>confirmed</th>\n",
       "      <th>deaths</th>\n",
       "      <th>recovered</th>\n",
       "      <th>active</th>\n",
       "      <th>population</th>\n",
       "    </tr>\n",
       "  </thead>\n",
       "  <tbody>\n",
       "    <tr>\n",
       "      <th>0</th>\n",
       "      <td>0</td>\n",
       "      <td>Afghanistan</td>\n",
       "      <td>0.0000</td>\n",
       "      <td>0.01095</td>\n",
       "      <td>3.85075</td>\n",
       "      <td>0.0</td>\n",
       "      <td>14.20580</td>\n",
       "      <td>0.1606</td>\n",
       "      <td>0.02555</td>\n",
       "      <td>0.22995</td>\n",
       "      <td>...</td>\n",
       "      <td>0.00000</td>\n",
       "      <td>0.05475</td>\n",
       "      <td>0.00000</td>\n",
       "      <td>0.44895</td>\n",
       "      <td>15.89210</td>\n",
       "      <td>0.132362</td>\n",
       "      <td>0.005628</td>\n",
       "      <td>0.107190</td>\n",
       "      <td>0.000000</td>\n",
       "      <td>38928000.0</td>\n",
       "    </tr>\n",
       "    <tr>\n",
       "      <th>1</th>\n",
       "      <td>1</td>\n",
       "      <td>Albania</td>\n",
       "      <td>0.1606</td>\n",
       "      <td>0.06205</td>\n",
       "      <td>24.21410</td>\n",
       "      <td>0.0</td>\n",
       "      <td>12.42095</td>\n",
       "      <td>1.5768</td>\n",
       "      <td>0.54750</td>\n",
       "      <td>1.11325</td>\n",
       "      <td>...</td>\n",
       "      <td>0.00365</td>\n",
       "      <td>0.23360</td>\n",
       "      <td>0.00730</td>\n",
       "      <td>2.83240</td>\n",
       "      <td>19.42165</td>\n",
       "      <td>2.054827</td>\n",
       "      <td>0.041614</td>\n",
       "      <td>1.185130</td>\n",
       "      <td>0.828083</td>\n",
       "      <td>2838000.0</td>\n",
       "    </tr>\n",
       "    <tr>\n",
       "      <th>2</th>\n",
       "      <td>2</td>\n",
       "      <td>Algeria</td>\n",
       "      <td>0.0219</td>\n",
       "      <td>0.00365</td>\n",
       "      <td>9.38415</td>\n",
       "      <td>0.0</td>\n",
       "      <td>18.01640</td>\n",
       "      <td>0.8760</td>\n",
       "      <td>0.43070</td>\n",
       "      <td>0.78840</td>\n",
       "      <td>...</td>\n",
       "      <td>0.00000</td>\n",
       "      <td>0.18615</td>\n",
       "      <td>0.01825</td>\n",
       "      <td>2.12065</td>\n",
       "      <td>24.53165</td>\n",
       "      <td>0.225211</td>\n",
       "      <td>0.006227</td>\n",
       "      <td>0.151938</td>\n",
       "      <td>0.067047</td>\n",
       "      <td>44357000.0</td>\n",
       "    </tr>\n",
       "  </tbody>\n",
       "</table>\n",
       "<p>3 rows × 30 columns</p>\n",
       "</div>"
      ],
      "text/plain": [
       "   Unnamed: 0      country  alcoholic_beverages  animal_fats  animal_products  \\\n",
       "0           0  Afghanistan               0.0000      0.01095          3.85075   \n",
       "1           1      Albania               0.1606      0.06205         24.21410   \n",
       "2           2      Algeria               0.0219      0.00365          9.38415   \n",
       "\n",
       "   aquatic_products_other  cereals_excluding_beer    eggs  fish_seafood  \\\n",
       "0                     0.0                14.20580  0.1606       0.02555   \n",
       "1                     0.0                12.42095  1.5768       0.54750   \n",
       "2                     0.0                18.01640  0.8760       0.43070   \n",
       "\n",
       "   fruits_excluding_wine  ...  sugar_sweeteners  treenuts  vegetable_oils  \\\n",
       "0                0.22995  ...           0.00000   0.05475         0.00000   \n",
       "1                1.11325  ...           0.00365   0.23360         0.00730   \n",
       "2                0.78840  ...           0.00000   0.18615         0.01825   \n",
       "\n",
       "   vegetables  vegetal_products  confirmed    deaths  recovered    active  \\\n",
       "0     0.44895          15.89210   0.132362  0.005628   0.107190  0.000000   \n",
       "1     2.83240          19.42165   2.054827  0.041614   1.185130  0.828083   \n",
       "2     2.12065          24.53165   0.225211  0.006227   0.151938  0.067047   \n",
       "\n",
       "   population  \n",
       "0  38928000.0  \n",
       "1   2838000.0  \n",
       "2  44357000.0  \n",
       "\n",
       "[3 rows x 30 columns]"
      ]
     },
     "execution_count": 5,
     "metadata": {},
     "output_type": "execute_result"
    }
   ],
   "source": [
    "df_protein.head(3)"
   ]
  },
  {
   "cell_type": "code",
   "execution_count": 6,
   "id": "018e65e6",
   "metadata": {},
   "outputs": [
    {
     "data": {
      "text/html": [
       "<div>\n",
       "<style scoped>\n",
       "    .dataframe tbody tr th:only-of-type {\n",
       "        vertical-align: middle;\n",
       "    }\n",
       "\n",
       "    .dataframe tbody tr th {\n",
       "        vertical-align: top;\n",
       "    }\n",
       "\n",
       "    .dataframe thead th {\n",
       "        text-align: right;\n",
       "    }\n",
       "</style>\n",
       "<table border=\"1\" class=\"dataframe\">\n",
       "  <thead>\n",
       "    <tr style=\"text-align: right;\">\n",
       "      <th></th>\n",
       "      <th>Unnamed: 0</th>\n",
       "      <th>country</th>\n",
       "      <th>alcoholic_beverages</th>\n",
       "      <th>animal_fats</th>\n",
       "      <th>animal_products</th>\n",
       "      <th>aquatic_products_other</th>\n",
       "      <th>cereals_excluding_beer</th>\n",
       "      <th>eggs</th>\n",
       "      <th>fish_seafood</th>\n",
       "      <th>fruits_excluding_wine</th>\n",
       "      <th>...</th>\n",
       "      <th>sugar_sweeteners</th>\n",
       "      <th>treenuts</th>\n",
       "      <th>vegetable_oils</th>\n",
       "      <th>vegetables</th>\n",
       "      <th>vegetal_products</th>\n",
       "      <th>confirmed</th>\n",
       "      <th>deaths</th>\n",
       "      <th>recovered</th>\n",
       "      <th>active</th>\n",
       "      <th>population</th>\n",
       "    </tr>\n",
       "  </thead>\n",
       "  <tbody>\n",
       "    <tr>\n",
       "      <th>0</th>\n",
       "      <td>0</td>\n",
       "      <td>Afghanistan</td>\n",
       "      <td>0.01</td>\n",
       "      <td>1.41</td>\n",
       "      <td>67.42</td>\n",
       "      <td>0.0</td>\n",
       "      <td>177.30</td>\n",
       "      <td>1.50</td>\n",
       "      <td>0.25</td>\n",
       "      <td>38.23</td>\n",
       "      <td>...</td>\n",
       "      <td>9.64</td>\n",
       "      <td>0.55</td>\n",
       "      <td>3.82</td>\n",
       "      <td>48.34</td>\n",
       "      <td>289.89</td>\n",
       "      <td>0.132362</td>\n",
       "      <td>0.005628</td>\n",
       "      <td>0.107190</td>\n",
       "      <td>0.000000</td>\n",
       "      <td>38928000.0</td>\n",
       "    </tr>\n",
       "    <tr>\n",
       "      <th>1</th>\n",
       "      <td>1</td>\n",
       "      <td>Albania</td>\n",
       "      <td>42.15</td>\n",
       "      <td>3.42</td>\n",
       "      <td>473.16</td>\n",
       "      <td>0.0</td>\n",
       "      <td>145.76</td>\n",
       "      <td>14.66</td>\n",
       "      <td>5.36</td>\n",
       "      <td>171.08</td>\n",
       "      <td>...</td>\n",
       "      <td>38.74</td>\n",
       "      <td>3.82</td>\n",
       "      <td>8.22</td>\n",
       "      <td>296.86</td>\n",
       "      <td>787.33</td>\n",
       "      <td>2.054827</td>\n",
       "      <td>0.041614</td>\n",
       "      <td>1.185130</td>\n",
       "      <td>0.828083</td>\n",
       "      <td>2838000.0</td>\n",
       "    </tr>\n",
       "    <tr>\n",
       "      <th>2</th>\n",
       "      <td>2</td>\n",
       "      <td>Algeria</td>\n",
       "      <td>4.33</td>\n",
       "      <td>0.45</td>\n",
       "      <td>153.89</td>\n",
       "      <td>0.0</td>\n",
       "      <td>218.56</td>\n",
       "      <td>8.43</td>\n",
       "      <td>3.86</td>\n",
       "      <td>101.92</td>\n",
       "      <td>...</td>\n",
       "      <td>29.30</td>\n",
       "      <td>1.84</td>\n",
       "      <td>16.47</td>\n",
       "      <td>186.08</td>\n",
       "      <td>644.82</td>\n",
       "      <td>0.225211</td>\n",
       "      <td>0.006227</td>\n",
       "      <td>0.151938</td>\n",
       "      <td>0.067047</td>\n",
       "      <td>44357000.0</td>\n",
       "    </tr>\n",
       "  </tbody>\n",
       "</table>\n",
       "<p>3 rows × 30 columns</p>\n",
       "</div>"
      ],
      "text/plain": [
       "   Unnamed: 0      country  alcoholic_beverages  animal_fats  animal_products  \\\n",
       "0           0  Afghanistan                 0.01         1.41            67.42   \n",
       "1           1      Albania                42.15         3.42           473.16   \n",
       "2           2      Algeria                 4.33         0.45           153.89   \n",
       "\n",
       "   aquatic_products_other  cereals_excluding_beer   eggs  fish_seafood  \\\n",
       "0                     0.0                  177.30   1.50          0.25   \n",
       "1                     0.0                  145.76  14.66          5.36   \n",
       "2                     0.0                  218.56   8.43          3.86   \n",
       "\n",
       "   fruits_excluding_wine  ...  sugar_sweeteners  treenuts  vegetable_oils  \\\n",
       "0                  38.23  ...              9.64      0.55            3.82   \n",
       "1                 171.08  ...             38.74      3.82            8.22   \n",
       "2                 101.92  ...             29.30      1.84           16.47   \n",
       "\n",
       "   vegetables  vegetal_products  confirmed    deaths  recovered    active  \\\n",
       "0       48.34            289.89   0.132362  0.005628   0.107190  0.000000   \n",
       "1      296.86            787.33   2.054827  0.041614   1.185130  0.828083   \n",
       "2      186.08            644.82   0.225211  0.006227   0.151938  0.067047   \n",
       "\n",
       "   population  \n",
       "0  38928000.0  \n",
       "1   2838000.0  \n",
       "2  44357000.0  \n",
       "\n",
       "[3 rows x 30 columns]"
      ]
     },
     "execution_count": 6,
     "metadata": {},
     "output_type": "execute_result"
    }
   ],
   "source": [
    "df_quantity.head(3)"
   ]
  },
  {
   "cell_type": "code",
   "execution_count": 7,
   "id": "620eb2e9",
   "metadata": {},
   "outputs": [
    {
     "data": {
      "text/plain": [
       "Index(['Unnamed: 0', 'country', 'alcoholic_beverages', 'animal_fats',\n",
       "       'animal_products', 'aquatic_products_other', 'cereals_excluding_beer',\n",
       "       'eggs', 'fish_seafood', 'fruits_excluding_wine', 'meat',\n",
       "       'milk_excluding_butter', 'miscellaneous', 'offals', 'oilcrops',\n",
       "       'pulses', 'spices', 'starchy_roots', 'stimulants', 'sugar_crops',\n",
       "       'sugar_sweeteners', 'treenuts', 'vegetable_oils', 'vegetables',\n",
       "       'vegetal_products', 'confirmed', 'deaths', 'recovered', 'active',\n",
       "       'population'],\n",
       "      dtype='object')"
      ]
     },
     "execution_count": 7,
     "metadata": {},
     "output_type": "execute_result"
    }
   ],
   "source": [
    "col_names"
   ]
  },
  {
   "cell_type": "code",
   "execution_count": 8,
   "id": "ddaa23a6",
   "metadata": {},
   "outputs": [],
   "source": [
    "country_names = list(df_fat['country'])\n",
    "covid_names = ['confirmed', 'deaths', 'recovered', 'active',\n",
    "       'population']\n",
    "macronutrient_source_names = ['alcoholic_beverages', 'animal_fats',\n",
    "       'animal_products', 'aquatic_products_other', 'cereals_excluding_beer',\n",
    "       'eggs', 'fish_seafood', 'fruits_excluding_wine', 'meat',\n",
    "       'milk_excluding_butter', 'miscellaneous', 'offals', 'oilcrops',\n",
    "       'pulses', 'spices', 'starchy_roots', 'stimulants', 'sugar_crops',\n",
    "       'sugar_sweeteners', 'treenuts', 'vegetable_oils', 'vegetables',\n",
    "       'vegetal_products']"
   ]
  },
  {
   "cell_type": "code",
   "execution_count": 9,
   "id": "a1f9762c",
   "metadata": {},
   "outputs": [
    {
     "data": {
      "text/plain": [
       "0    22.34895\n",
       "1    85.87720\n",
       "2    58.17735\n",
       "dtype: float64"
      ]
     },
     "execution_count": 9,
     "metadata": {},
     "output_type": "execute_result"
    }
   ],
   "source": [
    "# yearly fat intake of first three countries (alphabetical) (unit: kg/capita/yr)\n",
    "fat_sum = df_fat[macronutrient_source_names].sum(axis=1)\n",
    "fat_sum.head(3)"
   ]
  },
  {
   "cell_type": "code",
   "execution_count": 10,
   "id": "6e56d602",
   "metadata": {},
   "outputs": [
    {
     "data": {
      "text/plain": [
       "0    39.48570\n",
       "1    87.26785\n",
       "2    67.82430\n",
       "dtype: float64"
      ]
     },
     "execution_count": 10,
     "metadata": {},
     "output_type": "execute_result"
    }
   ],
   "source": [
    "# yearly protein intake of first three countries (alphabetical) (unit: kg/capita/yr)\n",
    "protein_sum = df_protein[macronutrient_source_names].sum(axis=1)\n",
    "protein_sum.head(3)"
   ]
  },
  {
   "cell_type": "code",
   "execution_count": 11,
   "id": "ac785a48",
   "metadata": {
    "scrolled": true
   },
   "outputs": [],
   "source": [
    "# create macronutrients summary dataframe\n",
    "df_macro = pd.DataFrame({'country': country_names,\n",
    "                          'fat_sum': fat_sum,\n",
    "                          'protein_sum': protein_sum})"
   ]
  },
  {
   "cell_type": "code",
   "execution_count": 12,
   "id": "fdaac5f0",
   "metadata": {},
   "outputs": [
    {
     "data": {
      "text/html": [
       "<div>\n",
       "<style scoped>\n",
       "    .dataframe tbody tr th:only-of-type {\n",
       "        vertical-align: middle;\n",
       "    }\n",
       "\n",
       "    .dataframe tbody tr th {\n",
       "        vertical-align: top;\n",
       "    }\n",
       "\n",
       "    .dataframe thead th {\n",
       "        text-align: right;\n",
       "    }\n",
       "</style>\n",
       "<table border=\"1\" class=\"dataframe\">\n",
       "  <thead>\n",
       "    <tr style=\"text-align: right;\">\n",
       "      <th></th>\n",
       "      <th>country</th>\n",
       "      <th>fat_sum</th>\n",
       "      <th>protein_sum</th>\n",
       "    </tr>\n",
       "  </thead>\n",
       "  <tbody>\n",
       "    <tr>\n",
       "      <th>0</th>\n",
       "      <td>Afghanistan</td>\n",
       "      <td>22.34895</td>\n",
       "      <td>39.48570</td>\n",
       "    </tr>\n",
       "    <tr>\n",
       "      <th>1</th>\n",
       "      <td>Albania</td>\n",
       "      <td>85.87720</td>\n",
       "      <td>87.26785</td>\n",
       "    </tr>\n",
       "    <tr>\n",
       "      <th>2</th>\n",
       "      <td>Algeria</td>\n",
       "      <td>58.17735</td>\n",
       "      <td>67.82430</td>\n",
       "    </tr>\n",
       "  </tbody>\n",
       "</table>\n",
       "</div>"
      ],
      "text/plain": [
       "       country   fat_sum  protein_sum\n",
       "0  Afghanistan  22.34895     39.48570\n",
       "1      Albania  85.87720     87.26785\n",
       "2      Algeria  58.17735     67.82430"
      ]
     },
     "execution_count": 12,
     "metadata": {},
     "output_type": "execute_result"
    }
   ],
   "source": [
    "df_macro.head(3)"
   ]
  },
  {
   "cell_type": "code",
   "execution_count": 13,
   "id": "4440999b",
   "metadata": {},
   "outputs": [
    {
     "name": "stdout",
     "output_type": "stream",
     "text": [
      "Maximum Fat Value: 122.05965 \n",
      "Maximum Protein Value: 102.93365\n"
     ]
    }
   ],
   "source": [
    "fat_max, protein_max = max(df_macro['fat_sum']), max(df_macro['protein_sum'])\n",
    "print('Maximum Fat Value: ' + str(fat_max), '\\nMaximum Protein Value: ' + str(protein_max))"
   ]
  },
  {
   "cell_type": "code",
   "execution_count": 14,
   "id": "b6f4b391",
   "metadata": {},
   "outputs": [],
   "source": [
    "# TODO: create carbs dataframe\n",
    "    # -> when trying to create carbs dataframe from 1 - fat - protein, the values become negative for some reason??\n",
    "    # -> calculating the max fat & protein values, some are over 100%?? maybe i'm interpreting wrong can someone check\n",
    "# TODO: combine carbs dataframe with summary dataframe"
   ]
  },
  {
   "cell_type": "code",
   "execution_count": 15,
   "id": "6955e9e0",
   "metadata": {},
   "outputs": [
    {
     "data": {
      "text/html": [
       "<div>\n",
       "<style scoped>\n",
       "    .dataframe tbody tr th:only-of-type {\n",
       "        vertical-align: middle;\n",
       "    }\n",
       "\n",
       "    .dataframe tbody tr th {\n",
       "        vertical-align: top;\n",
       "    }\n",
       "\n",
       "    .dataframe thead th {\n",
       "        text-align: right;\n",
       "    }\n",
       "</style>\n",
       "<table border=\"1\" class=\"dataframe\">\n",
       "  <thead>\n",
       "    <tr style=\"text-align: right;\">\n",
       "      <th></th>\n",
       "      <th>country</th>\n",
       "      <th>confirmed</th>\n",
       "      <th>deaths</th>\n",
       "      <th>recovered</th>\n",
       "      <th>active</th>\n",
       "      <th>population</th>\n",
       "    </tr>\n",
       "  </thead>\n",
       "  <tbody>\n",
       "    <tr>\n",
       "      <th>0</th>\n",
       "      <td>Afghanistan</td>\n",
       "      <td>0.132362</td>\n",
       "      <td>0.005628</td>\n",
       "      <td>0.107190</td>\n",
       "      <td>0.000000</td>\n",
       "      <td>38928000.0</td>\n",
       "    </tr>\n",
       "    <tr>\n",
       "      <th>1</th>\n",
       "      <td>Albania</td>\n",
       "      <td>2.054827</td>\n",
       "      <td>0.041614</td>\n",
       "      <td>1.185130</td>\n",
       "      <td>0.828083</td>\n",
       "      <td>2838000.0</td>\n",
       "    </tr>\n",
       "    <tr>\n",
       "      <th>2</th>\n",
       "      <td>Algeria</td>\n",
       "      <td>0.225211</td>\n",
       "      <td>0.006227</td>\n",
       "      <td>0.151938</td>\n",
       "      <td>0.067047</td>\n",
       "      <td>44357000.0</td>\n",
       "    </tr>\n",
       "  </tbody>\n",
       "</table>\n",
       "</div>"
      ],
      "text/plain": [
       "       country  confirmed    deaths  recovered    active  population\n",
       "0  Afghanistan   0.132362  0.005628   0.107190  0.000000  38928000.0\n",
       "1      Albania   2.054827  0.041614   1.185130  0.828083   2838000.0\n",
       "2      Algeria   0.225211  0.006227   0.151938  0.067047  44357000.0"
      ]
     },
     "execution_count": 15,
     "metadata": {},
     "output_type": "execute_result"
    }
   ],
   "source": [
    "df_covid = df_fat[['country'] + covid_names]\n",
    "df_covid.head(3)"
   ]
  },
  {
   "cell_type": "markdown",
   "id": "d5b8d26e",
   "metadata": {},
   "source": [
    "## Histogram of Worldwide Macronutrient Distribution ##\n",
    "* `x` : percentage ranges\n",
    "* `y` : count of countries that fall under the percentage range"
   ]
  },
  {
   "cell_type": "code",
   "execution_count": 16,
   "id": "81cc2675",
   "metadata": {},
   "outputs": [
    {
     "data": {
      "image/png": "[encoded data removed]",
      "text/plain": [
       "<Figure size 432x288 with 1 Axes>"
      ]
     },
     "metadata": {
      "needs_background": "light"
     },
     "output_type": "display_data"
    }
   ],
   "source": [
    "# fat intake distribution worldwide\n",
    "fig1 = sns.histplot(x='fat_sum', data=df_macro, stat='count', bins=20)"
   ]
  },
  {
   "cell_type": "code",
   "execution_count": 17,
   "id": "d41b7834",
   "metadata": {},
   "outputs": [
    {
     "data": {
      "image/png": "[encoded data removed]",
      "text/plain": [
       "<Figure size 432x288 with 1 Axes>"
      ]
     },
     "metadata": {
      "needs_background": "light"
     },
     "output_type": "display_data"
    }
   ],
   "source": [
    "# protein intake distribution worldwide\n",
    "fig2 = sns.histplot(x='protein_sum', data=df_macro, stat='count', bins=20)"
   ]
  },
  {
   "cell_type": "code",
   "execution_count": 18,
   "id": "b1f9fab3",
   "metadata": {},
   "outputs": [],
   "source": [
    "# TODO: check if the histrograms look correct. right now \n",
    "# TODO: create carbs intake distribution worldwide"
   ]
  },
  {
   "cell_type": "markdown",
   "id": "e6a80f29",
   "metadata": {},
   "source": [
    "## Histogram of Worldwide Covid Distribution ##\n",
    "* `x` : percentage of each case\n",
    "* `y` : count of countries that fall under each bin"
   ]
  },
  {
   "cell_type": "code",
   "execution_count": 19,
   "id": "8289e6ba",
   "metadata": {},
   "outputs": [
    {
     "name": "stdout",
     "output_type": "stream",
     "text": [
      "Total number of countries in the dataset:  170\n"
     ]
    }
   ],
   "source": [
    "print('Total number of countries in the dataset: ', len(df_covid['country']))"
   ]
  },
  {
   "cell_type": "code",
   "execution_count": 20,
   "id": "18d1dfc2",
   "metadata": {},
   "outputs": [
    {
     "data": {
      "image/png": "[encoded data removed]",
      "text/plain": [
       "<Figure size 432x288 with 1 Axes>"
      ]
     },
     "metadata": {
      "needs_background": "light"
     },
     "output_type": "display_data"
    }
   ],
   "source": [
    "# covid confirmed cases distribution worldwide\n",
    "fig3 = sns.histplot(x='confirmed', data=df_covid, stat='count', bins=20)"
   ]
  },
  {
   "cell_type": "code",
   "execution_count": 21,
   "id": "030e4b9e",
   "metadata": {},
   "outputs": [
    {
     "data": {
      "image/png": "[encoded data removed]",
      "text/plain": [
       "<Figure size 432x288 with 1 Axes>"
      ]
     },
     "metadata": {
      "needs_background": "light"
     },
     "output_type": "display_data"
    }
   ],
   "source": [
    "# covid deaths cases distribution worldwide\n",
    "fig4 = sns.histplot(x='deaths', data=df_covid, stat='count', bins=20)"
   ]
  },
  {
   "cell_type": "code",
   "execution_count": 22,
   "id": "78192d98",
   "metadata": {},
   "outputs": [
    {
     "data": {
      "image/png": "[encoded data removed]",
      "text/plain": [
       "<Figure size 432x288 with 1 Axes>"
      ]
     },
     "metadata": {
      "needs_background": "light"
     },
     "output_type": "display_data"
    }
   ],
   "source": [
    "# covid recovered cases distribution worldwide\n",
    "fig3 = sns.histplot(x='recovered', data=df_covid, stat='count', bins=20)"
   ]
  },
  {
   "cell_type": "code",
   "execution_count": 23,
   "id": "717d6143",
   "metadata": {},
   "outputs": [
    {
     "data": {
      "image/png": "[encoded data removed]",
      "text/plain": [
       "<Figure size 432x288 with 1 Axes>"
      ]
     },
     "metadata": {
      "needs_background": "light"
     },
     "output_type": "display_data"
    }
   ],
   "source": [
    "# covid active cases distribution worldwide\n",
    "fig3 = sns.histplot(x='active', data=df_covid, stat='count', bins=20)"
   ]
  },
  {
   "cell_type": "code",
   "execution_count": 24,
   "id": "c1482bc4",
   "metadata": {},
   "outputs": [],
   "source": [
    "# TODO: regression + other analysis?"
   ]
  },
  {
   "cell_type": "markdown",
   "id": "db8e2dec-71bf-4e16-bb0d-3b2e2ef346a3",
   "metadata": {},
   "source": [
    "## Is there a correlation between macronutrient consumption and COVID cases in a country? ##"
   ]
  },
  {
   "cell_type": "code",
   "execution_count": 27,
   "id": "803cf0fd-f06e-448b-b3ee-9650964cab78",
   "metadata": {},
   "outputs": [
    {
     "data": {
      "text/html": [
       "<div>\n",
       "<style scoped>\n",
       "    .dataframe tbody tr th:only-of-type {\n",
       "        vertical-align: middle;\n",
       "    }\n",
       "\n",
       "    .dataframe tbody tr th {\n",
       "        vertical-align: top;\n",
       "    }\n",
       "\n",
       "    .dataframe thead th {\n",
       "        text-align: right;\n",
       "    }\n",
       "</style>\n",
       "<table border=\"1\" class=\"dataframe\">\n",
       "  <thead>\n",
       "    <tr style=\"text-align: right;\">\n",
       "      <th></th>\n",
       "      <th>country</th>\n",
       "      <th>fat_sum</th>\n",
       "      <th>protein_sum</th>\n",
       "      <th>country</th>\n",
       "      <th>confirmed</th>\n",
       "      <th>deaths</th>\n",
       "      <th>recovered</th>\n",
       "      <th>active</th>\n",
       "      <th>population</th>\n",
       "    </tr>\n",
       "  </thead>\n",
       "  <tbody>\n",
       "    <tr>\n",
       "      <th>0</th>\n",
       "      <td>Afghanistan</td>\n",
       "      <td>22.34895</td>\n",
       "      <td>39.48570</td>\n",
       "      <td>Afghanistan</td>\n",
       "      <td>0.132362</td>\n",
       "      <td>0.005628</td>\n",
       "      <td>0.107190</td>\n",
       "      <td>0.000000</td>\n",
       "      <td>38928000.0</td>\n",
       "    </tr>\n",
       "    <tr>\n",
       "      <th>1</th>\n",
       "      <td>Albania</td>\n",
       "      <td>85.87720</td>\n",
       "      <td>87.26785</td>\n",
       "      <td>Albania</td>\n",
       "      <td>2.054827</td>\n",
       "      <td>0.041614</td>\n",
       "      <td>1.185130</td>\n",
       "      <td>0.828083</td>\n",
       "      <td>2838000.0</td>\n",
       "    </tr>\n",
       "    <tr>\n",
       "      <th>2</th>\n",
       "      <td>Algeria</td>\n",
       "      <td>58.17735</td>\n",
       "      <td>67.82430</td>\n",
       "      <td>Algeria</td>\n",
       "      <td>0.225211</td>\n",
       "      <td>0.006227</td>\n",
       "      <td>0.151938</td>\n",
       "      <td>0.067047</td>\n",
       "      <td>44357000.0</td>\n",
       "    </tr>\n",
       "    <tr>\n",
       "      <th>3</th>\n",
       "      <td>Angola</td>\n",
       "      <td>35.58385</td>\n",
       "      <td>39.49300</td>\n",
       "      <td>Angola</td>\n",
       "      <td>0.054019</td>\n",
       "      <td>0.001245</td>\n",
       "      <td>0.034272</td>\n",
       "      <td>0.018501</td>\n",
       "      <td>32522000.0</td>\n",
       "    </tr>\n",
       "    <tr>\n",
       "      <th>4</th>\n",
       "      <td>Antigua and Barbuda</td>\n",
       "      <td>65.04665</td>\n",
       "      <td>59.45120</td>\n",
       "      <td>Antigua and Barbuda</td>\n",
       "      <td>0.162245</td>\n",
       "      <td>0.005102</td>\n",
       "      <td>0.151020</td>\n",
       "      <td>0.006122</td>\n",
       "      <td>98000.0</td>\n",
       "    </tr>\n",
       "  </tbody>\n",
       "</table>\n",
       "</div>"
      ],
      "text/plain": [
       "               country   fat_sum  protein_sum              country  confirmed  \\\n",
       "0          Afghanistan  22.34895     39.48570          Afghanistan   0.132362   \n",
       "1              Albania  85.87720     87.26785              Albania   2.054827   \n",
       "2              Algeria  58.17735     67.82430              Algeria   0.225211   \n",
       "3               Angola  35.58385     39.49300               Angola   0.054019   \n",
       "4  Antigua and Barbuda  65.04665     59.45120  Antigua and Barbuda   0.162245   \n",
       "\n",
       "     deaths  recovered    active  population  \n",
       "0  0.005628   0.107190  0.000000  38928000.0  \n",
       "1  0.041614   1.185130  0.828083   2838000.0  \n",
       "2  0.006227   0.151938  0.067047  44357000.0  \n",
       "3  0.001245   0.034272  0.018501  32522000.0  \n",
       "4  0.005102   0.151020  0.006122     98000.0  "
      ]
     },
     "execution_count": 27,
     "metadata": {},
     "output_type": "execute_result"
    }
   ],
   "source": [
    "# combine macronutrient dataframe with COVID dataframe\n",
    "macro_covid_combined_df = pd.concat([df_macro, df_covid], axis=1)\n",
    "macro_covid_combined_df.head()"
   ]
  },
  {
   "cell_type": "code",
   "execution_count": 45,
   "id": "da1b9b10-dd9b-4abb-ae11-177adb25bf90",
   "metadata": {},
   "outputs": [
    {
     "data": {
      "image/png": "[encoded data removed]",
      "text/plain": [
       "<Figure size 432x288 with 2 Axes>"
      ]
     },
     "metadata": {},
     "output_type": "display_data"
    }
   ],
   "source": [
    "# generate scatterplots with a regression line to visualize relationship \n",
    "# between macronutrient consumption and confirmed COVID cases\n",
    "sns.set()\n",
    "fig, axes = plt.subplots(1,2)\n",
    "sns.regplot(data = macro_covid_combined_df, x = 'fat_sum', y = 'confirmed', ax = axes[0])\n",
    "axes[0].set_title('National Fat Consumption vs Confirmed Covid Cases')\n",
    "sns.regplot(data = macro_covid_combined_df, x = 'protein_sum', y = 'confirmed', ax = axes[1])\n",
    "axes[1].set_title('National Protein Consumption vs Confirmed Covid Cases')\n",
    "\n",
    "# set spacing between the subplots\n",
    "plt.subplots_adjust(left = 0.1, bottom = -0.1, right = 2.0, top=0.9, wspace = 0.5)"
   ]
  },
  {
   "cell_type": "code",
   "execution_count": 46,
   "id": "7cb62d84-fa66-48aa-b4f5-6358d3286d76",
   "metadata": {},
   "outputs": [
    {
     "name": "stdout",
     "output_type": "stream",
     "text": [
      "                            OLS Regression Results                            \n",
      "==============================================================================\n",
      "Dep. Variable:              confirmed   R-squared:                       0.355\n",
      "Model:                            OLS   Adj. R-squared:                  0.351\n",
      "Method:                 Least Squares   F-statistic:                     89.17\n",
      "Date:                Thu, 19 May 2022   Prob (F-statistic):           3.89e-17\n",
      "Time:                        23:13:32   Log-Likelihood:                -296.94\n",
      "No. Observations:                 164   AIC:                             597.9\n",
      "Df Residuals:                     162   BIC:                             604.1\n",
      "Df Model:                           1                                         \n",
      "Covariance Type:            nonrobust                                         \n",
      "==============================================================================\n",
      "                 coef    std err          t      P>|t|      [0.025      0.975]\n",
      "------------------------------------------------------------------------------\n",
      "Intercept     -0.8411      0.281     -2.996      0.003      -1.395      -0.287\n",
      "fat_sum        0.0389      0.004      9.443      0.000       0.031       0.047\n",
      "==============================================================================\n",
      "Omnibus:                       26.932   Durbin-Watson:                   2.088\n",
      "Prob(Omnibus):                  0.000   Jarque-Bera (JB):               36.757\n",
      "Skew:                           0.946   Prob(JB):                     1.04e-08\n",
      "Kurtosis:                       4.341   Cond. No.                         165.\n",
      "==============================================================================\n",
      "\n",
      "Notes:\n",
      "[1] Standard Errors assume that the covariance matrix of the errors is correctly specified.\n"
     ]
    }
   ],
   "source": [
    "# Linear regression on fat consumption and covid cases\n",
    "outcome_fat, predictors_fat = patsy.dmatrices('confirmed ~ fat_sum', macro_covid_combined_df)\n",
    "mod_fat = sm.OLS(outcome_fat, predictors_fat)\n",
    "res_fat = mod_fat.fit()\n",
    "print(res_fat.summary())"
   ]
  },
  {
   "cell_type": "code",
   "execution_count": 47,
   "id": "1667b4bb-5b8e-42b9-b12e-e60d6bf983d6",
   "metadata": {},
   "outputs": [
    {
     "name": "stdout",
     "output_type": "stream",
     "text": [
      "                            OLS Regression Results                            \n",
      "==============================================================================\n",
      "Dep. Variable:              confirmed   R-squared:                       0.259\n",
      "Model:                            OLS   Adj. R-squared:                  0.254\n",
      "Method:                 Least Squares   F-statistic:                     56.60\n",
      "Date:                Thu, 19 May 2022   Prob (F-statistic):           3.49e-12\n",
      "Time:                        23:15:56   Log-Likelihood:                -308.33\n",
      "No. Observations:                 164   AIC:                             620.7\n",
      "Df Residuals:                     162   BIC:                             626.9\n",
      "Df Model:                           1                                         \n",
      "Covariance Type:            nonrobust                                         \n",
      "===============================================================================\n",
      "                  coef    std err          t      P>|t|      [0.025      0.975]\n",
      "-------------------------------------------------------------------------------\n",
      "Intercept      -1.4717      0.423     -3.476      0.001      -2.308      -0.636\n",
      "protein_sum     0.0532      0.007      7.523      0.000       0.039       0.067\n",
      "==============================================================================\n",
      "Omnibus:                       26.959   Durbin-Watson:                   2.003\n",
      "Prob(Omnibus):                  0.000   Jarque-Bera (JB):               34.373\n",
      "Skew:                           1.047   Prob(JB):                     3.44e-08\n",
      "Kurtosis:                       3.805   Cond. No.                         203.\n",
      "==============================================================================\n",
      "\n",
      "Notes:\n",
      "[1] Standard Errors assume that the covariance matrix of the errors is correctly specified.\n"
     ]
    }
   ],
   "source": [
    "# Linear regression on protein consumption and covid cases\n",
    "outcome_protein, predictors_protein = patsy.dmatrices('confirmed ~ protein_sum', macro_covid_combined_df)\n",
    "mod_protein = sm.OLS(outcome_protein, predictors_protein)\n",
    "res_protein = mod_protein.fit()\n",
    "print(res_protein.summary())"
   ]
  },
  {
   "cell_type": "markdown",
   "id": "78bc33c6-5167-4ce9-abf5-f225a25a0903",
   "metadata": {},
   "source": [
    "__Interpretation__"
   ]
  },
  {
   "cell_type": "markdown",
   "id": "eca42943-4664-4555-a9ee-1b5434c89a2d",
   "metadata": {},
   "source": [
    "In both the scatterplots, we can observe a linear relationship between the two variables using the regression line. \n",
    "\n",
    "Additionally, the results of the linear regression analysis suggest that there are statistically signficant relationships between fat consumption and COVID cases and protein consumption and COVID cases. We can see that the 95% confidence interval for both coefficients do not include 0. "
   ]
  },
  {
   "cell_type": "code",
   "execution_count": null,
   "id": "7e801fa9-ac20-462a-b6b6-db18cd889ee5",
   "metadata": {},
   "outputs": [],
   "source": []
  }
 ],
 "metadata": {
  "kernelspec": {
   "display_name": "Python 3 (ipykernel)",
   "language": "python",
   "name": "python3"
  },
  "language_info": {
   "codemirror_mode": {
    "name": "ipython",
    "version": 3
   },
   "file_extension": ".py",
   "mimetype": "text/x-python",
   "name": "python",
   "nbconvert_exporter": "python",
   "pygments_lexer": "ipython3",
   "version": "3.8.13"
  }
 },
 "nbformat": 4,
 "nbformat_minor": 5
}
