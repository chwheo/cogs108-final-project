{
 "cells": [
  {
   "cell_type": "markdown",
   "metadata": {},
   "source": [
    "# COGS 108 - Final Project Proposal"
   ]
  },
  {
   "cell_type": "markdown",
   "metadata": {},
   "source": [
    "# Names\n",
    "\n",
    "- Arnav Tayal\n",
    "- Chaewon Heo\n",
    "- Martha Chow\n",
    "- Zhiyi Zhu\n",
    "
   ]
  },
  {
   "cell_type": "markdown",
   "metadata": {},
   "source": [
    "# Research Question"
   ]
  },
  {
   "cell_type": "markdown",
   "metadata": {},
   "source": [
    "*Fill in your research question here*"
   ]
  },
  {
   "cell_type": "markdown",
   "metadata": {},
   "source": [
    "## Background and Prior Work"
   ]
  },
  {
   "cell_type": "markdown",
   "metadata": {},
   "source": [
    "Fill in your background and prior work here. **Use inline citation through Mardown footnotes to specify which references support which statements** \n",
    "\n",
    "For example: After government genocide in the 20th century, real birds were replaced with surveillance drones designed to look just like birds[^lorenz]. \n",
    "Use a minimum of 2 or 3 citations, but we prefer more[^admonish]. You need enough to fully explain and back up important facts. \n",
    "\n",
    "[^lorenz]: Lorenz, T. (9 Dec 2021) Birds Aren’t Real, or Are They? Inside a Gen Z Conspiracy Theory. *The New York Times*. https://www.nytimes.com/2021/12/09/technology/birds-arent-real-gen-z-misinformation.html \n",
    "[^admonish]: Also refs should be important to the background, not some randomly chosen vaguely related stuff. Include a web link if possible in refs as above.\n"
   ]
  },
  {
   "cell_type": "markdown",
   "metadata": {},
   "source": [
    "# Hypothesis\n"
   ]
  },
  {
   "cell_type": "markdown",
   "metadata": {},
   "source": [
    "*State and defend your hypotheses here.*"
   ]
  },
  {
   "cell_type": "markdown",
   "metadata": {},
   "source": [
    "# Data"
   ]
  },
  {
   "cell_type": "markdown",
   "metadata": {},
   "source": [
    "*Explain what the ideal dataset you would want to answer this question. (This should include: What variables? How many observations? Who/what/how would these data be collected? How would these data be stored/organized?)*"
   ]
  },
  {
   "cell_type": "markdown",
   "metadata": {},
   "source": [
    "# Ethics & Privacy"
   ]
  },
  {
   "cell_type": "markdown",
   "metadata": {},
   "source": [
    "*Fill in your ethics & privacy discussion here*"
   ]
  },
  {
   "cell_type": "markdown",
   "metadata": {},
   "source": [
    "# Team Expectations "
   ]
  },
  {
   "cell_type": "markdown",
   "metadata": {},
   "source": [
    "* *Communicating with one another in a timely manner about tasks to be completed *\n",
    "* *Be transparent about schedules and understanding when others are busy (within reason*\n",
    "* *Set and respect deadlines after every meeting*\n",
    "* *Give each other feedback regularly and be receptive to others’ comments*\n
"
   ]
  },
  {
   "cell_type": "markdown",
   "metadata": {},
   "source": [
    "# Project Timeline Proposal"
   ]
  },
  {
   "cell_type": "markdown",
   "metadata": {},
   "source": [
    "| Meeting Date  | Meeting Time| Completed Before Meeting  | Discuss at Meeting |\n",
    "|---|---|---|---|\n",
    "| 4/19  |  3 PM | Read & Think about COGS 108 expectations; brainstorm topics/questions  | Draft project topic and research question; discuss hypothesis; divide workload for background research and ethics section; coordinate meeting with TA; set deadlines | \n",
    "| 4/22  |  6 AM |  Check with TA if our RQ is feasible; Do background research on topic; formalize hypothesis; complete ethics section; search for datasets | Review and submit the proposal by the deadline (4/22); Checkpoint survey | \n",
    "| 4/26  | 3 PM  | Download and go over the Data; understand what each column stands for.   | Discuss Wrangling and possible analytical approaches; Assign group members to lead each specific part; Review/Edit wrangling/EDA; Discuss Analysis Plan; Checkpoint survey   |\n",
    "| 5/3  | 6 PM  | Finalize wrangling/EDA; Begin Analysis of Kaggle Data | Discuss/edit Analysis; Complete project check-in; Checkpoint survey   |\n",
    "| 5/10  | 3 PM  |Do some analysis | Discuss/edit Analysis; Discuss visualizing strategies; Checkpoint survey |\n",
    "| 5/17  | 3 PM  | Complete analysis; Draft results/conclusion/discussion| Discuss/edit full project; Checkpoint survey |\n",
    "| 5/24  | 3 PM  | Complete results, conclusion, discussion | Discuss/edit full project; Discuss plan for project video; Checkpoint survey |\n", 
    "| 5/31  | 3 PM  | Record parts for video | Discuss/edit full project; Discuss plan for project video; Checkpoint survey |\n", 
    "| 6/06  | before 11:59 PM  | Edit project video | Review and turn in Final Project, Video, Group Project Surveys |\n"
   ]
  }
 ],
 "metadata": {
  "kernelspec": {
   "display_name": "Python 3",
   "language": "python",
   "name": "python3"
  },
  "language_info": {
   "codemirror_mode": {
    "name": "ipython",
    "version": 3
   },
   "file_extension": ".py",
   "mimetype": "text/x-python",
   "name": "python",
   "nbconvert_exporter": "python",
   "pygments_lexer": "ipython3",
   "version": "3.7.9"
  }
 },
 "nbformat": 4,
 "nbformat_minor": 2
}
