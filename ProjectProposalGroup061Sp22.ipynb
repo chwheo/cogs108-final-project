{
 "cells": [
  {
   "cell_type": "markdown",
   "metadata": {},
   "source": [
    "# COGS 108 - Final Project Proposal"
   ]
  },
  {
   "cell_type": "markdown",
   "metadata": {},
   "source": [
    "# Names\n",
    "\n",
    "- Arnav Tayal\n",
    "- Chaewon Heo\n",
    "- Martha Chow\n",
    "- Zhiyi Zhu\n"
   ]
  },
  {
   "cell_type": "markdown",
   "metadata": {},
   "source": [
    "# Research Question"
   ]
  },
  {
   "cell_type": "markdown",
   "metadata": {},
   "source": [
    "Main question: Are characteristics of an individual’s diet (such as the amount of calories, macronutrients, and/or micronutrients) correlated with their likelihood of contracting COVID-19? \n",
    "\n",
    "Sub-questions: Can we correlate diet type (eg. vegetarian, keto, pescetarian) with an individual’s likelihood of contracting COVID-19? Which characteristic is the strongest predictor? \n",
    "\n",
    "Potential extension: Does correlation between a characteristic necessarily mean causation (eg. If we find that there is a positive correlation between kcal/day and likelihood of contracting COVID-19, does that necessarily mean that a high calorie diet leads to higher vulnerability to COVID-19?)? How much literature is there on databases to support the causal relationship?"

   ]
  },
  {
   "cell_type": "markdown",
   "metadata": {},
   "source": [
    "## Background and Prior Work"
   ]
  },
  {
   "cell_type": "markdown",
   "metadata": {},
   "source": [
    "With the prevalence of the COVID-19 in recent years, multiple actions are taken to protect people from getting infected and help people recover. One possible action is to eat a healthy diet, since it is commonly heard that eating a healthy diet has multiple benefits, such as lowering risks for multiple common diseases, supporting muscle, and boosting immunity [^1]. According to the World Health Organization, a healthy diet is balanced calorically with energy expenditure; low in saturated fats, trans fats, free sugar, salt; and high in vegetables, fruits, whole grains, and legumes). [^2]\n",
 "\n",
"Multiple studies have shown that there are correlations between certain dietary components and general health. For example, dietary fatty acids are found to have a significant role in immune responses and thus support immunity [^3]; Consuming a good source of protein at least twice a day can help maintaining strong respiratory muscles [^4], and high levels of certain vegetables are essential for sustaining intestinal immune function [^5]. However, these findings do not directly address whether there’s a correlation between certain dietary components and COVID-19.\n",
"\n",
"There are existing efforts to study healthy eating as a non-pharmaceutical intervention for COVID-19 [^6]. A dataset that details the typical characteristics of a country’s diet, as well as its obesity and COVID-19 rates, has been compiled. It is based on findings from organizations such as the UN and Johns Hopkins university. Potential concerns with the data include accuracy, inconsistencies in units, and collection from different years (which could make comparisons unfair). Notable conclusions from analysis so far include that \"COVID-19 confirmed percentage is less in the countries where Animal Product Protein consumption is low like India\", \"countries where obesity is low COVID-19 cases are low\", and \"​​ The countries with the most recovered rate seem to consume more vegetables than people on average\".\n",
"\n",
"It is worth noting that existing analysis on the dataset is incomplete, scattered, and presented in a confusing way (eg. relevant information like vegetable consumptions vs recovery rate is mixed in with irrelevant information like vegetable consumption vs alcohol consumption). There also  seems to be a stronger emphasis on establishing the relationship between obesity and COVID-19 rates rather than diet and COVID-19 rates.\n",
"[^1]: \"Benefits of Healthy Eating | Nutrition | DNPAO.\" *CDC*, 16 May 2021, https://www.cdc.gov/nutrition/resources-publications/benefits-of-healthy-eating.html. Accessed 22 April 2022. \n",
"[^2]: \"Healthy diet.\" *WHO | World Health Organization*, 29 April 2020, https://www.who.int/news-room/fact-sheets/detail/healthy-diet. Accessed 22 April 2022. \n",
"[^3]: Radzikowska, Urszula. \"The Influence of Dietary Fatty Acids on Immune Responses.\" *MDPI*, 2019, https://doi.org/10.3390/nu11122990. Accessed 22 April 2022.\n",
"[^4]: \"Nutrition and COPD.\" *American Lung Association*, https://www.lung.org/lung-health-diseases/lung-disease-lookup/copd/living-with-copd/nutrition. Accessed 22 April 2022.\n",
"[^5]: Hooper, Lora V. \"You AhR what you eat: linking diet and immunity.\" *Cell* vol. 147,3 (2011): 489-91. doi:10.1016/j.cell.2011.10.004 \n",
"[^6]: Ren, Maria. \"COVID-19 Healthy Diet Dataset.\" *Kaggle*, https://www.kaggle.com/datasets/mariaren/covid19-healthy-diet-dataset. Accessed 22 April 2022. \n "
   ]
  },
  {
   "cell_type": "markdown",
   "metadata": {},
   "source": [
    "# Hypothesis\n"
   ]
  },
  {
   "cell_type": "markdown",
   "metadata": {},
   "source": [
    "The characteristics of an individual’s diet is correlated with the likelihood of COVID-19 infection. Diets types that are correlated with decreased incidence of COVID-19 infection have common characteristics. \n",
"Justification: based on past research, those who consume a healthy diet tend to be less likely to contract disease. As such, we predict that COVID-19 will fit this trend. \n",
"\n",
"Of all characteristics, amount of calories (units TBC, likely to be per year) is the most accurate predictor of likelihood to contract COVID-19.  \n",
"Justification: Although calories do not necessarily represent the quality of one’s diet, it is generally the case that a diet high in calories is a poor diet. We can’t say this with as much confidence for other characteristics that are more ‘specific’ (calories can come from a range of nutrients, fat content is only based on one type of nutrient)."

   ]
  },
  {
   "cell_type": "markdown",
   "metadata": {},
   "source": [
    "# Data"
   ]
  },
  {
   "cell_type": "markdown",
   "metadata": {},
   "source": [
    "We intend to have variables to represent food quality metrics (% fat quantity, energy intake (kcal), food supply quantity(kg) % protein), obesity rates, undernourished rates, and the number of COVID 19 cases. Ideally these variables will be stored in structured format, most likely using a pandas dataframe to ensure each column has a different variable and each row is of a different observation. We can also store this data in a semi-structured format, such as a JSON file. \n",
"\n",
"We would ideally like to draw our observations from a sample of at least several hundred people as we intend to apply our findings to a global scale and make comparisons of diet vs COVID-19 infection relationship between different regions of the world. These observations would come from published data from the Food and Agriculture United Nations. The COVID data and observations would come from Johns Hopkins Center for Systems Science and Engineering. We intend to evaluate trends from the past 2 years, starting from April 2020."
   ]
  },
  {
   "cell_type": "markdown",
   "metadata": {},
   "source": [
    "# Ethics & Privacy"
   ]
  },
  {
   "cell_type": "markdown",
   "metadata": {},
   "source": [
    "The dataset for food supply, nutrition values, obesity, and undernourished percentages were collected from United Nations Food and Agricultural Organizations website; the dataset for population count were collected from Population Reference Bureau; the dataset for COVID-19 cases were collected from Johns Hopkins Center for Systems Science and Engineering website. Because all dataset are de-identified and are collected from global organizations, there is no exposure of personally identifiable information nor terms of use issues as well as no collection bias. \n",
"\n",
"However, dataset bias may be present due to imbalance of population data for each country. Such issues should be able to be resolved through normalization of data per country (e.g. using proportions) before and during the analysis. This will secure equitable analysis and fairness across groups. \n"
   ]
  },
  {
   "cell_type": "markdown",
   "metadata": {},
   "source": [
    "# Team Expectations "
   ]
  },
  {
   "cell_type": "markdown",
   "metadata": {},
   "source": [
"* Communicating with one another in a timely manner about tasks to be completed \n",
"* Be transparent about schedules and understanding when others are busy (within reason) \n",
"* Set and respect deadlines after every meeting \n",
"* Give each other feedback regularly and be receptive to others’ comments"
   ]
  },
  {
   "cell_type": "markdown",
   "metadata": {},
   "source": [
    "# Project Timeline Proposal"
   ]
  },
  {
   "cell_type": "markdown",
   "metadata": {},
   "source": [
    "| Meeting Date  | Meeting Time| Completed Before Meeting  | Discuss at Meeting |\n",
    "|---|---|---|---|\n",
    "| 4/1 |  3 PM | Read & Think about COGS 108 expectations; brainstorm topics/questions  | Draft project topic and research question; discuss hypothesis; divide workload for background research and ethics section; coordinate meeting with TA; set deadlines | \n",
    "| 4/22 |  6 PM | Check with TA if our RQ is feasible; Do background research on topic; formalize hypothesis; complete ethics section; search for datasets | Review and submit the proposal by the deadline; Checkpoint survey | \n",
    "| 4/26  | 6 PM  | Download and go over the Data; understand what each column stands for.   |  Discuss Wrangling and possible analytical approaches; Assign group members to lead each specific part; Review/Edit wrangling/EDA; Discuss Analysis Plan; Checkpoint survey   |\n",
    "| 5/3  | 6 PM  | Finalize wrangling/EDA; Begin Analysis of Kaggle Data | Discuss/edit Analysis; Complete project check-in; Checkpoint survey   |\n",
    "| 5/10  | 6 PM  | Do some analysis | Discuss/edit Analysis; Discuss visualizing strategies; Checkpoint survey |\n",
    "| 5/17 | 6 PM  | Complete analysis; Draft results/conclusion/discussion| Discuss/edit full project; Checkpoint survey |\n",
    "| 5/24  | 6 PM  | Complete results, conclusion, discussion | Discuss/edit full project; Discuss plan for project video; Checkpoint survey |"
    "| 5/31  | 6 PM  | Record parts for video | Discuss/edit full project and video; Checkpoint survey |"
    "| 6/06  | Before 11:59 PM  | Edit project video | Review and turn in Final Project, Video, Group Project Surveys |"
   ]
  }
 ],
 "metadata": {
  "kernelspec": {
   "display_name": "Python 3",
   "language": "python",
   "name": "python3"
  },
  "language_info": {
   "codemirror_mode": {
    "name": "ipython",
    "version": 3
   },
   "file_extension": ".py",
   "mimetype": "text/x-python",
   "name": "python",
   "nbconvert_exporter": "python",
   "pygments_lexer": "ipython3",
   "version": "3.7.9"
  }
 },
 "nbformat": 4,
 "nbformat_minor": 2
}
