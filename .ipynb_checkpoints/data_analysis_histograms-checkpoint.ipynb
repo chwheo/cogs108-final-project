{
 "cells": [
  {
   "cell_type": "code",
   "execution_count": 6,
   "id": "053ba735",
   "metadata": {},
   "outputs": [
    {
     "name": "stdout",
     "output_type": "stream",
     "text": [
      "Requirement already satisfied: patsy in c:\\users\\arnav\\appdata\\roaming\\jupyterlab-desktop\\jlab_server\\lib\\site-packages (0.5.2)\n",
      "Requirement already satisfied: numpy>=1.4 in c:\\users\\arnav\\appdata\\roaming\\jupyterlab-desktop\\jlab_server\\lib\\site-packages (from patsy) (1.22.3)\n",
      "Requirement already satisfied: six in c:\\users\\arnav\\appdata\\roaming\\jupyterlab-desktop\\jlab_server\\lib\\site-packages (from patsy) (1.16.0)\n",
      "Note: you may need to restart the kernel to use updated packages.\n"
     ]
    }
   ],
   "source": [
    "pip install patsy"
   ]
  },
  {
   "cell_type": "code",
   "execution_count": 3,
   "id": "21ed3920",
   "metadata": {},
   "outputs": [],
   "source": [
    "import pandas as pd\n",
    "import numpy as np\n",
    "import seaborn as sns\n",
    "import matplotlib.pyplot as plt\n",
    "import statsmodels.api as sm\n",
    "import patsy\n",
    "# packages for importing files\n",
    "import os\n",
    "import glob"
   ]
  },
  {
   "cell_type": "markdown",
   "id": "627954f7",
   "metadata": {},
   "source": [
    "## Creating Summary Dataframe ##"
   ]
  },
  {
   "cell_type": "code",
   "execution_count": null,
   "id": "2cbee91b",
   "metadata": {},
   "outputs": [],
   "source": [
    "# import intermediate csv\n",
    "path = 'intermediate_csv/'\n",
    "df_fat = pd.read_csv(path + 'fat.csv')\n",
    "df_protein = pd.read_csv(path + 'protein.csv')\n",
    "df_quantity = pd.read_csv(path + 'quantity.csv')\n",
    "\n",
    "col_names = df_fat.columns"
   ]
  },
  {
   "cell_type": "code",
   "execution_count": null,
   "id": "4265dd4c",
   "metadata": {},
   "outputs": [],
   "source": [
    "df_fat.head(3)"
   ]
  },
  {
   "cell_type": "code",
   "execution_count": null,
   "id": "8842ec71",
   "metadata": {},
   "outputs": [],
   "source": [
    "df_protein.head(3)"
   ]
  },
  {
   "cell_type": "code",
   "execution_count": null,
   "id": "018e65e6",
   "metadata": {},
   "outputs": [],
   "source": [
    "df_quantity.head(3)"
   ]
  },
  {
   "cell_type": "code",
   "execution_count": null,
   "id": "620eb2e9",
   "metadata": {},
   "outputs": [],
   "source": [
    "col_names"
   ]
  },
  {
   "cell_type": "code",
   "execution_count": null,
   "id": "ddaa23a6",
   "metadata": {},
   "outputs": [],
   "source": [
    "country_names = list(df_fat['country'])\n",
    "covid_names = ['confirmed', 'deaths', 'recovered', 'active',\n",
    "       'population']\n",
    "macronutrient_source_names = ['alcoholic_beverages', 'animal_fats',\n",
    "       'animal_products', 'aquatic_products_other', 'cereals_excluding_beer',\n",
    "       'eggs', 'fish_seafood', 'fruits_excluding_wine', 'meat',\n",
    "       'milk_excluding_butter', 'miscellaneous', 'offals', 'oilcrops',\n",
    "       'pulses', 'spices', 'starchy_roots', 'stimulants', 'sugar_crops',\n",
    "       'sugar_sweeteners', 'treenuts', 'vegetable_oils', 'vegetables',\n",
    "       'vegetal_products']"
   ]
  },
  {
   "cell_type": "code",
   "execution_count": null,
   "id": "a1f9762c",
   "metadata": {},
   "outputs": [],
   "source": [
    "# yearly fat intake of first three countries (alphabetical) (unit: kg/capita/yr)\n",
    "fat_sum = df_fat[macronutrient_source_names].sum(axis=1)\n",
    "fat_sum.head(3)"
   ]
  },
  {
   "cell_type": "code",
   "execution_count": null,
   "id": "6e56d602",
   "metadata": {},
   "outputs": [],
   "source": [
    "# yearly protein intake of first three countries (alphabetical) (unit: kg/capita/yr)\n",
    "protein_sum = df_protein[macronutrient_source_names].sum(axis=1)\n",
    "protein_sum.head(3)"
   ]
  },
  {
   "cell_type": "code",
   "execution_count": null,
   "id": "ac785a48",
   "metadata": {
    "scrolled": true
   },
   "outputs": [],
   "source": [
    "# create macronutrients summary dataframe\n",
    "df_macro = pd.DataFrame({'country': country_names,\n",
    "                          'fat_sum': fat_sum,\n",
    "                          'protein_sum': protein_sum})"
   ]
  },
  {
   "cell_type": "code",
   "execution_count": null,
   "id": "fdaac5f0",
   "metadata": {},
   "outputs": [],
   "source": [
    "df_macro.head(3)"
   ]
  },
  {
   "cell_type": "code",
   "execution_count": null,
   "id": "4440999b",
   "metadata": {},
   "outputs": [],
   "source": [
    "fat_max, protein_max = max(df_macro['fat_sum']), max(df_macro['protein_sum'])\n",
    "print('Maximum Fat Value: ' + str(fat_max), '\\nMaximum Protein Value: ' + str(protein_max))"
   ]
  },
  {
   "cell_type": "code",
   "execution_count": null,
   "id": "b6f4b391",
   "metadata": {},
   "outputs": [],
   "source": [
    "# TODO: create carbs dataframe\n",
    "    # -> when trying to create carbs dataframe from 1 - fat - protein, the values become negative for some reason??\n",
    "    # -> calculating the max fat & protein values, some are over 100%?? maybe i'm interpreting wrong can someone check\n",
    "# TODO: combine carbs dataframe with summary dataframe"
   ]
  },
  {
   "cell_type": "code",
   "execution_count": null,
   "id": "6955e9e0",
   "metadata": {},
   "outputs": [],
   "source": [
    "df_covid = df_fat[['country'] + covid_names]\n",
    "df_covid.head(3)"
   ]
  },
  {
   "cell_type": "markdown",
   "id": "d5b8d26e",
   "metadata": {},
   "source": [
    "## Histogram of Worldwide Macronutrient Distribution ##\n",
    "* `x` : percentage ranges\n",
    "* `y` : count of countries that fall under the percentage range"
   ]
  },
  {
   "cell_type": "code",
   "execution_count": null,
   "id": "81cc2675",
   "metadata": {},
   "outputs": [],
   "source": [
    "# fat intake distribution worldwide\n",
    "fig1 = sns.histplot(x='fat_sum', data=df_macro, stat='count', bins=20)"
   ]
  },
  {
   "cell_type": "code",
   "execution_count": null,
   "id": "d41b7834",
   "metadata": {},
   "outputs": [],
   "source": [
    "# protein intake distribution worldwide\n",
    "fig2 = sns.histplot(x='protein_sum', data=df_macro, stat='count', bins=20)"
   ]
  },
  {
   "cell_type": "code",
   "execution_count": null,
   "id": "b1f9fab3",
   "metadata": {},
   "outputs": [],
   "source": [
    "# TODO: check if the histrograms look correct. right now \n",
    "# TODO: create carbs intake distribution worldwide"
   ]
  },
  {
   "cell_type": "markdown",
   "id": "e6a80f29",
   "metadata": {},
   "source": [
    "## Histogram of Worldwide Covid Distribution ##\n",
    "* `x` : percentage of each case\n",
    "* `y` : count of countries that fall under each bin"
   ]
  },
  {
   "cell_type": "code",
   "execution_count": null,
   "id": "8289e6ba",
   "metadata": {},
   "outputs": [],
   "source": [
    "print('Total number of countries in the dataset: ', len(df_covid['country']))"
   ]
  },
  {
   "cell_type": "code",
   "execution_count": null,
   "id": "18d1dfc2",
   "metadata": {},
   "outputs": [],
   "source": [
    "# covid confirmed cases distribution worldwide\n",
    "fig3 = sns.histplot(x='confirmed', data=df_covid, stat='count', bins=20)"
   ]
  },
  {
   "cell_type": "code",
   "execution_count": null,
   "id": "030e4b9e",
   "metadata": {},
   "outputs": [],
   "source": [
    "# covid deaths cases distribution worldwide\n",
    "fig4 = sns.histplot(x='deaths', data=df_covid, stat='count', bins=20)"
   ]
  },
  {
   "cell_type": "code",
   "execution_count": null,
   "id": "78192d98",
   "metadata": {},
   "outputs": [],
   "source": [
    "# covid recovered cases distribution worldwide\n",
    "fig3 = sns.histplot(x='recovered', data=df_covid, stat='count', bins=20)"
   ]
  },
  {
   "cell_type": "code",
   "execution_count": null,
   "id": "717d6143",
   "metadata": {},
   "outputs": [],
   "source": [
    "# covid active cases distribution worldwide\n",
    "fig3 = sns.histplot(x='active', data=df_covid, stat='count', bins=20)"
   ]
  },
  {
   "cell_type": "code",
   "execution_count": null,
   "id": "c1482bc4",
   "metadata": {},
   "outputs": [],
   "source": [
    "# TODO: regression + other analysis?"
   ]
  },
  {
   "cell_type": "markdown",
   "id": "db8e2dec-71bf-4e16-bb0d-3b2e2ef346a3",
   "metadata": {},
   "source": [
    "## Is there a correlation between macronutrient consumption and COVID rates in a country? ##"
   ]
  },
  {
   "cell_type": "code",
   "execution_count": null,
   "id": "803cf0fd-f06e-448b-b3ee-9650964cab78",
   "metadata": {},
   "outputs": [],
   "source": []
  }
 ],
 "metadata": {
  "kernelspec": {
   "display_name": "Python 3 (ipykernel)",
   "language": "python",
   "name": "python3"
  },
  "language_info": {
   "codemirror_mode": {
    "name": "ipython",
    "version": 3
   },
   "file_extension": ".py",
   "mimetype": "text/x-python",
   "name": "python",
   "nbconvert_exporter": "python",
   "pygments_lexer": "ipython3",
   "version": "3.8.13"
  }
 },
 "nbformat": 4,
 "nbformat_minor": 5
}
