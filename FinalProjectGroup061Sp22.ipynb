{
 "cells": [
  {
   "cell_type": "markdown",
   "metadata": {},
   "source": [
    "# COGS 108 - Final Project (change this to your project's title)"
   ]
  },
  {
   "cell_type": "markdown",
   "metadata": {},
   "source": [
    "## Permissions\n",
    "\n",
    "Place an `X` in the appropriate bracket below to specify if you would like your group's project to be made available to the public. (Note that student names will be included (but PIDs will be scraped from any groups who include their PIDs).\n",
    "\n",
    "* [  ] YES - make available\n",
    "* [  ] NO - keep private"
   ]
  },
  {
   "cell_type": "markdown",
   "metadata": {},
   "source": [
    "# Overview"
   ]
  },
  {
   "cell_type": "markdown",
   "metadata": {},
   "source": [
    "*Fill in your overview here*"
   ]
  },
  {
   "cell_type": "markdown",
   "metadata": {},
   "source": [
    "# Names\n",
    "\n",
    "- Arnav Tayal\n",
    "- Chaewon Heo\n",
    "- Martha Chow\n",
    "- Zhiyi Zhu"
   ]
  },
  {
   "cell_type": "markdown",
   "metadata": {},
   "source": [
    "<a id='research_question'></a>\n",
    "# Research Question"
   ]
  },
  {
   "cell_type": "markdown",
   "metadata": {},
   "source": [
    "Main question: Are characteristics of an individual’s diet (such as the amount of calories, macronutrients, and/or micronutrients) correlated with their likelihood of contracting COVID-19? \n",
    "\n",
    "Sub-questions: Can we correlate diet type (eg. vegetarian, keto, pescetarian) with an individual’s likelihood of contracting COVID-19? Which characteristic is the strongest predictor? "
   ]
  },
  {
   "cell_type": "markdown",
   "metadata": {},
   "source": [
    "<a id='background'></a>\n",
    "\n",
    "## Background & Prior Work"
   ]
  },
  {
   "cell_type": "markdown",
   "metadata": {},
   "source": [
    "With the prevalence of the COVID-19 in recent years, multiple actions are taken to protect people from getting infected and help people recover. One possible action is to eat a healthy diet, since it is commonly heard that eating a healthy diet has multiple benefits, such as lowering risks for multiple common diseases, supporting muscle, and boosting immunity [^1]. According to the World Health Organization, a healthy diet is balanced calorically with energy expenditure; low in saturated fats, trans fats, free sugar, salt; and high in vegetables, fruits, whole grains, and legumes). [^2]\n",
    "\n",
    "Multiple studies have shown that there are correlations between certain dietary components and general health. For example, dietary fatty acids are found to have a significant role in immune responses and thus support immunity [^3]; Consuming a good source of protein at least twice a day can help maintaining strong respiratory muscles [^4], and high levels of certain vegetables are essential for sustaining intestinal immune function [^5]. However, these findings do not directly address whether there’s a correlation between certain dietary components and COVID-19.\n",
    "\n",
    "There are existing efforts to study healthy eating as a non-pharmaceutical intervention for COVID-19 [^6]. A dataset that details the typical characteristics of a country’s diet, as well as its obesity and COVID-19 rates, has been compiled. It is based on findings from organizations such as the UN and Johns Hopkins university. Potential concerns with the data include accuracy, inconsistencies in units, and collection from different years (which could make comparisons unfair). Notable conclusions from analysis so far include that \"COVID-19 confirmed percentage is less in the countries where Animal Product Protein consumption is low like India\", \"countries where obesity is low COVID-19 cases are low\", and \"​​ The countries with the most recovered rate seem to consume more vegetables than people on average\".\n",
    "\n",
    "It is worth noting that existing analysis on the dataset is incomplete, scattered, and presented in a confusing way (eg. relevant information like vegetable consumptions vs recovery rate is mixed in with irrelevant information like vegetable consumption vs alcohol consumption). There also  seems to be a stronger emphasis on establishing the relationship between obesity and COVID-19 rates rather than diet and COVID-19 rates.\n",
    "[^1]: \"Benefits of Healthy Eating | Nutrition | DNPAO.\" *CDC*, 16 May 2021, https://www.cdc.gov/nutrition/resources-publications/benefits-of-healthy-eating.html. Accessed 22 April 2022. \n",
    "[^2]: \"Healthy diet.\" *WHO | World Health Organization*, 29 April 2020, https://www.who.int/news-room/fact-sheets/detail/healthy-diet. Accessed 22 April 2022. \n",
    "[^3]: Radzikowska, Urszula. \"The Influence of Dietary Fatty Acids on Immune Responses.\" *MDPI*, 2019, https://doi.org/10.3390/nu11122990. Accessed 22 April 2022.\n",
    "[^4]: \"Nutrition and COPD.\" *American Lung Association*, https://www.lung.org/lung-health-diseases/lung-disease-lookup/copd/living-with-copd/nutrition. Accessed 22 April 2022.\n",
    "[^5]: Hooper, Lora V. \"You AhR what you eat: linking diet and immunity.\" *Cell* vol. 147,3 (2011): 489-91. doi:10.1016/j.cell.2011.10.004 \n",
    "[^6]: Ren, Maria. \"COVID-19 Healthy Diet Dataset.\" *Kaggle*, https://www.kaggle.com/datasets/mariaren/covid19-healthy-diet-dataset. Accessed 22 April 2022. "
   ]
  },
  {
   "cell_type": "markdown",
   "metadata": {},
   "source": [
    "# Hypothesis\n"
   ]
  },
  {
   "cell_type": "markdown",
   "metadata": {},
   "source": [
    "The characteristics of an individual’s diet is correlated with the likelihood of COVID-19 infection. Diets types that are correlated with decreased incidence of COVID-19 infection have common characteristics. \n",
    "Justification: based on past research, those who consume a healthy diet tend to be less likely to contract disease. As such, we predict that COVID-19 will fit this trend. \n",
    "\n",
    "Of all characteristics, amount of calories (units TBC, likely to be per year) is the most accurate predictor of likelihood to contract COVID-19.  \n",
    "Justification: Although calories do not necessarily represent the quality of one’s diet, it is generally the case that a diet high in calories is a poor diet. We can’t say this with as much confidence for other characteristics that are more ‘specific’ (calories can come from a range of nutrients, fat content is only based on one type of nutrient)."
   ]
  },
  {
   "cell_type": "markdown",
   "metadata": {},
   "source": [
    "# Dataset(s)"
   ]
  },
  {
   "cell_type": "markdown",
   "metadata": {},
   "source": [
    "\n",
    "- Dataset Name: Supply_Quantity_Kg\n",
    "- Link to the dataset:https://github.com/mariarencode/COVID_19_Dataset_Challenge/tree/master/Food_Supply_Quantity_Kg\n",
    "- Number of observations: 174\n",
    "\n",
    "Each file in this dataset records the amount of a particular food category of each country in kilograms/capita/yr\n",
    "\n",
    "- Dataset Name: Fat Supply\n",
    "- Link to the dataset: https://github.com/mariarencode/COVID_19_Dataset_Challenge/tree/master/Fat_Supply\n",
    "- Number of observations: 174\n",
    "\n",
    "Each file in this dataset records the amount of fat in a particular food category of each country in grams/capita/yr\n",
    "\n",
    "- Dataset Name: Protein Supply\n",
    "- Link to the dataset: https://github.com/mariarencode/COVID_19_Dataset_Challenge/tree/master/Protein_Supply\n",
    "- Number of observations: 174\n",
    "\n",
    "Each file in this dataset records the amount of protein in a particular food category of each country in grams/capita/yr\n",
    "\n",
    "We plan to pick particular columns from these datasets and combine them using the merge function in pandas, each row will be unique to a country "
   ]
  },
  {
   "cell_type": "markdown",
   "metadata": {},
   "source": [
    "# Setup"
   ]
  },
  {
   "cell_type": "code",
   "execution_count": 1,
   "metadata": {},
   "outputs": [],
   "source": [
    "import pandas as pd\n",
    "import numpy as np\n",
    "import seaborn as sns\n",
    "import matplotlib.pyplot as plt\n",
    "\n",
    "# packages for importing files\n",
    "import os\n",
    "import glob"
   ]
  },
  {
   "cell_type": "markdown",
   "metadata": {},
   "source": [
    "__Get the add the Confirmed,Deaths,Recovered,Active,Population to the dataframe; those are directly extracted from the dataframe that records the precentages. Due to the time dependence of active COVID cases, it will be excluded from analysis. Beside the population, the unit for the other 3 quantitative columns are in percentages.__"
   ]
  },
  {
   "cell_type": "code",
   "execution_count": 2,
   "metadata": {},
   "outputs": [
    {
     "data": {
      "text/html": [
       "<div>\n",
       "<style scoped>\n",
       "    .dataframe tbody tr th:only-of-type {\n",
       "        vertical-align: middle;\n",
       "    }\n",
       "\n",
       "    .dataframe tbody tr th {\n",
       "        vertical-align: top;\n",
       "    }\n",
       "\n",
       "    .dataframe thead th {\n",
       "        text-align: right;\n",
       "    }\n",
       "</style>\n",
       "<table border=\"1\" class=\"dataframe\">\n",
       "  <thead>\n",
       "    <tr style=\"text-align: right;\">\n",
       "      <th></th>\n",
       "      <th>Country</th>\n",
       "      <th>Confirmed</th>\n",
       "      <th>Deaths</th>\n",
       "      <th>Recovered</th>\n",
       "      <th>Population</th>\n",
       "    </tr>\n",
       "  </thead>\n",
       "  <tbody>\n",
       "    <tr>\n",
       "      <th>0</th>\n",
       "      <td>Afghanistan</td>\n",
       "      <td>0.142134</td>\n",
       "      <td>0.006186</td>\n",
       "      <td>0.123374</td>\n",
       "      <td>38928000.0</td>\n",
       "    </tr>\n",
       "    <tr>\n",
       "      <th>1</th>\n",
       "      <td>Albania</td>\n",
       "      <td>2.967301</td>\n",
       "      <td>0.050951</td>\n",
       "      <td>1.792636</td>\n",
       "      <td>2838000.0</td>\n",
       "    </tr>\n",
       "    <tr>\n",
       "      <th>2</th>\n",
       "      <td>Algeria</td>\n",
       "      <td>0.244897</td>\n",
       "      <td>0.006558</td>\n",
       "      <td>0.167572</td>\n",
       "      <td>44357000.0</td>\n",
       "    </tr>\n",
       "    <tr>\n",
       "      <th>3</th>\n",
       "      <td>Angola</td>\n",
       "      <td>0.061687</td>\n",
       "      <td>0.001461</td>\n",
       "      <td>0.056808</td>\n",
       "      <td>32522000.0</td>\n",
       "    </tr>\n",
       "    <tr>\n",
       "      <th>4</th>\n",
       "      <td>Antigua and Barbuda</td>\n",
       "      <td>0.293878</td>\n",
       "      <td>0.007143</td>\n",
       "      <td>0.190816</td>\n",
       "      <td>98000.0</td>\n",
       "    </tr>\n",
       "    <tr>\n",
       "      <th>5</th>\n",
       "      <td>Argentina</td>\n",
       "      <td>4.356147</td>\n",
       "      <td>0.108227</td>\n",
       "      <td>3.905192</td>\n",
       "      <td>45377000.0</td>\n",
       "    </tr>\n",
       "  </tbody>\n",
       "</table>\n",
       "</div>"
      ],
      "text/plain": [
       "               Country  Confirmed    Deaths  Recovered  Population\n",
       "0          Afghanistan   0.142134  0.006186   0.123374  38928000.0\n",
       "1              Albania   2.967301  0.050951   1.792636   2838000.0\n",
       "2              Algeria   0.244897  0.006558   0.167572  44357000.0\n",
       "3               Angola   0.061687  0.001461   0.056808  32522000.0\n",
       "4  Antigua and Barbuda   0.293878  0.007143   0.190816     98000.0\n",
       "5            Argentina   4.356147  0.108227   3.905192  45377000.0"
      ]
     },
     "execution_count": 2,
     "metadata": {},
     "output_type": "execute_result"
    }
   ],
   "source": [
    "df_covid = pd.read_csv('Food_Supply_Quantity_kg_Data.csv',usecols=['Country','Confirmed','Deaths','Recovered','Population'])\n",
    "df_covid.head(6)"
   ]
  },
  {
   "cell_type": "markdown",
   "metadata": {},
   "source": [
    "# Data Cleaning"
   ]
  },
  {
   "cell_type": "markdown",
   "metadata": {},
   "source": [
    "__Process data for food quantity (unit: kg/capita/yr)__"
   ]
  },
  {
   "cell_type": "code",
   "execution_count": 3,
   "metadata": {},
   "outputs": [],
   "source": [
    "# read in most csvs as a list\n",
    "path = 'Food_Supply_Quantity_Kg'\n",
    "all_files = glob.glob(os.path.join(path, \"*.csv\"))"
   ]
  },
  {
   "cell_type": "code",
   "execution_count": 4,
   "metadata": {},
   "outputs": [],
   "source": [
    "# function that standardize food name; all lowercase + no space + no special character\n",
    "def getName(n):\n",
    "    name = n.replace(' ','_')\n",
    "    name = name.replace('-','')\n",
    "    name = name.replace(',','')\n",
    "    name = name.replace('&','')\n",
    "    name = name.replace('__','_')\n",
    "    return name.lower()"
   ]
  },
  {
   "cell_type": "code",
   "execution_count": 5,
   "metadata": {},
   "outputs": [
    {
     "name": "stderr",
     "output_type": "stream",
     "text": [
      "/var/folders/9p/qyg5n1n16k759vt2__6rzxl40000gn/T/ipykernel_2117/1764355593.py:5: FutureWarning: In a future version of pandas all arguments of DataFrame.drop except for the argument 'labels' will be keyword-only.\n",
      "  df_quantity = df_quantity.drop('Item', 1)\n",
      "/var/folders/9p/qyg5n1n16k759vt2__6rzxl40000gn/T/ipykernel_2117/1764355593.py:13: FutureWarning: In a future version of pandas all arguments of DataFrame.drop except for the argument 'labels' will be keyword-only.\n",
      "  tmp = tmp.drop('Item', 1)\n",
      "/var/folders/9p/qyg5n1n16k759vt2__6rzxl40000gn/T/ipykernel_2117/1764355593.py:13: FutureWarning: In a future version of pandas all arguments of DataFrame.drop except for the argument 'labels' will be keyword-only.\n",
      "  tmp = tmp.drop('Item', 1)\n",
      "/var/folders/9p/qyg5n1n16k759vt2__6rzxl40000gn/T/ipykernel_2117/1764355593.py:13: FutureWarning: In a future version of pandas all arguments of DataFrame.drop except for the argument 'labels' will be keyword-only.\n",
      "  tmp = tmp.drop('Item', 1)\n",
      "/var/folders/9p/qyg5n1n16k759vt2__6rzxl40000gn/T/ipykernel_2117/1764355593.py:13: FutureWarning: In a future version of pandas all arguments of DataFrame.drop except for the argument 'labels' will be keyword-only.\n",
      "  tmp = tmp.drop('Item', 1)\n",
      "/var/folders/9p/qyg5n1n16k759vt2__6rzxl40000gn/T/ipykernel_2117/1764355593.py:13: FutureWarning: In a future version of pandas all arguments of DataFrame.drop except for the argument 'labels' will be keyword-only.\n",
      "  tmp = tmp.drop('Item', 1)\n",
      "/var/folders/9p/qyg5n1n16k759vt2__6rzxl40000gn/T/ipykernel_2117/1764355593.py:13: FutureWarning: In a future version of pandas all arguments of DataFrame.drop except for the argument 'labels' will be keyword-only.\n",
      "  tmp = tmp.drop('Item', 1)\n",
      "/var/folders/9p/qyg5n1n16k759vt2__6rzxl40000gn/T/ipykernel_2117/1764355593.py:13: FutureWarning: In a future version of pandas all arguments of DataFrame.drop except for the argument 'labels' will be keyword-only.\n",
      "  tmp = tmp.drop('Item', 1)\n",
      "/var/folders/9p/qyg5n1n16k759vt2__6rzxl40000gn/T/ipykernel_2117/1764355593.py:13: FutureWarning: In a future version of pandas all arguments of DataFrame.drop except for the argument 'labels' will be keyword-only.\n",
      "  tmp = tmp.drop('Item', 1)\n",
      "/var/folders/9p/qyg5n1n16k759vt2__6rzxl40000gn/T/ipykernel_2117/1764355593.py:13: FutureWarning: In a future version of pandas all arguments of DataFrame.drop except for the argument 'labels' will be keyword-only.\n",
      "  tmp = tmp.drop('Item', 1)\n",
      "/var/folders/9p/qyg5n1n16k759vt2__6rzxl40000gn/T/ipykernel_2117/1764355593.py:13: FutureWarning: In a future version of pandas all arguments of DataFrame.drop except for the argument 'labels' will be keyword-only.\n",
      "  tmp = tmp.drop('Item', 1)\n",
      "/var/folders/9p/qyg5n1n16k759vt2__6rzxl40000gn/T/ipykernel_2117/1764355593.py:13: FutureWarning: In a future version of pandas all arguments of DataFrame.drop except for the argument 'labels' will be keyword-only.\n",
      "  tmp = tmp.drop('Item', 1)\n",
      "/var/folders/9p/qyg5n1n16k759vt2__6rzxl40000gn/T/ipykernel_2117/1764355593.py:13: FutureWarning: In a future version of pandas all arguments of DataFrame.drop except for the argument 'labels' will be keyword-only.\n",
      "  tmp = tmp.drop('Item', 1)\n",
      "/var/folders/9p/qyg5n1n16k759vt2__6rzxl40000gn/T/ipykernel_2117/1764355593.py:13: FutureWarning: In a future version of pandas all arguments of DataFrame.drop except for the argument 'labels' will be keyword-only.\n",
      "  tmp = tmp.drop('Item', 1)\n",
      "/var/folders/9p/qyg5n1n16k759vt2__6rzxl40000gn/T/ipykernel_2117/1764355593.py:13: FutureWarning: In a future version of pandas all arguments of DataFrame.drop except for the argument 'labels' will be keyword-only.\n",
      "  tmp = tmp.drop('Item', 1)\n",
      "/var/folders/9p/qyg5n1n16k759vt2__6rzxl40000gn/T/ipykernel_2117/1764355593.py:13: FutureWarning: In a future version of pandas all arguments of DataFrame.drop except for the argument 'labels' will be keyword-only.\n",
      "  tmp = tmp.drop('Item', 1)\n",
      "/var/folders/9p/qyg5n1n16k759vt2__6rzxl40000gn/T/ipykernel_2117/1764355593.py:13: FutureWarning: In a future version of pandas all arguments of DataFrame.drop except for the argument 'labels' will be keyword-only.\n",
      "  tmp = tmp.drop('Item', 1)\n",
      "/var/folders/9p/qyg5n1n16k759vt2__6rzxl40000gn/T/ipykernel_2117/1764355593.py:13: FutureWarning: In a future version of pandas all arguments of DataFrame.drop except for the argument 'labels' will be keyword-only.\n",
      "  tmp = tmp.drop('Item', 1)\n",
      "/var/folders/9p/qyg5n1n16k759vt2__6rzxl40000gn/T/ipykernel_2117/1764355593.py:13: FutureWarning: In a future version of pandas all arguments of DataFrame.drop except for the argument 'labels' will be keyword-only.\n",
      "  tmp = tmp.drop('Item', 1)\n",
      "/var/folders/9p/qyg5n1n16k759vt2__6rzxl40000gn/T/ipykernel_2117/1764355593.py:13: FutureWarning: In a future version of pandas all arguments of DataFrame.drop except for the argument 'labels' will be keyword-only.\n",
      "  tmp = tmp.drop('Item', 1)\n",
      "/var/folders/9p/qyg5n1n16k759vt2__6rzxl40000gn/T/ipykernel_2117/1764355593.py:13: FutureWarning: In a future version of pandas all arguments of DataFrame.drop except for the argument 'labels' will be keyword-only.\n",
      "  tmp = tmp.drop('Item', 1)\n"
     ]
    }
   ],
   "source": [
    "# read in the first csv in the directory so we can merge other csvs with it\n",
    "col_list = [\"Area\", \"Item\", \"Value\"] # we only need the country and the quantity of food from the file\n",
    "df_quantity = pd.read_csv(all_files[0], usecols=col_list)\n",
    "name = getName(df_quantity.loc[0].at[\"Item\"])\n",
    "df_quantity = df_quantity.drop('Item', 1)\n",
    "df_quantity.columns = ['country',name]\n",
    "\n",
    "# merge all csvs in the directory into df_quantity\n",
    "for i in all_files[1:len(all_files)]:\n",
    "    # extract the name of the file\n",
    "    tmp = pd.read_csv(i, usecols=col_list)\n",
    "    name = getName(tmp.loc[0].at[\"Item\"])\n",
    "    tmp = tmp.drop('Item', 1)\n",
    "    tmp.columns = ['country',name] \n",
    "    df_quantity = pd.merge(df_quantity,tmp,on ='country', how='outer')"
   ]
  },
  {
   "cell_type": "code",
   "execution_count": 6,
   "metadata": {},
   "outputs": [],
   "source": [
    "# we also need the Animal Product and Vegetal Product csvs that are in different forms, so add them to dataframe seperately\n",
    "animal = pd.read_csv('FAOSTAT_food_kg_animal.csv')\n",
    "animal.columns = ['country','animal_products'] \n",
    "vegetal_prod = pd.read_csv('FAOSTAT_food_kg_vegetal_prod.csv')\n",
    "vegetal_prod.columns = ['country','vegetal_products']\n",
    "df_quantity = pd.merge(df_quantity,animal,on ='country', how='outer')\n",
    "df_quantity = pd.merge(df_quantity,vegetal_prod,on ='country', how='outer')"
   ]
  },
  {
   "cell_type": "code",
   "execution_count": 7,
   "metadata": {},
   "outputs": [],
   "source": [
    "# sort the columns, with country at the first column, and the food columns in alphabetical order\n",
    "df_quantity = df_quantity.sort_index(axis=1)\n",
    "first_column = df_quantity.pop('country')\n",
    "df_quantity.insert(0, 'country', first_column)\n",
    "\n",
    "# fill na with 0\n",
    "df_quantity = df_quantity.fillna(0)"
   ]
  },
  {
   "cell_type": "code",
   "execution_count": 8,
   "metadata": {},
   "outputs": [
    {
     "data": {
      "text/html": [
       "<div>\n",
       "<style scoped>\n",
       "    .dataframe tbody tr th:only-of-type {\n",
       "        vertical-align: middle;\n",
       "    }\n",
       "\n",
       "    .dataframe tbody tr th {\n",
       "        vertical-align: top;\n",
       "    }\n",
       "\n",
       "    .dataframe thead th {\n",
       "        text-align: right;\n",
       "    }\n",
       "</style>\n",
       "<table border=\"1\" class=\"dataframe\">\n",
       "  <thead>\n",
       "    <tr style=\"text-align: right;\">\n",
       "      <th></th>\n",
       "      <th>country</th>\n",
       "      <th>alcoholic_beverages</th>\n",
       "      <th>animal_fats</th>\n",
       "      <th>animal_products</th>\n",
       "      <th>aquatic_products_other</th>\n",
       "      <th>cereals_excluding_beer</th>\n",
       "      <th>eggs</th>\n",
       "      <th>fish_seafood</th>\n",
       "      <th>fruits_excluding_wine</th>\n",
       "      <th>meat</th>\n",
       "      <th>...</th>\n",
       "      <th>pulses</th>\n",
       "      <th>spices</th>\n",
       "      <th>starchy_roots</th>\n",
       "      <th>stimulants</th>\n",
       "      <th>sugar_crops</th>\n",
       "      <th>sugar_sweeteners</th>\n",
       "      <th>treenuts</th>\n",
       "      <th>vegetable_oils</th>\n",
       "      <th>vegetables</th>\n",
       "      <th>vegetal_products</th>\n",
       "    </tr>\n",
       "  </thead>\n",
       "  <tbody>\n",
       "    <tr>\n",
       "      <th>0</th>\n",
       "      <td>Afghanistan</td>\n",
       "      <td>0.01</td>\n",
       "      <td>1.41</td>\n",
       "      <td>67.42</td>\n",
       "      <td>0.0</td>\n",
       "      <td>177.30</td>\n",
       "      <td>1.50</td>\n",
       "      <td>0.25</td>\n",
       "      <td>38.23</td>\n",
       "      <td>8.59</td>\n",
       "      <td>...</td>\n",
       "      <td>2.11</td>\n",
       "      <td>0.41</td>\n",
       "      <td>6.29</td>\n",
       "      <td>2.20</td>\n",
       "      <td>0.0</td>\n",
       "      <td>9.64</td>\n",
       "      <td>0.55</td>\n",
       "      <td>3.82</td>\n",
       "      <td>48.34</td>\n",
       "      <td>289.89</td>\n",
       "    </tr>\n",
       "    <tr>\n",
       "      <th>1</th>\n",
       "      <td>Albania</td>\n",
       "      <td>42.15</td>\n",
       "      <td>3.42</td>\n",
       "      <td>473.16</td>\n",
       "      <td>0.0</td>\n",
       "      <td>145.76</td>\n",
       "      <td>14.66</td>\n",
       "      <td>5.36</td>\n",
       "      <td>171.08</td>\n",
       "      <td>47.51</td>\n",
       "      <td>...</td>\n",
       "      <td>6.00</td>\n",
       "      <td>0.02</td>\n",
       "      <td>45.62</td>\n",
       "      <td>2.66</td>\n",
       "      <td>0.0</td>\n",
       "      <td>38.74</td>\n",
       "      <td>3.82</td>\n",
       "      <td>8.22</td>\n",
       "      <td>296.86</td>\n",
       "      <td>787.33</td>\n",
       "    </tr>\n",
       "    <tr>\n",
       "      <th>2</th>\n",
       "      <td>Algeria</td>\n",
       "      <td>4.33</td>\n",
       "      <td>0.45</td>\n",
       "      <td>153.89</td>\n",
       "      <td>0.0</td>\n",
       "      <td>218.56</td>\n",
       "      <td>8.43</td>\n",
       "      <td>3.86</td>\n",
       "      <td>101.92</td>\n",
       "      <td>18.06</td>\n",
       "      <td>...</td>\n",
       "      <td>7.64</td>\n",
       "      <td>0.89</td>\n",
       "      <td>66.04</td>\n",
       "      <td>3.54</td>\n",
       "      <td>0.0</td>\n",
       "      <td>29.30</td>\n",
       "      <td>1.84</td>\n",
       "      <td>16.47</td>\n",
       "      <td>186.08</td>\n",
       "      <td>644.82</td>\n",
       "    </tr>\n",
       "    <tr>\n",
       "      <th>3</th>\n",
       "      <td>Angola</td>\n",
       "      <td>66.33</td>\n",
       "      <td>0.64</td>\n",
       "      <td>56.27</td>\n",
       "      <td>0.0</td>\n",
       "      <td>104.01</td>\n",
       "      <td>0.67</td>\n",
       "      <td>20.22</td>\n",
       "      <td>68.52</td>\n",
       "      <td>23.49</td>\n",
       "      <td>...</td>\n",
       "      <td>7.43</td>\n",
       "      <td>0.01</td>\n",
       "      <td>206.80</td>\n",
       "      <td>0.58</td>\n",
       "      <td>0.0</td>\n",
       "      <td>21.12</td>\n",
       "      <td>0.07</td>\n",
       "      <td>7.38</td>\n",
       "      <td>26.31</td>\n",
       "      <td>514.68</td>\n",
       "    </tr>\n",
       "    <tr>\n",
       "      <th>4</th>\n",
       "      <td>Antigua and Barbuda</td>\n",
       "      <td>45.29</td>\n",
       "      <td>0.11</td>\n",
       "      <td>210.99</td>\n",
       "      <td>0.0</td>\n",
       "      <td>75.93</td>\n",
       "      <td>2.88</td>\n",
       "      <td>52.54</td>\n",
       "      <td>136.07</td>\n",
       "      <td>72.04</td>\n",
       "      <td>...</td>\n",
       "      <td>2.33</td>\n",
       "      <td>1.93</td>\n",
       "      <td>18.39</td>\n",
       "      <td>1.98</td>\n",
       "      <td>0.0</td>\n",
       "      <td>49.07</td>\n",
       "      <td>0.32</td>\n",
       "      <td>10.26</td>\n",
       "      <td>69.01</td>\n",
       "      <td>421.99</td>\n",
       "    </tr>\n",
       "    <tr>\n",
       "      <th>5</th>\n",
       "      <td>Argentina</td>\n",
       "      <td>66.28</td>\n",
       "      <td>3.47</td>\n",
       "      <td>300.48</td>\n",
       "      <td>0.0</td>\n",
       "      <td>130.63</td>\n",
       "      <td>15.50</td>\n",
       "      <td>7.29</td>\n",
       "      <td>93.87</td>\n",
       "      <td>109.38</td>\n",
       "      <td>...</td>\n",
       "      <td>0.82</td>\n",
       "      <td>0.19</td>\n",
       "      <td>47.25</td>\n",
       "      <td>6.80</td>\n",
       "      <td>0.0</td>\n",
       "      <td>47.43</td>\n",
       "      <td>0.31</td>\n",
       "      <td>14.82</td>\n",
       "      <td>67.57</td>\n",
       "      <td>476.16</td>\n",
       "    </tr>\n",
       "  </tbody>\n",
       "</table>\n",
       "<p>6 rows × 24 columns</p>\n",
       "</div>"
      ],
      "text/plain": [
       "               country  alcoholic_beverages  animal_fats  animal_products  \\\n",
       "0          Afghanistan                 0.01         1.41            67.42   \n",
       "1              Albania                42.15         3.42           473.16   \n",
       "2              Algeria                 4.33         0.45           153.89   \n",
       "3               Angola                66.33         0.64            56.27   \n",
       "4  Antigua and Barbuda                45.29         0.11           210.99   \n",
       "5            Argentina                66.28         3.47           300.48   \n",
       "\n",
       "   aquatic_products_other  cereals_excluding_beer   eggs  fish_seafood  \\\n",
       "0                     0.0                  177.30   1.50          0.25   \n",
       "1                     0.0                  145.76  14.66          5.36   \n",
       "2                     0.0                  218.56   8.43          3.86   \n",
       "3                     0.0                  104.01   0.67         20.22   \n",
       "4                     0.0                   75.93   2.88         52.54   \n",
       "5                     0.0                  130.63  15.50          7.29   \n",
       "\n",
       "   fruits_excluding_wine    meat  ...  pulses  spices  starchy_roots  \\\n",
       "0                  38.23    8.59  ...    2.11    0.41           6.29   \n",
       "1                 171.08   47.51  ...    6.00    0.02          45.62   \n",
       "2                 101.92   18.06  ...    7.64    0.89          66.04   \n",
       "3                  68.52   23.49  ...    7.43    0.01         206.80   \n",
       "4                 136.07   72.04  ...    2.33    1.93          18.39   \n",
       "5                  93.87  109.38  ...    0.82    0.19          47.25   \n",
       "\n",
       "   stimulants  sugar_crops  sugar_sweeteners  treenuts  vegetable_oils  \\\n",
       "0        2.20          0.0              9.64      0.55            3.82   \n",
       "1        2.66          0.0             38.74      3.82            8.22   \n",
       "2        3.54          0.0             29.30      1.84           16.47   \n",
       "3        0.58          0.0             21.12      0.07            7.38   \n",
       "4        1.98          0.0             49.07      0.32           10.26   \n",
       "5        6.80          0.0             47.43      0.31           14.82   \n",
       "\n",
       "   vegetables  vegetal_products  \n",
       "0       48.34            289.89  \n",
       "1      296.86            787.33  \n",
       "2      186.08            644.82  \n",
       "3       26.31            514.68  \n",
       "4       69.01            421.99  \n",
       "5       67.57            476.16  \n",
       "\n",
       "[6 rows x 24 columns]"
      ]
     },
     "execution_count": 8,
     "metadata": {},
     "output_type": "execute_result"
    }
   ],
   "source": [
    "df_quantity.head(6)"
   ]
  },
  {
   "cell_type": "code",
   "execution_count": 9,
   "metadata": {},
   "outputs": [
    {
     "data": {
      "text/plain": [
       "(173, 24)"
      ]
     },
     "execution_count": 9,
     "metadata": {},
     "output_type": "execute_result"
    }
   ],
   "source": [
    "df_quantity.shape"
   ]
  },
  {
   "cell_type": "markdown",
   "metadata": {},
   "source": [
    "__Process data for fat ( original unit: g/capita/day; will be converted to kg/capita/year)__"
   ]
  },
  {
   "cell_type": "code",
   "execution_count": 10,
   "metadata": {},
   "outputs": [],
   "source": [
    "# function that converts g/capita/day to kg/capita/yr \n",
    "# TODO: someone check if this is correct\n",
    "def standUnit(x):\n",
    "    # g -> kg: / 1000\n",
    "    # day -> year: * 365\n",
    "    return x / 1000 * 365"
   ]
  },
  {
   "cell_type": "code",
   "execution_count": 11,
   "metadata": {},
   "outputs": [
    {
     "name": "stderr",
     "output_type": "stream",
     "text": [
      "/var/folders/9p/qyg5n1n16k759vt2__6rzxl40000gn/T/ipykernel_2117/3306572841.py:9: FutureWarning: In a future version of pandas all arguments of DataFrame.drop except for the argument 'labels' will be keyword-only.\n",
      "  df_fat = df_fat.drop('Item', 1)\n",
      "/var/folders/9p/qyg5n1n16k759vt2__6rzxl40000gn/T/ipykernel_2117/3306572841.py:17: FutureWarning: In a future version of pandas all arguments of DataFrame.drop except for the argument 'labels' will be keyword-only.\n",
      "  tmp = tmp.drop('Item', 1)\n",
      "/var/folders/9p/qyg5n1n16k759vt2__6rzxl40000gn/T/ipykernel_2117/3306572841.py:17: FutureWarning: In a future version of pandas all arguments of DataFrame.drop except for the argument 'labels' will be keyword-only.\n",
      "  tmp = tmp.drop('Item', 1)\n",
      "/var/folders/9p/qyg5n1n16k759vt2__6rzxl40000gn/T/ipykernel_2117/3306572841.py:17: FutureWarning: In a future version of pandas all arguments of DataFrame.drop except for the argument 'labels' will be keyword-only.\n",
      "  tmp = tmp.drop('Item', 1)\n",
      "/var/folders/9p/qyg5n1n16k759vt2__6rzxl40000gn/T/ipykernel_2117/3306572841.py:17: FutureWarning: In a future version of pandas all arguments of DataFrame.drop except for the argument 'labels' will be keyword-only.\n",
      "  tmp = tmp.drop('Item', 1)\n",
      "/var/folders/9p/qyg5n1n16k759vt2__6rzxl40000gn/T/ipykernel_2117/3306572841.py:17: FutureWarning: In a future version of pandas all arguments of DataFrame.drop except for the argument 'labels' will be keyword-only.\n",
      "  tmp = tmp.drop('Item', 1)\n",
      "/var/folders/9p/qyg5n1n16k759vt2__6rzxl40000gn/T/ipykernel_2117/3306572841.py:17: FutureWarning: In a future version of pandas all arguments of DataFrame.drop except for the argument 'labels' will be keyword-only.\n",
      "  tmp = tmp.drop('Item', 1)\n",
      "/var/folders/9p/qyg5n1n16k759vt2__6rzxl40000gn/T/ipykernel_2117/3306572841.py:17: FutureWarning: In a future version of pandas all arguments of DataFrame.drop except for the argument 'labels' will be keyword-only.\n",
      "  tmp = tmp.drop('Item', 1)\n",
      "/var/folders/9p/qyg5n1n16k759vt2__6rzxl40000gn/T/ipykernel_2117/3306572841.py:17: FutureWarning: In a future version of pandas all arguments of DataFrame.drop except for the argument 'labels' will be keyword-only.\n",
      "  tmp = tmp.drop('Item', 1)\n",
      "/var/folders/9p/qyg5n1n16k759vt2__6rzxl40000gn/T/ipykernel_2117/3306572841.py:17: FutureWarning: In a future version of pandas all arguments of DataFrame.drop except for the argument 'labels' will be keyword-only.\n",
      "  tmp = tmp.drop('Item', 1)\n",
      "/var/folders/9p/qyg5n1n16k759vt2__6rzxl40000gn/T/ipykernel_2117/3306572841.py:17: FutureWarning: In a future version of pandas all arguments of DataFrame.drop except for the argument 'labels' will be keyword-only.\n",
      "  tmp = tmp.drop('Item', 1)\n",
      "/var/folders/9p/qyg5n1n16k759vt2__6rzxl40000gn/T/ipykernel_2117/3306572841.py:17: FutureWarning: In a future version of pandas all arguments of DataFrame.drop except for the argument 'labels' will be keyword-only.\n",
      "  tmp = tmp.drop('Item', 1)\n",
      "/var/folders/9p/qyg5n1n16k759vt2__6rzxl40000gn/T/ipykernel_2117/3306572841.py:17: FutureWarning: In a future version of pandas all arguments of DataFrame.drop except for the argument 'labels' will be keyword-only.\n",
      "  tmp = tmp.drop('Item', 1)\n",
      "/var/folders/9p/qyg5n1n16k759vt2__6rzxl40000gn/T/ipykernel_2117/3306572841.py:17: FutureWarning: In a future version of pandas all arguments of DataFrame.drop except for the argument 'labels' will be keyword-only.\n",
      "  tmp = tmp.drop('Item', 1)\n",
      "/var/folders/9p/qyg5n1n16k759vt2__6rzxl40000gn/T/ipykernel_2117/3306572841.py:17: FutureWarning: In a future version of pandas all arguments of DataFrame.drop except for the argument 'labels' will be keyword-only.\n",
      "  tmp = tmp.drop('Item', 1)\n",
      "/var/folders/9p/qyg5n1n16k759vt2__6rzxl40000gn/T/ipykernel_2117/3306572841.py:17: FutureWarning: In a future version of pandas all arguments of DataFrame.drop except for the argument 'labels' will be keyword-only.\n",
      "  tmp = tmp.drop('Item', 1)\n",
      "/var/folders/9p/qyg5n1n16k759vt2__6rzxl40000gn/T/ipykernel_2117/3306572841.py:17: FutureWarning: In a future version of pandas all arguments of DataFrame.drop except for the argument 'labels' will be keyword-only.\n",
      "  tmp = tmp.drop('Item', 1)\n",
      "/var/folders/9p/qyg5n1n16k759vt2__6rzxl40000gn/T/ipykernel_2117/3306572841.py:17: FutureWarning: In a future version of pandas all arguments of DataFrame.drop except for the argument 'labels' will be keyword-only.\n",
      "  tmp = tmp.drop('Item', 1)\n",
      "/var/folders/9p/qyg5n1n16k759vt2__6rzxl40000gn/T/ipykernel_2117/3306572841.py:17: FutureWarning: In a future version of pandas all arguments of DataFrame.drop except for the argument 'labels' will be keyword-only.\n",
      "  tmp = tmp.drop('Item', 1)\n",
      "/var/folders/9p/qyg5n1n16k759vt2__6rzxl40000gn/T/ipykernel_2117/3306572841.py:17: FutureWarning: In a future version of pandas all arguments of DataFrame.drop except for the argument 'labels' will be keyword-only.\n",
      "  tmp = tmp.drop('Item', 1)\n",
      "/var/folders/9p/qyg5n1n16k759vt2__6rzxl40000gn/T/ipykernel_2117/3306572841.py:17: FutureWarning: In a future version of pandas all arguments of DataFrame.drop except for the argument 'labels' will be keyword-only.\n",
      "  tmp = tmp.drop('Item', 1)\n",
      "/var/folders/9p/qyg5n1n16k759vt2__6rzxl40000gn/T/ipykernel_2117/3306572841.py:17: FutureWarning: In a future version of pandas all arguments of DataFrame.drop except for the argument 'labels' will be keyword-only.\n",
      "  tmp = tmp.drop('Item', 1)\n",
      "/var/folders/9p/qyg5n1n16k759vt2__6rzxl40000gn/T/ipykernel_2117/3306572841.py:17: FutureWarning: In a future version of pandas all arguments of DataFrame.drop except for the argument 'labels' will be keyword-only.\n",
      "  tmp = tmp.drop('Item', 1)\n"
     ]
    }
   ],
   "source": [
    "# read in most csvs as a list\n",
    "path = 'Fat_Supply'\n",
    "all_files = glob.glob(os.path.join(path, \"*.csv\"))\n",
    "\n",
    "# read in the first csv in the directory so we can merge other csvs with it\n",
    "col_list = [\"Area\", \"Item\", \"Value\"] # we only need the country and the quantity of food from the file\n",
    "df_fat = pd.read_csv(all_files[0], usecols=col_list)\n",
    "name = getName(df_fat.loc[0].at[\"Item\"])\n",
    "df_fat = df_fat.drop('Item', 1)\n",
    "df_fat.columns = ['country',name]\n",
    "\n",
    "# merge all csvs in the directory into df_fat\n",
    "for i in all_files[1:len(all_files)]:\n",
    "    # extract the name of the file\n",
    "    tmp = pd.read_csv(i, usecols=col_list)\n",
    "    name = getName(tmp.loc[0].at[\"Item\"])\n",
    "    tmp = tmp.drop('Item', 1)\n",
    "    tmp.columns = ['country',name] \n",
    "    df_fat = pd.merge(df_fat,tmp,on ='country', how='outer')\n",
    "    \n",
    "# sort the columns, with country at the first column, and the food columns in alphabetical order\n",
    "df_fat = df_fat.sort_index(axis=1)\n",
    "first_column = df_fat.pop('country')\n",
    "df_fat.insert(0, 'country', first_column)\n",
    "\n",
    "# replace na with 0\n",
    "df_fat = df_fat.fillna(0)"
   ]
  },
  {
   "cell_type": "code",
   "execution_count": 12,
   "metadata": {},
   "outputs": [
    {
     "data": {
      "text/html": [
       "<div>\n",
       "<style scoped>\n",
       "    .dataframe tbody tr th:only-of-type {\n",
       "        vertical-align: middle;\n",
       "    }\n",
       "\n",
       "    .dataframe tbody tr th {\n",
       "        vertical-align: top;\n",
       "    }\n",
       "\n",
       "    .dataframe thead th {\n",
       "        text-align: right;\n",
       "    }\n",
       "</style>\n",
       "<table border=\"1\" class=\"dataframe\">\n",
       "  <thead>\n",
       "    <tr style=\"text-align: right;\">\n",
       "      <th></th>\n",
       "      <th>country</th>\n",
       "      <th>alcoholic_beverages</th>\n",
       "      <th>animal_fats</th>\n",
       "      <th>animal_products</th>\n",
       "      <th>aquatic_products_other</th>\n",
       "      <th>cereals_excluding_beer</th>\n",
       "      <th>eggs</th>\n",
       "      <th>fish_seafood</th>\n",
       "      <th>fruits_excluding_wine</th>\n",
       "      <th>meat</th>\n",
       "      <th>...</th>\n",
       "      <th>pulses</th>\n",
       "      <th>spices</th>\n",
       "      <th>starchy_roots</th>\n",
       "      <th>stimulants</th>\n",
       "      <th>sugar_crops</th>\n",
       "      <th>sugar_sweeteners</th>\n",
       "      <th>treenuts</th>\n",
       "      <th>vegetable_oils</th>\n",
       "      <th>vegetables</th>\n",
       "      <th>vegetal_products</th>\n",
       "    </tr>\n",
       "  </thead>\n",
       "  <tbody>\n",
       "    <tr>\n",
       "      <th>0</th>\n",
       "      <td>Afghanistan</td>\n",
       "      <td>0.00000</td>\n",
       "      <td>1.39065</td>\n",
       "      <td>4.83625</td>\n",
       "      <td>0.00000</td>\n",
       "      <td>1.79580</td>\n",
       "      <td>0.15330</td>\n",
       "      <td>0.00730</td>\n",
       "      <td>0.09490</td>\n",
       "      <td>1.36875</td>\n",
       "      <td>...</td>\n",
       "      <td>0.04380</td>\n",
       "      <td>0.06205</td>\n",
       "      <td>0.01095</td>\n",
       "      <td>0.02190</td>\n",
       "      <td>0.0</td>\n",
       "      <td>0.0</td>\n",
       "      <td>0.16790</td>\n",
       "      <td>3.81790</td>\n",
       "      <td>0.08030</td>\n",
       "      <td>6.34005</td>\n",
       "    </tr>\n",
       "    <tr>\n",
       "      <th>1</th>\n",
       "      <td>Albania</td>\n",
       "      <td>0.00000</td>\n",
       "      <td>2.93460</td>\n",
       "      <td>27.48085</td>\n",
       "      <td>0.00000</td>\n",
       "      <td>2.29585</td>\n",
       "      <td>1.41255</td>\n",
       "      <td>0.12410</td>\n",
       "      <td>0.55115</td>\n",
       "      <td>7.50805</td>\n",
       "      <td>...</td>\n",
       "      <td>0.09855</td>\n",
       "      <td>0.00000</td>\n",
       "      <td>0.04380</td>\n",
       "      <td>0.45260</td>\n",
       "      <td>0.0</td>\n",
       "      <td>0.0</td>\n",
       "      <td>0.78840</td>\n",
       "      <td>7.93875</td>\n",
       "      <td>0.55845</td>\n",
       "      <td>15.45775</td>\n",
       "    </tr>\n",
       "    <tr>\n",
       "      <th>2</th>\n",
       "      <td>Algeria</td>\n",
       "      <td>0.00000</td>\n",
       "      <td>0.52195</td>\n",
       "      <td>8.38770</td>\n",
       "      <td>0.00000</td>\n",
       "      <td>2.44550</td>\n",
       "      <td>0.70810</td>\n",
       "      <td>0.11680</td>\n",
       "      <td>0.33580</td>\n",
       "      <td>2.26665</td>\n",
       "      <td>...</td>\n",
       "      <td>0.15695</td>\n",
       "      <td>0.09125</td>\n",
       "      <td>0.06570</td>\n",
       "      <td>0.16790</td>\n",
       "      <td>0.0</td>\n",
       "      <td>0.0</td>\n",
       "      <td>0.50005</td>\n",
       "      <td>15.91765</td>\n",
       "      <td>0.29930</td>\n",
       "      <td>20.70280</td>\n",
       "    </tr>\n",
       "    <tr>\n",
       "      <th>3</th>\n",
       "      <td>Angola</td>\n",
       "      <td>0.00000</td>\n",
       "      <td>0.46720</td>\n",
       "      <td>5.44580</td>\n",
       "      <td>0.00000</td>\n",
       "      <td>2.33235</td>\n",
       "      <td>0.05475</td>\n",
       "      <td>0.50370</td>\n",
       "      <td>0.12410</td>\n",
       "      <td>3.92375</td>\n",
       "      <td>...</td>\n",
       "      <td>0.11680</td>\n",
       "      <td>0.00365</td>\n",
       "      <td>0.25185</td>\n",
       "      <td>0.04015</td>\n",
       "      <td>0.0</td>\n",
       "      <td>0.0</td>\n",
       "      <td>0.01095</td>\n",
       "      <td>7.99350</td>\n",
       "      <td>0.04380</td>\n",
       "      <td>12.34795</td>\n",
       "    </tr>\n",
       "    <tr>\n",
       "      <th>4</th>\n",
       "      <td>Antigua and Barbuda</td>\n",
       "      <td>0.00000</td>\n",
       "      <td>3.03680</td>\n",
       "      <td>18.02005</td>\n",
       "      <td>0.00000</td>\n",
       "      <td>2.09145</td>\n",
       "      <td>0.25185</td>\n",
       "      <td>0.99280</td>\n",
       "      <td>0.79205</td>\n",
       "      <td>9.31480</td>\n",
       "      <td>...</td>\n",
       "      <td>0.04380</td>\n",
       "      <td>0.23360</td>\n",
       "      <td>0.02920</td>\n",
       "      <td>0.68620</td>\n",
       "      <td>0.0</td>\n",
       "      <td>0.0</td>\n",
       "      <td>0.13140</td>\n",
       "      <td>9.39510</td>\n",
       "      <td>0.16060</td>\n",
       "      <td>14.50510</td>\n",
       "    </tr>\n",
       "    <tr>\n",
       "      <th>...</th>\n",
       "      <td>...</td>\n",
       "      <td>...</td>\n",
       "      <td>...</td>\n",
       "      <td>...</td>\n",
       "      <td>...</td>\n",
       "      <td>...</td>\n",
       "      <td>...</td>\n",
       "      <td>...</td>\n",
       "      <td>...</td>\n",
       "      <td>...</td>\n",
       "      <td>...</td>\n",
       "      <td>...</td>\n",
       "      <td>...</td>\n",
       "      <td>...</td>\n",
       "      <td>...</td>\n",
       "      <td>...</td>\n",
       "      <td>...</td>\n",
       "      <td>...</td>\n",
       "      <td>...</td>\n",
       "      <td>...</td>\n",
       "      <td>...</td>\n",
       "    </tr>\n",
       "    <tr>\n",
       "      <th>168</th>\n",
       "      <td>Argentina</td>\n",
       "      <td>0.00000</td>\n",
       "      <td>2.82875</td>\n",
       "      <td>25.96245</td>\n",
       "      <td>0.00000</td>\n",
       "      <td>1.13880</td>\n",
       "      <td>1.34320</td>\n",
       "      <td>0.14235</td>\n",
       "      <td>0.17885</td>\n",
       "      <td>16.47975</td>\n",
       "      <td>...</td>\n",
       "      <td>0.01825</td>\n",
       "      <td>0.01825</td>\n",
       "      <td>0.09490</td>\n",
       "      <td>0.21170</td>\n",
       "      <td>0.0</td>\n",
       "      <td>0.0</td>\n",
       "      <td>0.11680</td>\n",
       "      <td>14.80805</td>\n",
       "      <td>0.16060</td>\n",
       "      <td>16.80095</td>\n",
       "    </tr>\n",
       "    <tr>\n",
       "      <th>169</th>\n",
       "      <td>Belgium</td>\n",
       "      <td>0.00000</td>\n",
       "      <td>14.37005</td>\n",
       "      <td>30.43735</td>\n",
       "      <td>0.00000</td>\n",
       "      <td>1.54030</td>\n",
       "      <td>1.33225</td>\n",
       "      <td>0.70445</td>\n",
       "      <td>0.27010</td>\n",
       "      <td>6.46780</td>\n",
       "      <td>...</td>\n",
       "      <td>0.04015</td>\n",
       "      <td>0.11315</td>\n",
       "      <td>0.08760</td>\n",
       "      <td>0.09490</td>\n",
       "      <td>0.0</td>\n",
       "      <td>0.0</td>\n",
       "      <td>1.37240</td>\n",
       "      <td>22.02775</td>\n",
       "      <td>0.33945</td>\n",
       "      <td>26.48075</td>\n",
       "    </tr>\n",
       "    <tr>\n",
       "      <th>170</th>\n",
       "      <td>Croatia</td>\n",
       "      <td>0.00000</td>\n",
       "      <td>6.22325</td>\n",
       "      <td>24.55355</td>\n",
       "      <td>0.00000</td>\n",
       "      <td>2.47105</td>\n",
       "      <td>0.79205</td>\n",
       "      <td>0.47085</td>\n",
       "      <td>0.21535</td>\n",
       "      <td>9.60315</td>\n",
       "      <td>...</td>\n",
       "      <td>0.01460</td>\n",
       "      <td>0.05475</td>\n",
       "      <td>0.03285</td>\n",
       "      <td>2.23380</td>\n",
       "      <td>0.0</td>\n",
       "      <td>0.0</td>\n",
       "      <td>0.58400</td>\n",
       "      <td>9.78930</td>\n",
       "      <td>0.32850</td>\n",
       "      <td>17.23895</td>\n",
       "    </tr>\n",
       "    <tr>\n",
       "      <th>171</th>\n",
       "      <td>Netherlands</td>\n",
       "      <td>0.00000</td>\n",
       "      <td>6.28530</td>\n",
       "      <td>28.50285</td>\n",
       "      <td>0.00000</td>\n",
       "      <td>1.20085</td>\n",
       "      <td>1.39795</td>\n",
       "      <td>0.70445</td>\n",
       "      <td>0.32850</td>\n",
       "      <td>10.26380</td>\n",
       "      <td>...</td>\n",
       "      <td>0.02920</td>\n",
       "      <td>0.11680</td>\n",
       "      <td>0.08030</td>\n",
       "      <td>0.05110</td>\n",
       "      <td>0.0</td>\n",
       "      <td>0.0</td>\n",
       "      <td>1.41620</td>\n",
       "      <td>14.97960</td>\n",
       "      <td>0.22265</td>\n",
       "      <td>18.76830</td>\n",
       "    </tr>\n",
       "    <tr>\n",
       "      <th>172</th>\n",
       "      <td>Republic of Korea</td>\n",
       "      <td>0.07665</td>\n",
       "      <td>3.33975</td>\n",
       "      <td>15.74610</td>\n",
       "      <td>0.04015</td>\n",
       "      <td>1.44540</td>\n",
       "      <td>1.06215</td>\n",
       "      <td>1.50380</td>\n",
       "      <td>0.13870</td>\n",
       "      <td>8.78555</td>\n",
       "      <td>...</td>\n",
       "      <td>0.01460</td>\n",
       "      <td>0.02920</td>\n",
       "      <td>0.02555</td>\n",
       "      <td>0.18615</td>\n",
       "      <td>0.0</td>\n",
       "      <td>0.0</td>\n",
       "      <td>0.94535</td>\n",
       "      <td>18.62960</td>\n",
       "      <td>0.54385</td>\n",
       "      <td>23.52790</td>\n",
       "    </tr>\n",
       "  </tbody>\n",
       "</table>\n",
       "<p>173 rows × 24 columns</p>\n",
       "</div>"
      ],
      "text/plain": [
       "                 country  alcoholic_beverages  animal_fats  animal_products  \\\n",
       "0            Afghanistan              0.00000      1.39065          4.83625   \n",
       "1                Albania              0.00000      2.93460         27.48085   \n",
       "2                Algeria              0.00000      0.52195          8.38770   \n",
       "3                 Angola              0.00000      0.46720          5.44580   \n",
       "4    Antigua and Barbuda              0.00000      3.03680         18.02005   \n",
       "..                   ...                  ...          ...              ...   \n",
       "168            Argentina              0.00000      2.82875         25.96245   \n",
       "169              Belgium              0.00000     14.37005         30.43735   \n",
       "170              Croatia              0.00000      6.22325         24.55355   \n",
       "171          Netherlands              0.00000      6.28530         28.50285   \n",
       "172    Republic of Korea              0.07665      3.33975         15.74610   \n",
       "\n",
       "     aquatic_products_other  cereals_excluding_beer     eggs  fish_seafood  \\\n",
       "0                   0.00000                 1.79580  0.15330       0.00730   \n",
       "1                   0.00000                 2.29585  1.41255       0.12410   \n",
       "2                   0.00000                 2.44550  0.70810       0.11680   \n",
       "3                   0.00000                 2.33235  0.05475       0.50370   \n",
       "4                   0.00000                 2.09145  0.25185       0.99280   \n",
       "..                      ...                     ...      ...           ...   \n",
       "168                 0.00000                 1.13880  1.34320       0.14235   \n",
       "169                 0.00000                 1.54030  1.33225       0.70445   \n",
       "170                 0.00000                 2.47105  0.79205       0.47085   \n",
       "171                 0.00000                 1.20085  1.39795       0.70445   \n",
       "172                 0.04015                 1.44540  1.06215       1.50380   \n",
       "\n",
       "     fruits_excluding_wine      meat  ...   pulses   spices  starchy_roots  \\\n",
       "0                  0.09490   1.36875  ...  0.04380  0.06205        0.01095   \n",
       "1                  0.55115   7.50805  ...  0.09855  0.00000        0.04380   \n",
       "2                  0.33580   2.26665  ...  0.15695  0.09125        0.06570   \n",
       "3                  0.12410   3.92375  ...  0.11680  0.00365        0.25185   \n",
       "4                  0.79205   9.31480  ...  0.04380  0.23360        0.02920   \n",
       "..                     ...       ...  ...      ...      ...            ...   \n",
       "168                0.17885  16.47975  ...  0.01825  0.01825        0.09490   \n",
       "169                0.27010   6.46780  ...  0.04015  0.11315        0.08760   \n",
       "170                0.21535   9.60315  ...  0.01460  0.05475        0.03285   \n",
       "171                0.32850  10.26380  ...  0.02920  0.11680        0.08030   \n",
       "172                0.13870   8.78555  ...  0.01460  0.02920        0.02555   \n",
       "\n",
       "     stimulants  sugar_crops  sugar_sweeteners  treenuts  vegetable_oils  \\\n",
       "0       0.02190          0.0               0.0   0.16790         3.81790   \n",
       "1       0.45260          0.0               0.0   0.78840         7.93875   \n",
       "2       0.16790          0.0               0.0   0.50005        15.91765   \n",
       "3       0.04015          0.0               0.0   0.01095         7.99350   \n",
       "4       0.68620          0.0               0.0   0.13140         9.39510   \n",
       "..          ...          ...               ...       ...             ...   \n",
       "168     0.21170          0.0               0.0   0.11680        14.80805   \n",
       "169     0.09490          0.0               0.0   1.37240        22.02775   \n",
       "170     2.23380          0.0               0.0   0.58400         9.78930   \n",
       "171     0.05110          0.0               0.0   1.41620        14.97960   \n",
       "172     0.18615          0.0               0.0   0.94535        18.62960   \n",
       "\n",
       "     vegetables  vegetal_products  \n",
       "0       0.08030           6.34005  \n",
       "1       0.55845          15.45775  \n",
       "2       0.29930          20.70280  \n",
       "3       0.04380          12.34795  \n",
       "4       0.16060          14.50510  \n",
       "..          ...               ...  \n",
       "168     0.16060          16.80095  \n",
       "169     0.33945          26.48075  \n",
       "170     0.32850          17.23895  \n",
       "171     0.22265          18.76830  \n",
       "172     0.54385          23.52790  \n",
       "\n",
       "[173 rows x 24 columns]"
      ]
     },
     "execution_count": 12,
     "metadata": {},
     "output_type": "execute_result"
    }
   ],
   "source": [
    "# convert g/capita/day to kg/capita/yr\n",
    "df_fat[df_fat.columns[1:len(df_fat.columns)]] = df_fat[df_fat.columns[1:len(df_fat.columns)]].applymap(standUnit)\n",
    "df_fat"
   ]
  },
  {
   "cell_type": "markdown",
   "metadata": {},
   "source": [
    "__Process protein as fat__"
   ]
  },
  {
   "cell_type": "code",
   "execution_count": 13,
   "metadata": {},
   "outputs": [
    {
     "name": "stderr",
     "output_type": "stream",
     "text": [
      "/var/folders/9p/qyg5n1n16k759vt2__6rzxl40000gn/T/ipykernel_2117/3721737032.py:9: FutureWarning: In a future version of pandas all arguments of DataFrame.drop except for the argument 'labels' will be keyword-only.\n",
      "  df_protein = df_protein.drop('Item', 1)\n",
      "/var/folders/9p/qyg5n1n16k759vt2__6rzxl40000gn/T/ipykernel_2117/3721737032.py:17: FutureWarning: In a future version of pandas all arguments of DataFrame.drop except for the argument 'labels' will be keyword-only.\n",
      "  tmp = tmp.drop('Item', 1)\n",
      "/var/folders/9p/qyg5n1n16k759vt2__6rzxl40000gn/T/ipykernel_2117/3721737032.py:17: FutureWarning: In a future version of pandas all arguments of DataFrame.drop except for the argument 'labels' will be keyword-only.\n",
      "  tmp = tmp.drop('Item', 1)\n",
      "/var/folders/9p/qyg5n1n16k759vt2__6rzxl40000gn/T/ipykernel_2117/3721737032.py:17: FutureWarning: In a future version of pandas all arguments of DataFrame.drop except for the argument 'labels' will be keyword-only.\n",
      "  tmp = tmp.drop('Item', 1)\n",
      "/var/folders/9p/qyg5n1n16k759vt2__6rzxl40000gn/T/ipykernel_2117/3721737032.py:17: FutureWarning: In a future version of pandas all arguments of DataFrame.drop except for the argument 'labels' will be keyword-only.\n",
      "  tmp = tmp.drop('Item', 1)\n",
      "/var/folders/9p/qyg5n1n16k759vt2__6rzxl40000gn/T/ipykernel_2117/3721737032.py:17: FutureWarning: In a future version of pandas all arguments of DataFrame.drop except for the argument 'labels' will be keyword-only.\n",
      "  tmp = tmp.drop('Item', 1)\n",
      "/var/folders/9p/qyg5n1n16k759vt2__6rzxl40000gn/T/ipykernel_2117/3721737032.py:17: FutureWarning: In a future version of pandas all arguments of DataFrame.drop except for the argument 'labels' will be keyword-only.\n",
      "  tmp = tmp.drop('Item', 1)\n",
      "/var/folders/9p/qyg5n1n16k759vt2__6rzxl40000gn/T/ipykernel_2117/3721737032.py:17: FutureWarning: In a future version of pandas all arguments of DataFrame.drop except for the argument 'labels' will be keyword-only.\n",
      "  tmp = tmp.drop('Item', 1)\n",
      "/var/folders/9p/qyg5n1n16k759vt2__6rzxl40000gn/T/ipykernel_2117/3721737032.py:17: FutureWarning: In a future version of pandas all arguments of DataFrame.drop except for the argument 'labels' will be keyword-only.\n",
      "  tmp = tmp.drop('Item', 1)\n",
      "/var/folders/9p/qyg5n1n16k759vt2__6rzxl40000gn/T/ipykernel_2117/3721737032.py:17: FutureWarning: In a future version of pandas all arguments of DataFrame.drop except for the argument 'labels' will be keyword-only.\n",
      "  tmp = tmp.drop('Item', 1)\n",
      "/var/folders/9p/qyg5n1n16k759vt2__6rzxl40000gn/T/ipykernel_2117/3721737032.py:17: FutureWarning: In a future version of pandas all arguments of DataFrame.drop except for the argument 'labels' will be keyword-only.\n",
      "  tmp = tmp.drop('Item', 1)\n",
      "/var/folders/9p/qyg5n1n16k759vt2__6rzxl40000gn/T/ipykernel_2117/3721737032.py:17: FutureWarning: In a future version of pandas all arguments of DataFrame.drop except for the argument 'labels' will be keyword-only.\n",
      "  tmp = tmp.drop('Item', 1)\n",
      "/var/folders/9p/qyg5n1n16k759vt2__6rzxl40000gn/T/ipykernel_2117/3721737032.py:17: FutureWarning: In a future version of pandas all arguments of DataFrame.drop except for the argument 'labels' will be keyword-only.\n",
      "  tmp = tmp.drop('Item', 1)\n",
      "/var/folders/9p/qyg5n1n16k759vt2__6rzxl40000gn/T/ipykernel_2117/3721737032.py:17: FutureWarning: In a future version of pandas all arguments of DataFrame.drop except for the argument 'labels' will be keyword-only.\n",
      "  tmp = tmp.drop('Item', 1)\n",
      "/var/folders/9p/qyg5n1n16k759vt2__6rzxl40000gn/T/ipykernel_2117/3721737032.py:17: FutureWarning: In a future version of pandas all arguments of DataFrame.drop except for the argument 'labels' will be keyword-only.\n",
      "  tmp = tmp.drop('Item', 1)\n",
      "/var/folders/9p/qyg5n1n16k759vt2__6rzxl40000gn/T/ipykernel_2117/3721737032.py:17: FutureWarning: In a future version of pandas all arguments of DataFrame.drop except for the argument 'labels' will be keyword-only.\n",
      "  tmp = tmp.drop('Item', 1)\n",
      "/var/folders/9p/qyg5n1n16k759vt2__6rzxl40000gn/T/ipykernel_2117/3721737032.py:17: FutureWarning: In a future version of pandas all arguments of DataFrame.drop except for the argument 'labels' will be keyword-only.\n",
      "  tmp = tmp.drop('Item', 1)\n",
      "/var/folders/9p/qyg5n1n16k759vt2__6rzxl40000gn/T/ipykernel_2117/3721737032.py:17: FutureWarning: In a future version of pandas all arguments of DataFrame.drop except for the argument 'labels' will be keyword-only.\n",
      "  tmp = tmp.drop('Item', 1)\n",
      "/var/folders/9p/qyg5n1n16k759vt2__6rzxl40000gn/T/ipykernel_2117/3721737032.py:17: FutureWarning: In a future version of pandas all arguments of DataFrame.drop except for the argument 'labels' will be keyword-only.\n",
      "  tmp = tmp.drop('Item', 1)\n",
      "/var/folders/9p/qyg5n1n16k759vt2__6rzxl40000gn/T/ipykernel_2117/3721737032.py:17: FutureWarning: In a future version of pandas all arguments of DataFrame.drop except for the argument 'labels' will be keyword-only.\n",
      "  tmp = tmp.drop('Item', 1)\n",
      "/var/folders/9p/qyg5n1n16k759vt2__6rzxl40000gn/T/ipykernel_2117/3721737032.py:17: FutureWarning: In a future version of pandas all arguments of DataFrame.drop except for the argument 'labels' will be keyword-only.\n",
      "  tmp = tmp.drop('Item', 1)\n",
      "/var/folders/9p/qyg5n1n16k759vt2__6rzxl40000gn/T/ipykernel_2117/3721737032.py:17: FutureWarning: In a future version of pandas all arguments of DataFrame.drop except for the argument 'labels' will be keyword-only.\n",
      "  tmp = tmp.drop('Item', 1)\n",
      "/var/folders/9p/qyg5n1n16k759vt2__6rzxl40000gn/T/ipykernel_2117/3721737032.py:17: FutureWarning: In a future version of pandas all arguments of DataFrame.drop except for the argument 'labels' will be keyword-only.\n",
      "  tmp = tmp.drop('Item', 1)\n"
     ]
    },
    {
     "data": {
      "text/html": [
       "<div>\n",
       "<style scoped>\n",
       "    .dataframe tbody tr th:only-of-type {\n",
       "        vertical-align: middle;\n",
       "    }\n",
       "\n",
       "    .dataframe tbody tr th {\n",
       "        vertical-align: top;\n",
       "    }\n",
       "\n",
       "    .dataframe thead th {\n",
       "        text-align: right;\n",
       "    }\n",
       "</style>\n",
       "<table border=\"1\" class=\"dataframe\">\n",
       "  <thead>\n",
       "    <tr style=\"text-align: right;\">\n",
       "      <th></th>\n",
       "      <th>country</th>\n",
       "      <th>alcoholic_beverages</th>\n",
       "      <th>animal_fats</th>\n",
       "      <th>animal_products</th>\n",
       "      <th>aquatic_products_other</th>\n",
       "      <th>cereals_excluding_beer</th>\n",
       "      <th>eggs</th>\n",
       "      <th>fish_seafood</th>\n",
       "      <th>fruits_excluding_wine</th>\n",
       "      <th>meat</th>\n",
       "      <th>...</th>\n",
       "      <th>pulses</th>\n",
       "      <th>spices</th>\n",
       "      <th>starchy_roots</th>\n",
       "      <th>stimulants</th>\n",
       "      <th>sugar_crops</th>\n",
       "      <th>sugar_sweeteners</th>\n",
       "      <th>treenuts</th>\n",
       "      <th>vegetable_oils</th>\n",
       "      <th>vegetables</th>\n",
       "      <th>vegetal_products</th>\n",
       "    </tr>\n",
       "  </thead>\n",
       "  <tbody>\n",
       "    <tr>\n",
       "      <th>0</th>\n",
       "      <td>Afghanistan</td>\n",
       "      <td>0.00</td>\n",
       "      <td>0.03</td>\n",
       "      <td>10.55</td>\n",
       "      <td>0.0</td>\n",
       "      <td>38.92</td>\n",
       "      <td>0.44</td>\n",
       "      <td>0.07</td>\n",
       "      <td>0.63</td>\n",
       "      <td>3.39</td>\n",
       "      <td>...</td>\n",
       "      <td>1.35</td>\n",
       "      <td>0.18</td>\n",
       "      <td>0.21</td>\n",
       "      <td>0.60</td>\n",
       "      <td>0.0</td>\n",
       "      <td>0.00</td>\n",
       "      <td>0.15</td>\n",
       "      <td>0.00</td>\n",
       "      <td>1.23</td>\n",
       "      <td>43.54</td>\n",
       "    </tr>\n",
       "    <tr>\n",
       "      <th>1</th>\n",
       "      <td>Albania</td>\n",
       "      <td>0.44</td>\n",
       "      <td>0.17</td>\n",
       "      <td>66.34</td>\n",
       "      <td>0.0</td>\n",
       "      <td>34.03</td>\n",
       "      <td>4.32</td>\n",
       "      <td>1.50</td>\n",
       "      <td>3.05</td>\n",
       "      <td>18.31</td>\n",
       "      <td>...</td>\n",
       "      <td>3.48</td>\n",
       "      <td>0.00</td>\n",
       "      <td>2.12</td>\n",
       "      <td>0.63</td>\n",
       "      <td>0.0</td>\n",
       "      <td>0.01</td>\n",
       "      <td>0.64</td>\n",
       "      <td>0.02</td>\n",
       "      <td>7.76</td>\n",
       "      <td>53.21</td>\n",
       "    </tr>\n",
       "    <tr>\n",
       "      <th>2</th>\n",
       "      <td>Algeria</td>\n",
       "      <td>0.06</td>\n",
       "      <td>0.01</td>\n",
       "      <td>25.71</td>\n",
       "      <td>0.0</td>\n",
       "      <td>49.36</td>\n",
       "      <td>2.40</td>\n",
       "      <td>1.18</td>\n",
       "      <td>2.16</td>\n",
       "      <td>6.52</td>\n",
       "      <td>...</td>\n",
       "      <td>4.74</td>\n",
       "      <td>0.33</td>\n",
       "      <td>2.72</td>\n",
       "      <td>0.86</td>\n",
       "      <td>0.0</td>\n",
       "      <td>0.00</td>\n",
       "      <td>0.51</td>\n",
       "      <td>0.05</td>\n",
       "      <td>5.81</td>\n",
       "      <td>67.21</td>\n",
       "    </tr>\n",
       "  </tbody>\n",
       "</table>\n",
       "<p>3 rows × 24 columns</p>\n",
       "</div>"
      ],
      "text/plain": [
       "       country  alcoholic_beverages  animal_fats  animal_products  \\\n",
       "0  Afghanistan                 0.00         0.03            10.55   \n",
       "1      Albania                 0.44         0.17            66.34   \n",
       "2      Algeria                 0.06         0.01            25.71   \n",
       "\n",
       "   aquatic_products_other  cereals_excluding_beer  eggs  fish_seafood  \\\n",
       "0                     0.0                   38.92  0.44          0.07   \n",
       "1                     0.0                   34.03  4.32          1.50   \n",
       "2                     0.0                   49.36  2.40          1.18   \n",
       "\n",
       "   fruits_excluding_wine   meat  ...  pulses  spices  starchy_roots  \\\n",
       "0                   0.63   3.39  ...    1.35    0.18           0.21   \n",
       "1                   3.05  18.31  ...    3.48    0.00           2.12   \n",
       "2                   2.16   6.52  ...    4.74    0.33           2.72   \n",
       "\n",
       "   stimulants  sugar_crops  sugar_sweeteners  treenuts  vegetable_oils  \\\n",
       "0        0.60          0.0              0.00      0.15            0.00   \n",
       "1        0.63          0.0              0.01      0.64            0.02   \n",
       "2        0.86          0.0              0.00      0.51            0.05   \n",
       "\n",
       "   vegetables  vegetal_products  \n",
       "0        1.23             43.54  \n",
       "1        7.76             53.21  \n",
       "2        5.81             67.21  \n",
       "\n",
       "[3 rows x 24 columns]"
      ]
     },
     "execution_count": 13,
     "metadata": {},
     "output_type": "execute_result"
    }
   ],
   "source": [
    "# read in most csvs as a list\n",
    "path = 'Protein_Supply'\n",
    "all_files = glob.glob(os.path.join(path, \"*.csv\"))\n",
    "\n",
    "# read in the first csv in the directory so we can merge other csvs with it\n",
    "col_list = [\"Area\", \"Item\", \"Value\"] # we only need the country and the quantity of food from the file\n",
    "df_protein = pd.read_csv(all_files[0], usecols=col_list)\n",
    "name = getName(df_protein.loc[0].at[\"Item\"])\n",
    "df_protein = df_protein.drop('Item', 1)\n",
    "df_protein.columns = ['country',name]\n",
    "\n",
    "# merge all csvs in the directory into df_protein\n",
    "for i in all_files[1:len(all_files)]:\n",
    "    # extract the name of the file\n",
    "    tmp = pd.read_csv(i, usecols=col_list)\n",
    "    name = getName(tmp.loc[0].at[\"Item\"])\n",
    "    tmp = tmp.drop('Item', 1)\n",
    "    tmp.columns = ['country',name] \n",
    "    df_protein = pd.merge(df_protein,tmp,on ='country', how='outer')\n",
    "    \n",
    "# sort the columns, with country at the first column, and the food columns in alphabetical order\n",
    "df_protein = df_protein.sort_index(axis=1)\n",
    "first_column = df_protein.pop('country')\n",
    "df_protein.insert(0, 'country', first_column)\n",
    "\n",
    "# replace na with 0\n",
    "df_protein = df_protein.fillna(0)\n",
    "df_protein.head(3)"
   ]
  },
  {
   "cell_type": "code",
   "execution_count": 14,
   "metadata": {},
   "outputs": [
    {
     "data": {
      "text/html": [
       "<div>\n",
       "<style scoped>\n",
       "    .dataframe tbody tr th:only-of-type {\n",
       "        vertical-align: middle;\n",
       "    }\n",
       "\n",
       "    .dataframe tbody tr th {\n",
       "        vertical-align: top;\n",
       "    }\n",
       "\n",
       "    .dataframe thead th {\n",
       "        text-align: right;\n",
       "    }\n",
       "</style>\n",
       "<table border=\"1\" class=\"dataframe\">\n",
       "  <thead>\n",
       "    <tr style=\"text-align: right;\">\n",
       "      <th></th>\n",
       "      <th>country</th>\n",
       "      <th>alcoholic_beverages</th>\n",
       "      <th>animal_fats</th>\n",
       "      <th>animal_products</th>\n",
       "      <th>aquatic_products_other</th>\n",
       "      <th>cereals_excluding_beer</th>\n",
       "      <th>eggs</th>\n",
       "      <th>fish_seafood</th>\n",
       "      <th>fruits_excluding_wine</th>\n",
       "      <th>meat</th>\n",
       "      <th>...</th>\n",
       "      <th>pulses</th>\n",
       "      <th>spices</th>\n",
       "      <th>starchy_roots</th>\n",
       "      <th>stimulants</th>\n",
       "      <th>sugar_crops</th>\n",
       "      <th>sugar_sweeteners</th>\n",
       "      <th>treenuts</th>\n",
       "      <th>vegetable_oils</th>\n",
       "      <th>vegetables</th>\n",
       "      <th>vegetal_products</th>\n",
       "    </tr>\n",
       "  </thead>\n",
       "  <tbody>\n",
       "    <tr>\n",
       "      <th>0</th>\n",
       "      <td>Afghanistan</td>\n",
       "      <td>0.0000</td>\n",
       "      <td>0.01095</td>\n",
       "      <td>3.85075</td>\n",
       "      <td>0.0</td>\n",
       "      <td>14.20580</td>\n",
       "      <td>0.1606</td>\n",
       "      <td>0.02555</td>\n",
       "      <td>0.22995</td>\n",
       "      <td>1.23735</td>\n",
       "      <td>...</td>\n",
       "      <td>0.49275</td>\n",
       "      <td>0.06570</td>\n",
       "      <td>0.07665</td>\n",
       "      <td>0.21900</td>\n",
       "      <td>0.0</td>\n",
       "      <td>0.00000</td>\n",
       "      <td>0.05475</td>\n",
       "      <td>0.00000</td>\n",
       "      <td>0.44895</td>\n",
       "      <td>15.89210</td>\n",
       "    </tr>\n",
       "    <tr>\n",
       "      <th>1</th>\n",
       "      <td>Albania</td>\n",
       "      <td>0.1606</td>\n",
       "      <td>0.06205</td>\n",
       "      <td>24.21410</td>\n",
       "      <td>0.0</td>\n",
       "      <td>12.42095</td>\n",
       "      <td>1.5768</td>\n",
       "      <td>0.54750</td>\n",
       "      <td>1.11325</td>\n",
       "      <td>6.68315</td>\n",
       "      <td>...</td>\n",
       "      <td>1.27020</td>\n",
       "      <td>0.00000</td>\n",
       "      <td>0.77380</td>\n",
       "      <td>0.22995</td>\n",
       "      <td>0.0</td>\n",
       "      <td>0.00365</td>\n",
       "      <td>0.23360</td>\n",
       "      <td>0.00730</td>\n",
       "      <td>2.83240</td>\n",
       "      <td>19.42165</td>\n",
       "    </tr>\n",
       "    <tr>\n",
       "      <th>2</th>\n",
       "      <td>Algeria</td>\n",
       "      <td>0.0219</td>\n",
       "      <td>0.00365</td>\n",
       "      <td>9.38415</td>\n",
       "      <td>0.0</td>\n",
       "      <td>18.01640</td>\n",
       "      <td>0.8760</td>\n",
       "      <td>0.43070</td>\n",
       "      <td>0.78840</td>\n",
       "      <td>2.37980</td>\n",
       "      <td>...</td>\n",
       "      <td>1.73010</td>\n",
       "      <td>0.12045</td>\n",
       "      <td>0.99280</td>\n",
       "      <td>0.31390</td>\n",
       "      <td>0.0</td>\n",
       "      <td>0.00000</td>\n",
       "      <td>0.18615</td>\n",
       "      <td>0.01825</td>\n",
       "      <td>2.12065</td>\n",
       "      <td>24.53165</td>\n",
       "    </tr>\n",
       "  </tbody>\n",
       "</table>\n",
       "<p>3 rows × 24 columns</p>\n",
       "</div>"
      ],
      "text/plain": [
       "       country  alcoholic_beverages  animal_fats  animal_products  \\\n",
       "0  Afghanistan               0.0000      0.01095          3.85075   \n",
       "1      Albania               0.1606      0.06205         24.21410   \n",
       "2      Algeria               0.0219      0.00365          9.38415   \n",
       "\n",
       "   aquatic_products_other  cereals_excluding_beer    eggs  fish_seafood  \\\n",
       "0                     0.0                14.20580  0.1606       0.02555   \n",
       "1                     0.0                12.42095  1.5768       0.54750   \n",
       "2                     0.0                18.01640  0.8760       0.43070   \n",
       "\n",
       "   fruits_excluding_wine     meat  ...   pulses   spices  starchy_roots  \\\n",
       "0                0.22995  1.23735  ...  0.49275  0.06570        0.07665   \n",
       "1                1.11325  6.68315  ...  1.27020  0.00000        0.77380   \n",
       "2                0.78840  2.37980  ...  1.73010  0.12045        0.99280   \n",
       "\n",
       "   stimulants  sugar_crops  sugar_sweeteners  treenuts  vegetable_oils  \\\n",
       "0     0.21900          0.0           0.00000   0.05475         0.00000   \n",
       "1     0.22995          0.0           0.00365   0.23360         0.00730   \n",
       "2     0.31390          0.0           0.00000   0.18615         0.01825   \n",
       "\n",
       "   vegetables  vegetal_products  \n",
       "0     0.44895          15.89210  \n",
       "1     2.83240          19.42165  \n",
       "2     2.12065          24.53165  \n",
       "\n",
       "[3 rows x 24 columns]"
      ]
     },
     "execution_count": 14,
     "metadata": {},
     "output_type": "execute_result"
    }
   ],
   "source": [
    "# convert g/capita/day to kg/capita/yr\n",
    "df_protein[df_protein.columns[1:len(df_protein.columns)]] = df_protein[df_protein.columns[1:len(df_protein.columns)]].applymap(standUnit)\n",
    "df_protein.head(3)"
   ]
  },
  {
   "cell_type": "markdown",
   "metadata": {},
   "source": [
    "# Data Analysis & Results"
   ]
  },
  {
   "cell_type": "markdown",
   "metadata": {},
   "source": [
    "Include cells that describe the steps in your data analysis."
   ]
  },
  {
   "cell_type": "code",
   "execution_count": 15,
   "metadata": {},
   "outputs": [],
   "source": [
    "## YOUR CODE HERE\n",
    "import matplotlib.pyplot as plt\n",
    "import statsmodels.api as sm\n",
    "import patsy"
   ]
  },
  {
   "cell_type": "markdown",
   "metadata": {},
   "source": [
    "## Creating Summary Dataframe ##"
   ]
  },
  {
   "cell_type": "code",
   "execution_count": 16,
   "metadata": {},
   "outputs": [],
   "source": [
    "col_names = df_fat.columns"
   ]
  },
  {
   "cell_type": "code",
   "execution_count": 17,
   "metadata": {},
   "outputs": [],
   "source": [
    "country_names = list(df_fat['country'])\n",
    "covid_names = ['confirmed', 'deaths', 'recovered', 'active',\n",
    "       'population']\n",
    "macronutrient_source_names = ['alcoholic_beverages', 'animal_fats',\n",
    "       'animal_products', 'aquatic_products_other', 'cereals_excluding_beer',\n",
    "       'eggs', 'fish_seafood', 'fruits_excluding_wine', 'meat',\n",
    "       'milk_excluding_butter', 'miscellaneous', 'offals', 'oilcrops',\n",
    "       'pulses', 'spices', 'starchy_roots', 'stimulants', 'sugar_crops',\n",
    "       'sugar_sweeteners', 'treenuts', 'vegetable_oils', 'vegetables',\n",
    "       'vegetal_products']"
   ]
  },
  {
   "cell_type": "code",
   "execution_count": 18,
   "metadata": {},
   "outputs": [
    {
     "data": {
      "text/plain": [
       "0    22.34895\n",
       "1    85.87720\n",
       "2    58.17735\n",
       "dtype: float64"
      ]
     },
     "execution_count": 18,
     "metadata": {},
     "output_type": "execute_result"
    }
   ],
   "source": [
    "# yearly fat intake of first three countries (alphabetical) (unit: kg/capita/yr)\n",
    "fat_sum = df_fat[macronutrient_source_names].sum(axis=1)\n",
    "fat_sum.head(3)"
   ]
  },
  {
   "cell_type": "code",
   "execution_count": 19,
   "metadata": {},
   "outputs": [
    {
     "data": {
      "text/plain": [
       "0    39.48570\n",
       "1    87.26785\n",
       "2    67.82430\n",
       "dtype: float64"
      ]
     },
     "execution_count": 19,
     "metadata": {},
     "output_type": "execute_result"
    }
   ],
   "source": [
    "# yearly protein intake of first three countries (alphabetical) (unit: kg/capita/yr)\n",
    "protein_sum = df_protein[macronutrient_source_names].sum(axis=1)\n",
    "protein_sum.head(3)"
   ]
  },
  {
   "cell_type": "code",
   "execution_count": 20,
   "metadata": {},
   "outputs": [
    {
     "name": "stderr",
     "output_type": "stream",
     "text": [
      "/var/folders/9p/qyg5n1n16k759vt2__6rzxl40000gn/T/ipykernel_2117/3701914948.py:3: FutureWarning: Dropping of nuisance columns in DataFrame reductions (with 'numeric_only=None') is deprecated; in a future version this will raise TypeError.  Select only valid columns before calling the reduction.\n",
      "  carb_sum=df_quantity.sum(axis=1)-protein_sum-fat_sum\n"
     ]
    },
    {
     "data": {
      "text/plain": [
       "0     652.80535\n",
       "1    2347.89495\n",
       "2    1471.46835\n",
       "dtype: float64"
      ]
     },
     "execution_count": 20,
     "metadata": {},
     "output_type": "execute_result"
    }
   ],
   "source": [
    "#yearly carbohydrate intake of first three countries (alphabetical) (unit: kg/capita/yr)\n",
    "#computed by total quantity-protein-fat\n",
    "carb_sum=df_quantity.sum(axis=1)-protein_sum-fat_sum\n",
    "carb_sum.head(3)"
   ]
  },
  {
   "cell_type": "code",
   "execution_count": 21,
   "metadata": {},
   "outputs": [],
   "source": [
    "# create macronutrients summary dataframe\n",
    "df_macro = pd.DataFrame({'country': country_names,\n",
    "                          'fat_sum': fat_sum,\n",
    "                          'protein_sum': protein_sum,\n",
    "                          'carb_sum':carb_sum})"
   ]
  },
  {
   "cell_type": "code",
   "execution_count": 22,
   "metadata": {},
   "outputs": [
    {
     "data": {
      "text/html": [
       "<div>\n",
       "<style scoped>\n",
       "    .dataframe tbody tr th:only-of-type {\n",
       "        vertical-align: middle;\n",
       "    }\n",
       "\n",
       "    .dataframe tbody tr th {\n",
       "        vertical-align: top;\n",
       "    }\n",
       "\n",
       "    .dataframe thead th {\n",
       "        text-align: right;\n",
       "    }\n",
       "</style>\n",
       "<table border=\"1\" class=\"dataframe\">\n",
       "  <thead>\n",
       "    <tr style=\"text-align: right;\">\n",
       "      <th></th>\n",
       "      <th>country</th>\n",
       "      <th>fat_sum</th>\n",
       "      <th>protein_sum</th>\n",
       "      <th>carb_sum</th>\n",
       "    </tr>\n",
       "  </thead>\n",
       "  <tbody>\n",
       "    <tr>\n",
       "      <th>0</th>\n",
       "      <td>Afghanistan</td>\n",
       "      <td>22.34895</td>\n",
       "      <td>39.48570</td>\n",
       "      <td>652.80535</td>\n",
       "    </tr>\n",
       "    <tr>\n",
       "      <th>1</th>\n",
       "      <td>Albania</td>\n",
       "      <td>85.87720</td>\n",
       "      <td>87.26785</td>\n",
       "      <td>2347.89495</td>\n",
       "    </tr>\n",
       "    <tr>\n",
       "      <th>2</th>\n",
       "      <td>Algeria</td>\n",
       "      <td>58.17735</td>\n",
       "      <td>67.82430</td>\n",
       "      <td>1471.46835</td>\n",
       "    </tr>\n",
       "    <tr>\n",
       "      <th>3</th>\n",
       "      <td>Angola</td>\n",
       "      <td>35.58385</td>\n",
       "      <td>39.49300</td>\n",
       "      <td>1066.82315</td>\n",
       "    </tr>\n",
       "    <tr>\n",
       "      <th>4</th>\n",
       "      <td>Antigua and Barbuda</td>\n",
       "      <td>65.04665</td>\n",
       "      <td>59.45120</td>\n",
       "      <td>1141.85215</td>\n",
       "    </tr>\n",
       "    <tr>\n",
       "      <th>...</th>\n",
       "      <td>...</td>\n",
       "      <td>...</td>\n",
       "      <td>...</td>\n",
       "      <td>...</td>\n",
       "    </tr>\n",
       "    <tr>\n",
       "      <th>168</th>\n",
       "      <td>Argentina</td>\n",
       "      <td>85.52315</td>\n",
       "      <td>41.08075</td>\n",
       "      <td>941.53610</td>\n",
       "    </tr>\n",
       "    <tr>\n",
       "      <th>169</th>\n",
       "      <td>Belgium</td>\n",
       "      <td>113.83620</td>\n",
       "      <td>65.71095</td>\n",
       "      <td>1247.38285</td>\n",
       "    </tr>\n",
       "    <tr>\n",
       "      <th>170</th>\n",
       "      <td>Croatia</td>\n",
       "      <td>83.58135</td>\n",
       "      <td>38.86155</td>\n",
       "      <td>482.49710</td>\n",
       "    </tr>\n",
       "    <tr>\n",
       "      <th>171</th>\n",
       "      <td>Netherlands</td>\n",
       "      <td>94.53865</td>\n",
       "      <td>43.13205</td>\n",
       "      <td>574.32930</td>\n",
       "    </tr>\n",
       "    <tr>\n",
       "      <th>172</th>\n",
       "      <td>Republic of Korea</td>\n",
       "      <td>78.54070</td>\n",
       "      <td>37.38695</td>\n",
       "      <td>559.99235</td>\n",
       "    </tr>\n",
       "  </tbody>\n",
       "</table>\n",
       "<p>173 rows × 4 columns</p>\n",
       "</div>"
      ],
      "text/plain": [
       "                 country    fat_sum  protein_sum    carb_sum\n",
       "0            Afghanistan   22.34895     39.48570   652.80535\n",
       "1                Albania   85.87720     87.26785  2347.89495\n",
       "2                Algeria   58.17735     67.82430  1471.46835\n",
       "3                 Angola   35.58385     39.49300  1066.82315\n",
       "4    Antigua and Barbuda   65.04665     59.45120  1141.85215\n",
       "..                   ...        ...          ...         ...\n",
       "168            Argentina   85.52315     41.08075   941.53610\n",
       "169              Belgium  113.83620     65.71095  1247.38285\n",
       "170              Croatia   83.58135     38.86155   482.49710\n",
       "171          Netherlands   94.53865     43.13205   574.32930\n",
       "172    Republic of Korea   78.54070     37.38695   559.99235\n",
       "\n",
       "[173 rows x 4 columns]"
      ]
     },
     "execution_count": 22,
     "metadata": {},
     "output_type": "execute_result"
    }
   ],
   "source": [
    "df_macro"
   ]
  },
  {
   "cell_type": "code",
   "execution_count": 23,
   "metadata": {},
   "outputs": [
    {
     "name": "stdout",
     "output_type": "stream",
     "text": [
      "Maximum Fat Value: 122.05964999999998 \n",
      "Maximum Protein Value: 102.93365 \n",
      "Maximum Carbohydrate Value: 2347.89495\n",
      "Minimum Fat Value: 17.1477 \n",
      "Minimum Protein Value: 29.127000000000002 \n",
      "Minimum Carbohydrate Value: 482.49710000000005\n"
     ]
    }
   ],
   "source": [
    "fat_max, protein_max, carb_max = max(df_macro['fat_sum']), max(df_macro['protein_sum']),  max(df_macro['carb_sum'])\n",
    "print('Maximum Fat Value: ' + str(fat_max), '\\nMaximum Protein Value: ' + str(protein_max),'\\nMaximum Carbohydrate Value: ' + str(carb_max),)\n",
    "\n",
    "fat_min, protein_min, carb_min = min(df_macro['fat_sum']), min(df_macro['protein_sum']),  min(df_macro['carb_sum'])\n",
    "print('Minimum Fat Value: ' + str(fat_min), '\\nMinimum Protein Value: ' + str(protein_min),'\\nMinimum Carbohydrate Value: ' + str(carb_min),)"
   ]
  },
  {
   "cell_type": "markdown",
   "metadata": {},
   "source": [
    "## Histogram of Worldwide Macronutrient Distribution ##\n",
    "* `x` : percentage ranges\n",
    "* `y` : count of countries that fall under the percentage range# fat intake distribution worldwide\n",
    "fig1 = sns.histplot(x='fat_sum', data=df_macro, stat='count', bins=20)"
   ]
  },
  {
   "cell_type": "code",
   "execution_count": 24,
   "metadata": {},
   "outputs": [
    {
     "data": {
      "text/plain": [
       "Text(0.5, 1.0, 'Global distribution of Fat intake')"
      ]
     },
     "execution_count": 24,
     "metadata": {},
     "output_type": "execute_result"
    },
    {
     "data": {
      "image/png": "[encoded data removed]",
      "text/plain": [
       "<Figure size 432x288 with 1 Axes>"
      ]
     },
     "metadata": {
      "needs_background": "light"
     },
     "output_type": "display_data"
    }
   ],
   "source": [
    "# fat intake distribution worldwide\n",
    "fig1 = sns.histplot(x='fat_sum', data=df_macro, stat='count', bins=20)\n",
    "fig1.set_title('Global distribution of Fat intake')"
   ]
  },
  {
   "cell_type": "code",
   "execution_count": 25,
   "metadata": {},
   "outputs": [
    {
     "data": {
      "text/plain": [
       "Text(0.5, 1.0, 'Global Distribution of Protein Intake')"
      ]
     },
     "execution_count": 25,
     "metadata": {},
     "output_type": "execute_result"
    },
    {
     "data": {
      "image/png": "[encoded data removed]",
      "text/plain": [
       "<Figure size 432x288 with 1 Axes>"
      ]
     },
     "metadata": {
      "needs_background": "light"
     },
     "output_type": "display_data"
    }
   ],
   "source": [
    "# protein intake distribution worldwide\n",
    "fig2 = sns.histplot(x='protein_sum', data=df_macro, stat='count', bins=20)\n",
    "fig2.set_title('Global Distribution of Protein Intake')"
   ]
  },
  {
   "cell_type": "code",
   "execution_count": 26,
   "metadata": {},
   "outputs": [
    {
     "data": {
      "text/plain": [
       "Text(0.5, 1.0, 'Global Distribution of Carbohydrate Intake')"
      ]
     },
     "execution_count": 26,
     "metadata": {},
     "output_type": "execute_result"
    },
    {
     "data": {
      "image/png": "[encoded data removed]",
      "text/plain": [
       "<Figure size 432x288 with 1 Axes>"
      ]
     },
     "metadata": {
      "needs_background": "light"
     },
     "output_type": "display_data"
    }
   ],
   "source": [
    "# carb intake distribution worldwide\n",
    "fig3 = sns.histplot(x='carb_sum', data=df_macro, stat='count', bins=20)\n",
    "fig3.set_title('Global Distribution of Carbohydrate Intake')"
   ]
  },
  {
   "cell_type": "markdown",
   "metadata": {},
   "source": [
    "## Histogram of Worldwide Covid Distribution ##\n",
    "* `x` : percentage of each case\n",
    "* `y` : count of countries that fall under each bin"
   ]
  },
  {
   "cell_type": "code",
   "execution_count": 27,
   "metadata": {},
   "outputs": [
    {
     "name": "stdout",
     "output_type": "stream",
     "text": [
      "Total number of countries in the dataset: 170\n"
     ]
    }
   ],
   "source": [
    "print('Total number of countries in the dataset: '+ str(len(df_covid['Country'])))"
   ]
  },
  {
   "cell_type": "code",
   "execution_count": 28,
   "metadata": {},
   "outputs": [
    {
     "data": {
      "text/plain": [
       "Text(0.5, 1.0, 'Worldwide distribution of Confirmed Covid Cases')"
      ]
     },
     "execution_count": 28,
     "metadata": {},
     "output_type": "execute_result"
    },
    {
     "data": {
      "image/png": "[encoded data removed]",
      "text/plain": [
       "<Figure size 432x288 with 1 Axes>"
      ]
     },
     "metadata": {
      "needs_background": "light"
     },
     "output_type": "display_data"
    }
   ],
   "source": [
    "# covid confirmed cases distribution worldwide\n",
    "# observed a strong right skew, performing a log transformation\n",
    "fig4 = sns.histplot(x='Confirmed', data=df_covid, stat='count', bins=20)\n",
    "fig4.set_title('Worldwide distribution of Confirmed Covid Cases') "
   ]
  },
  {
   "cell_type": "code",
   "execution_count": 29,
   "metadata": {},
   "outputs": [
    {
     "data": {
      "text/plain": [
       "Text(0.5, 1.0, 'Global Distribution of Covid Deaths')"
      ]
     },
     "execution_count": 29,
     "metadata": {},
     "output_type": "execute_result"
    },
    {
     "data": {
      "image/png": "[encoded data removed]",
      "text/plain": [
       "<Figure size 432x288 with 1 Axes>"
      ]
     },
     "metadata": {
      "needs_background": "light"
     },
     "output_type": "display_data"
    }
   ],
   "source": [
    "# covid deaths cases distribution worldwide\n",
    "fig5 = sns.histplot(x='Deaths', data=df_covid, stat='count', bins=20)\n",
    "fig5.set_title('Global Distribution of Covid Deaths') "
   ]
  },
  {
   "cell_type": "code",
   "execution_count": 30,
   "metadata": {},
   "outputs": [
    {
     "data": {
      "text/plain": [
       "Text(0.5, 1.0, 'Global Distribution of Covid Recovery Rates')"
      ]
     },
     "execution_count": 30,
     "metadata": {},
     "output_type": "execute_result"
    },
    {
     "data": {
      "image/png": "[encoded data removed]",
      "text/plain": [
       "<Figure size 432x288 with 1 Axes>"
      ]
     },
     "metadata": {
      "needs_background": "light"
     },
     "output_type": "display_data"
    }
   ],
   "source": [
    "# covid recovered cases distribution worldwide\n",
    "fig6 = sns.histplot(x='Recovered', data=df_covid, stat='count', bins=20)\n",
    "fig6.set_title('Global Distribution of Covid Recovery Rates')"
   ]
  },
  {
   "cell_type": "code",
   "execution_count": 34,
   "metadata": {},
   "outputs": [
    {
     "name": "stderr",
     "output_type": "stream",
     "text": [
      "/Library/Frameworks/Python.framework/Versions/3.9/lib/python3.9/site-packages/pandas/core/arraylike.py:397: RuntimeWarning: divide by zero encountered in log10\n",
      "  result = getattr(ufunc, method)(*inputs, **kwargs)\n",
      "/Library/Frameworks/Python.framework/Versions/3.9/lib/python3.9/site-packages/pandas/core/arraylike.py:397: RuntimeWarning: divide by zero encountered in log10\n",
      "  result = getattr(ufunc, method)(*inputs, **kwargs)\n"
     ]
    }
   ],
   "source": [
    "# perform log transformations of COVID Distributions\n",
    "df_covid['Confirmed_log'] = np.log10(df_covid['Confirmed'])\n",
    "df_covid['Deaths_log'] = np.log10(df_covid['Deaths'])\n",
    "df_covid['Recovered_log'] = np.log10(df_covid['Recovered'])"
   ]
  },
  {
   "cell_type": "code",
   "execution_count": 35,
   "metadata": {},
   "outputs": [
    {
     "data": {
      "image/png": "[encoded data removed]",
      "text/plain": [
       "<Figure size 504x1512 with 3 Axes>"
      ]
     },
     "metadata": {},
     "output_type": "display_data"
    }
   ],
   "source": [
    "# replot figures with log transformation included\n",
    "sns.set()\n",
    "fig, axes = plt.subplots(3,1)\n",
    "sns.histplot(x='Confirmed_log', data=df_covid, stat='count', bins=20, ax = axes[0])\n",
    "axes[0].set_title('Worldwide distribution of Confirmed Covid Cases')\n",
    "sns.histplot(x='Deaths_log', data=df_covid, stat='count', bins=20, ax = axes[1])\n",
    "axes[1].set_title('Worldwide distribution of Covid deaths')\n",
    "sns.histplot(x='Recovered_log', data=df_covid, stat='count', bins=20, ax = axes[2])\n",
    "axes[2].set_title('Worldwide distribution of Covid recovery rates')\n",
    "\n",
    "# set subplot size\n",
    "fig.set_figheight(21)\n",
    "fig.set_figwidth(7)"
   ]
  },
  {
   "cell_type": "markdown",
   "metadata": {},
   "source": [
    "## Is there a correlation between macronutrient consumption and COVID rates in a country? ##"
   ]
  },
  {
   "cell_type": "code",
   "execution_count": 36,
   "metadata": {},
   "outputs": [
    {
     "data": {
      "text/html": [
       "<div>\n",
       "<style scoped>\n",
       "    .dataframe tbody tr th:only-of-type {\n",
       "        vertical-align: middle;\n",
       "    }\n",
       "\n",
       "    .dataframe tbody tr th {\n",
       "        vertical-align: top;\n",
       "    }\n",
       "\n",
       "    .dataframe thead th {\n",
       "        text-align: right;\n",
       "    }\n",
       "</style>\n",
       "<table border=\"1\" class=\"dataframe\">\n",
       "  <thead>\n",
       "    <tr style=\"text-align: right;\">\n",
       "      <th></th>\n",
       "      <th>country</th>\n",
       "      <th>fat_sum</th>\n",
       "      <th>protein_sum</th>\n",
       "      <th>carb_sum</th>\n",
       "      <th>Country</th>\n",
       "      <th>Confirmed</th>\n",
       "      <th>Deaths</th>\n",
       "      <th>Recovered</th>\n",
       "      <th>Population</th>\n",
       "      <th>confirmed_log</th>\n",
       "      <th>deaths_log</th>\n",
       "      <th>recovered_log</th>\n",
       "      <th>Confirmed_log</th>\n",
       "      <th>Deaths_log</th>\n",
       "      <th>Recovered_log</th>\n",
       "    </tr>\n",
       "  </thead>\n",
       "  <tbody>\n",
       "    <tr>\n",
       "      <th>0</th>\n",
       "      <td>Afghanistan</td>\n",
       "      <td>22.34895</td>\n",
       "      <td>39.48570</td>\n",
       "      <td>652.80535</td>\n",
       "      <td>Afghanistan</td>\n",
       "      <td>0.142134</td>\n",
       "      <td>0.006186</td>\n",
       "      <td>0.123374</td>\n",
       "      <td>38928000.0</td>\n",
       "      <td>-0.847301</td>\n",
       "      <td>-2.208606</td>\n",
       "      <td>-0.908777</td>\n",
       "      <td>-0.847301</td>\n",
       "      <td>-2.208606</td>\n",
       "      <td>-0.908777</td>\n",
       "    </tr>\n",
       "    <tr>\n",
       "      <th>1</th>\n",
       "      <td>Albania</td>\n",
       "      <td>85.87720</td>\n",
       "      <td>87.26785</td>\n",
       "      <td>2347.89495</td>\n",
       "      <td>Albania</td>\n",
       "      <td>2.967301</td>\n",
       "      <td>0.050951</td>\n",
       "      <td>1.792636</td>\n",
       "      <td>2838000.0</td>\n",
       "      <td>0.472362</td>\n",
       "      <td>-1.292844</td>\n",
       "      <td>0.253492</td>\n",
       "      <td>0.472362</td>\n",
       "      <td>-1.292844</td>\n",
       "      <td>0.253492</td>\n",
       "    </tr>\n",
       "    <tr>\n",
       "      <th>2</th>\n",
       "      <td>Algeria</td>\n",
       "      <td>58.17735</td>\n",
       "      <td>67.82430</td>\n",
       "      <td>1471.46835</td>\n",
       "      <td>Algeria</td>\n",
       "      <td>0.244897</td>\n",
       "      <td>0.006558</td>\n",
       "      <td>0.167572</td>\n",
       "      <td>44357000.0</td>\n",
       "      <td>-0.611016</td>\n",
       "      <td>-2.183218</td>\n",
       "      <td>-0.775798</td>\n",
       "      <td>-0.611016</td>\n",
       "      <td>-2.183218</td>\n",
       "      <td>-0.775798</td>\n",
       "    </tr>\n",
       "    <tr>\n",
       "      <th>3</th>\n",
       "      <td>Angola</td>\n",
       "      <td>35.58385</td>\n",
       "      <td>39.49300</td>\n",
       "      <td>1066.82315</td>\n",
       "      <td>Angola</td>\n",
       "      <td>0.061687</td>\n",
       "      <td>0.001461</td>\n",
       "      <td>0.056808</td>\n",
       "      <td>32522000.0</td>\n",
       "      <td>-1.209803</td>\n",
       "      <td>-2.835484</td>\n",
       "      <td>-1.245593</td>\n",
       "      <td>-1.209803</td>\n",
       "      <td>-2.835484</td>\n",
       "      <td>-1.245593</td>\n",
       "    </tr>\n",
       "    <tr>\n",
       "      <th>4</th>\n",
       "      <td>Antigua and Barbuda</td>\n",
       "      <td>65.04665</td>\n",
       "      <td>59.45120</td>\n",
       "      <td>1141.85215</td>\n",
       "      <td>Antigua and Barbuda</td>\n",
       "      <td>0.293878</td>\n",
       "      <td>0.007143</td>\n",
       "      <td>0.190816</td>\n",
       "      <td>98000.0</td>\n",
       "      <td>-0.531834</td>\n",
       "      <td>-2.146128</td>\n",
       "      <td>-0.719384</td>\n",
       "      <td>-0.531834</td>\n",
       "      <td>-2.146128</td>\n",
       "      <td>-0.719384</td>\n",
       "    </tr>\n",
       "  </tbody>\n",
       "</table>\n",
       "</div>"
      ],
      "text/plain": [
       "               country   fat_sum  protein_sum    carb_sum  \\\n",
       "0          Afghanistan  22.34895     39.48570   652.80535   \n",
       "1              Albania  85.87720     87.26785  2347.89495   \n",
       "2              Algeria  58.17735     67.82430  1471.46835   \n",
       "3               Angola  35.58385     39.49300  1066.82315   \n",
       "4  Antigua and Barbuda  65.04665     59.45120  1141.85215   \n",
       "\n",
       "               Country  Confirmed    Deaths  Recovered  Population  \\\n",
       "0          Afghanistan   0.142134  0.006186   0.123374  38928000.0   \n",
       "1              Albania   2.967301  0.050951   1.792636   2838000.0   \n",
       "2              Algeria   0.244897  0.006558   0.167572  44357000.0   \n",
       "3               Angola   0.061687  0.001461   0.056808  32522000.0   \n",
       "4  Antigua and Barbuda   0.293878  0.007143   0.190816     98000.0   \n",
       "\n",
       "   confirmed_log  deaths_log  recovered_log  Confirmed_log  Deaths_log  \\\n",
       "0      -0.847301   -2.208606      -0.908777      -0.847301   -2.208606   \n",
       "1       0.472362   -1.292844       0.253492       0.472362   -1.292844   \n",
       "2      -0.611016   -2.183218      -0.775798      -0.611016   -2.183218   \n",
       "3      -1.209803   -2.835484      -1.245593      -1.209803   -2.835484   \n",
       "4      -0.531834   -2.146128      -0.719384      -0.531834   -2.146128   \n",
       "\n",
       "   Recovered_log  \n",
       "0      -0.908777  \n",
       "1       0.253492  \n",
       "2      -0.775798  \n",
       "3      -1.245593  \n",
       "4      -0.719384  "
      ]
     },
     "execution_count": 36,
     "metadata": {},
     "output_type": "execute_result"
    }
   ],
   "source": [
    "# combine macronutrient dataframe with COVID dataframe\n",
    "macro_covid_combined_df = pd.concat([df_macro, df_covid], axis=1)\n",
    "macro_covid_combined_df.head()"
   ]
  },
  {
   "cell_type": "code",
   "execution_count": 37,
   "metadata": {},
   "outputs": [
    {
     "data": {
      "image/png": "[encoded data removed]",
      "text/plain": [
       "<Figure size 504x1512 with 3 Axes>"
      ]
     },
     "metadata": {},
     "output_type": "display_data"
    }
   ],
   "source": [
    "sns.set()\n",
    "fig, axes = plt.subplots(3,1)\n",
    "sns.regplot(data = macro_covid_combined_df, x = 'fat_sum', y = 'Confirmed', ax = axes[0])\n",
    "axes[0].set_title('National Fat Consumption vs Confirmed Covid Cases')\n",
    "sns.regplot(data = macro_covid_combined_df, x = 'protein_sum', y = 'Confirmed', ax = axes[1])\n",
    "axes[1].set_title('National Protein Consumption vs Confirmed Covid Cases')\n",
    "sns.regplot(data = macro_covid_combined_df, x = 'carb_sum', y = 'Confirmed', ax = axes[2])\n",
    "axes[2].set_title('National Carbohydrate Consumption vs Confirmed Covid Cases')\n",
    "\n",
    "# set subplot size\n",
    "fig.set_figheight(21)\n",
    "fig.set_figwidth(7)"
   ]
  },
  {
   "cell_type": "code",
   "execution_count": 38,
   "metadata": {},
   "outputs": [
    {
     "name": "stdout",
     "output_type": "stream",
     "text": [
      "                            OLS Regression Results                            \n",
      "==============================================================================\n",
      "Dep. Variable:              Confirmed   R-squared:                       0.017\n",
      "Model:                            OLS   Adj. R-squared:                  0.011\n",
      "Method:                 Least Squares   F-statistic:                     2.882\n",
      "Date:                Thu, 02 Jun 2022   Prob (F-statistic):             0.0915\n",
      "Time:                        20:32:30   Log-Likelihood:                -371.61\n",
      "No. Observations:                 164   AIC:                             747.2\n",
      "Df Residuals:                     162   BIC:                             753.4\n",
      "Df Model:                           1                                         \n",
      "Covariance Type:            nonrobust                                         \n",
      "==============================================================================\n",
      "                 coef    std err          t      P>|t|      [0.025      0.975]\n",
      "------------------------------------------------------------------------------\n",
      "Intercept      1.2641      0.483      2.619      0.010       0.311       2.217\n",
      "fat_sum        0.0119      0.007      1.698      0.092      -0.002       0.026\n",
      "==============================================================================\n",
      "Omnibus:                       34.426   Durbin-Watson:                   1.960\n",
      "Prob(Omnibus):                  0.000   Jarque-Bera (JB):               48.207\n",
      "Skew:                           1.248   Prob(JB):                     3.40e-11\n",
      "Kurtosis:                       3.910   Cond. No.                         182.\n",
      "==============================================================================\n",
      "\n",
      "Notes:\n",
      "[1] Standard Errors assume that the covariance matrix of the errors is correctly specified.\n"
     ]
    }
   ],
   "source": [
    "# Linear regression on fat consumption and covid cases\n",
    "outcome_fat, predictors_fat = patsy.dmatrices('Confirmed ~ fat_sum', macro_covid_combined_df)\n",
    "mod_fat = sm.OLS(outcome_fat, predictors_fat)\n",
    "res_fat = mod_fat.fit()\n",
    "print(res_fat.summary())"
   ]
  },
  {
   "cell_type": "code",
   "execution_count": 39,
   "metadata": {},
   "outputs": [
    {
     "name": "stdout",
     "output_type": "stream",
     "text": [
      "                            OLS Regression Results                            \n",
      "==============================================================================\n",
      "Dep. Variable:              Confirmed   R-squared:                       0.011\n",
      "Model:                            OLS   Adj. R-squared:                  0.005\n",
      "Method:                 Least Squares   F-statistic:                     1.878\n",
      "Date:                Thu, 02 Jun 2022   Prob (F-statistic):              0.173\n",
      "Time:                        20:32:30   Log-Likelihood:                -372.11\n",
      "No. Observations:                 164   AIC:                             748.2\n",
      "Df Residuals:                     162   BIC:                             754.4\n",
      "Df Model:                           1                                         \n",
      "Covariance Type:            nonrobust                                         \n",
      "===============================================================================\n",
      "                  coef    std err          t      P>|t|      [0.025      0.975]\n",
      "-------------------------------------------------------------------------------\n",
      "Intercept       0.9941      0.772      1.287      0.200      -0.531       2.519\n",
      "protein_sum     0.0172      0.013      1.370      0.173      -0.008       0.042\n",
      "==============================================================================\n",
      "Omnibus:                       38.365   Durbin-Watson:                   1.912\n",
      "Prob(Omnibus):                  0.000   Jarque-Bera (JB):               56.627\n",
      "Skew:                           1.318   Prob(JB):                     5.05e-13\n",
      "Kurtosis:                       4.158   Cond. No.                         259.\n",
      "==============================================================================\n",
      "\n",
      "Notes:\n",
      "[1] Standard Errors assume that the covariance matrix of the errors is correctly specified.\n"
     ]
    }
   ],
   "source": [
    "# Linear regression on protein consumption and covid cases\n",
    "outcome_protein, predictors_protein = patsy.dmatrices('Confirmed ~ protein_sum', macro_covid_combined_df)\n",
    "mod_protein = sm.OLS(outcome_protein, predictors_protein)\n",
    "res_protein = mod_protein.fit()\n",
    "print(res_protein.summary())"
   ]
  },
  {
   "cell_type": "code",
   "execution_count": 40,
   "metadata": {},
   "outputs": [
    {
     "name": "stdout",
     "output_type": "stream",
     "text": [
      "                            OLS Regression Results                            \n",
      "==============================================================================\n",
      "Dep. Variable:              Confirmed   R-squared:                       0.004\n",
      "Model:                            OLS   Adj. R-squared:                 -0.002\n",
      "Method:                 Least Squares   F-statistic:                    0.6064\n",
      "Date:                Thu, 02 Jun 2022   Prob (F-statistic):              0.437\n",
      "Time:                        20:32:31   Log-Likelihood:                -372.75\n",
      "No. Observations:                 164   AIC:                             749.5\n",
      "Df Residuals:                     162   BIC:                             755.7\n",
      "Df Model:                           1                                         \n",
      "Covariance Type:            nonrobust                                         \n",
      "==============================================================================\n",
      "                 coef    std err          t      P>|t|      [0.025      0.975]\n",
      "------------------------------------------------------------------------------\n",
      "Intercept      1.5399      0.646      2.384      0.018       0.264       2.815\n",
      "carb_sum       0.0004      0.000      0.779      0.437      -0.001       0.001\n",
      "==============================================================================\n",
      "Omnibus:                       38.300   Durbin-Watson:                   1.916\n",
      "Prob(Omnibus):                  0.000   Jarque-Bera (JB):               56.459\n",
      "Skew:                           1.318   Prob(JB):                     5.50e-13\n",
      "Kurtosis:                       4.146   Cond. No.                     4.68e+03\n",
      "==============================================================================\n",
      "\n",
      "Notes:\n",
      "[1] Standard Errors assume that the covariance matrix of the errors is correctly specified.\n",
      "[2] The condition number is large, 4.68e+03. This might indicate that there are\n",
      "strong multicollinearity or other numerical problems.\n"
     ]
    }
   ],
   "source": [
    "# Linear regression on carbohydrate consumption and covid cases\n",
    "outcome_carb, predictors_carb = patsy.dmatrices('Confirmed ~ carb_sum', macro_covid_combined_df)\n",
    "mod_carb = sm.OLS(outcome_carb, predictors_carb)\n",
    "res_carb = mod_carb.fit()\n",
    "print(res_carb.summary())"
   ]
  },
  {
   "cell_type": "markdown",
   "metadata": {},
   "source": [
    "In all three of the scatterplots, we can observe a subtle linear relationship between the two variables using the regression line. \n",
    "\n",
    "The results of the linear regression analysis suggest that there are not statistically signficant relationships between fat consumption and COVID cases, protein consumption and COVID cases, and carb consumption and COVID cases. We can see that the 95% confidence interval for all three coefficients include 0. "
   ]
  },
  {
   "cell_type": "markdown",
   "metadata": {},
   "source": [
    "## Geospatial Analysis ##"
   ]
  },
  {
   "cell_type": "code",
   "execution_count": 41,
   "metadata": {},
   "outputs": [],
   "source": [
    "#pip install geopandas\n",
    "#import geopandas as gpd"
   ]
  },
  {
   "cell_type": "code",
   "execution_count": 42,
   "metadata": {},
   "outputs": [],
   "source": [
    "#world = gpd.read_file(gpd.datasets.get_path('naturalearth_lowres'))\n",
    "#world.plot()"
   ]
  },
  {
   "cell_type": "markdown",
   "metadata": {},
   "source": [
    "## Health Score ##\n",
    "\n",
    "To determine whether diet quality(which will be quantified by degree of similarity to macronutrient guidelines) is correlated with COVID rates\n",
    "\n",
    "According to the IOM, \"The acceptable macronutrient distribution ranges (AMDR) are 45–65% of your daily calories from carbs, 20–35% from fats and 10–35% from protein\".[^7]\n",
    "\n",
    "[^7]: https://pubmed.ncbi.nlm.nih.gov/16004827/"
   ]
  },
  {
   "cell_type": "code",
   "execution_count": 43,
   "metadata": {},
   "outputs": [
    {
     "data": {
      "text/html": [
       "<div>\n",
       "<style scoped>\n",
       "    .dataframe tbody tr th:only-of-type {\n",
       "        vertical-align: middle;\n",
       "    }\n",
       "\n",
       "    .dataframe tbody tr th {\n",
       "        vertical-align: top;\n",
       "    }\n",
       "\n",
       "    .dataframe thead th {\n",
       "        text-align: right;\n",
       "    }\n",
       "</style>\n",
       "<table border=\"1\" class=\"dataframe\">\n",
       "  <thead>\n",
       "    <tr style=\"text-align: right;\">\n",
       "      <th></th>\n",
       "      <th>country</th>\n",
       "      <th>fat_percent</th>\n",
       "      <th>carb_percent</th>\n",
       "      <th>protein_percent</th>\n",
       "    </tr>\n",
       "  </thead>\n",
       "  <tbody>\n",
       "    <tr>\n",
       "      <th>0</th>\n",
       "      <td>Afghanistan</td>\n",
       "      <td>6.349668</td>\n",
       "      <td>82.431859</td>\n",
       "      <td>11.218473</td>\n",
       "    </tr>\n",
       "    <tr>\n",
       "      <th>1</th>\n",
       "      <td>Albania</td>\n",
       "      <td>7.058474</td>\n",
       "      <td>85.768751</td>\n",
       "      <td>7.172775</td>\n",
       "    </tr>\n",
       "    <tr>\n",
       "      <th>2</th>\n",
       "      <td>Algeria</td>\n",
       "      <td>7.458753</td>\n",
       "      <td>83.845685</td>\n",
       "      <td>8.695561</td>\n",
       "    </tr>\n",
       "    <tr>\n",
       "      <th>3</th>\n",
       "      <td>Angola</td>\n",
       "      <td>6.478974</td>\n",
       "      <td>86.330289</td>\n",
       "      <td>7.190737</td>\n",
       "    </tr>\n",
       "    <tr>\n",
       "      <th>4</th>\n",
       "      <td>Antigua and Barbuda</td>\n",
       "      <td>10.292392</td>\n",
       "      <td>80.300590</td>\n",
       "      <td>9.407019</td>\n",
       "    </tr>\n",
       "  </tbody>\n",
       "</table>\n",
       "</div>"
      ],
      "text/plain": [
       "               country  fat_percent  carb_percent  protein_percent\n",
       "0          Afghanistan     6.349668     82.431859        11.218473\n",
       "1              Albania     7.058474     85.768751         7.172775\n",
       "2              Algeria     7.458753     83.845685         8.695561\n",
       "3               Angola     6.478974     86.330289         7.190737\n",
       "4  Antigua and Barbuda    10.292392     80.300590         9.407019"
      ]
     },
     "execution_count": 43,
     "metadata": {},
     "output_type": "execute_result"
    }
   ],
   "source": [
    "#since the guidlines provide a range, the midpoint of the ranges will be used for comparison.\n",
    "rec_carbs=(45+65)/2\n",
    "rec_fat=(35-20)/2\n",
    "rec_protein=(35-10)/2\n",
    "\n",
    "#data in df_macro represent the consumption of each macronutrient in terms of kg/capita/year.\n",
    "#However, the guidelines are in terms of %daily calories.\n",
    "#data in df_macro need to be converted to kcal/capita/year \n",
    "#https://www.nal.usda.gov/legacy/fnic/how-many-calories-are-one-gram-fat-carbohydrate-or-protein\n",
    "\n",
    "kcal_per_kg_carbs=4000\n",
    "kcal_per_kg_fat=9000\n",
    "kcal_per_kg_protein=9000\n",
    "\n",
    "df_macro_kcal=df_macro.assign(fat_kcal=df_macro['fat_sum']*kcal_per_kg_fat, \n",
    "                              carb_kcal=df_macro['carb_sum']*kcal_per_kg_carbs, \n",
    "                              protein_kcal=df_macro['protein_sum']*kcal_per_kg_protein)\n",
    "\n",
    "df_macro_kcal['total_kcal']=df_macro_kcal[['fat_kcal','carb_kcal','protein_kcal']].sum(axis=1)\n",
    "df_macro_kcal=df_macro.assign(fat_percent=100*df_macro_kcal['fat_kcal']/df_macro_kcal['total_kcal'], \n",
    "                              carb_percent=100*df_macro_kcal['carb_kcal']/df_macro_kcal['total_kcal'], \n",
    "                              protein_percent=100*df_macro_kcal['protein_kcal']/df_macro_kcal['total_kcal'])\n",
    "\n",
    "#remove irrelevant columns\n",
    "df_macro_kcal=df_macro_kcal.drop(columns=['fat_sum','protein_sum','carb_sum'])\n",
    "\n",
    "df_macro_kcal.head()"
   ]
  },
  {
   "cell_type": "code",
   "execution_count": 44,
   "metadata": {},
   "outputs": [
    {
     "data": {
      "text/html": [
       "<div>\n",
       "<style scoped>\n",
       "    .dataframe tbody tr th:only-of-type {\n",
       "        vertical-align: middle;\n",
       "    }\n",
       "\n",
       "    .dataframe tbody tr th {\n",
       "        vertical-align: top;\n",
       "    }\n",
       "\n",
       "    .dataframe thead th {\n",
       "        text-align: right;\n",
       "    }\n",
       "</style>\n",
       "<table border=\"1\" class=\"dataframe\">\n",
       "  <thead>\n",
       "    <tr style=\"text-align: right;\">\n",
       "      <th></th>\n",
       "      <th>country</th>\n",
       "      <th>fat_percent</th>\n",
       "      <th>carb_percent</th>\n",
       "      <th>protein_percent</th>\n",
       "      <th>carb_diff</th>\n",
       "      <th>fat_diff</th>\n",
       "      <th>protein_diff</th>\n",
       "      <th>health_score</th>\n",
       "    </tr>\n",
       "  </thead>\n",
       "  <tbody>\n",
       "    <tr>\n",
       "      <th>0</th>\n",
       "      <td>Afghanistan</td>\n",
       "      <td>6.349668</td>\n",
       "      <td>82.431859</td>\n",
       "      <td>11.218473</td>\n",
       "      <td>27.431859</td>\n",
       "      <td>-1.150332</td>\n",
       "      <td>-1.281527</td>\n",
       "      <td>29.863718</td>\n",
       "    </tr>\n",
       "    <tr>\n",
       "      <th>1</th>\n",
       "      <td>Albania</td>\n",
       "      <td>7.058474</td>\n",
       "      <td>85.768751</td>\n",
       "      <td>7.172775</td>\n",
       "      <td>30.768751</td>\n",
       "      <td>-0.441526</td>\n",
       "      <td>-5.327225</td>\n",
       "      <td>36.537502</td>\n",
       "    </tr>\n",
       "    <tr>\n",
       "      <th>2</th>\n",
       "      <td>Algeria</td>\n",
       "      <td>7.458753</td>\n",
       "      <td>83.845685</td>\n",
       "      <td>8.695561</td>\n",
       "      <td>28.845685</td>\n",
       "      <td>-0.041247</td>\n",
       "      <td>-3.804439</td>\n",
       "      <td>32.691370</td>\n",
       "    </tr>\n",
       "    <tr>\n",
       "      <th>3</th>\n",
       "      <td>Angola</td>\n",
       "      <td>6.478974</td>\n",
       "      <td>86.330289</td>\n",
       "      <td>7.190737</td>\n",
       "      <td>31.330289</td>\n",
       "      <td>-1.021026</td>\n",
       "      <td>-5.309263</td>\n",
       "      <td>37.660578</td>\n",
       "    </tr>\n",
       "    <tr>\n",
       "      <th>4</th>\n",
       "      <td>Antigua and Barbuda</td>\n",
       "      <td>10.292392</td>\n",
       "      <td>80.300590</td>\n",
       "      <td>9.407019</td>\n",
       "      <td>25.300590</td>\n",
       "      <td>2.792392</td>\n",
       "      <td>-3.092981</td>\n",
       "      <td>31.185963</td>\n",
       "    </tr>\n",
       "  </tbody>\n",
       "</table>\n",
       "</div>"
      ],
      "text/plain": [
       "               country  fat_percent  carb_percent  protein_percent  carb_diff  \\\n",
       "0          Afghanistan     6.349668     82.431859        11.218473  27.431859   \n",
       "1              Albania     7.058474     85.768751         7.172775  30.768751   \n",
       "2              Algeria     7.458753     83.845685         8.695561  28.845685   \n",
       "3               Angola     6.478974     86.330289         7.190737  31.330289   \n",
       "4  Antigua and Barbuda    10.292392     80.300590         9.407019  25.300590   \n",
       "\n",
       "   fat_diff  protein_diff  health_score  \n",
       "0 -1.150332     -1.281527     29.863718  \n",
       "1 -0.441526     -5.327225     36.537502  \n",
       "2 -0.041247     -3.804439     32.691370  \n",
       "3 -1.021026     -5.309263     37.660578  \n",
       "4  2.792392     -3.092981     31.185963  "
      ]
     },
     "execution_count": 44,
     "metadata": {},
     "output_type": "execute_result"
    }
   ],
   "source": [
    "#compare with guidelines; negative differences = x% lower than guidelines\n",
    "\n",
    "df_macro_kcal=df_macro_kcal.assign(carb_diff=df_macro_kcal['carb_percent']-rec_carbs,\n",
    "                                   fat_diff=df_macro_kcal['fat_percent']-rec_fat,\n",
    "                                   protein_diff=df_macro_kcal['protein_percent']-rec_protein)                       \n",
    "\n",
    "#calculate health score; absolute values because we are concerned about how closely guidelines are followed\n",
    "#the lower the score, the 'healthier' the diet\n",
    "def healthscore(carb_diff,fat_diff,protein_diff):\n",
    "    carb_score=abs(carb_diff)\n",
    "    fat_score=abs(fat_diff)\n",
    "    protein_score=abs(protein_diff)\n",
    "    return carb_score+fat_score+protein_score\n",
    "\n",
    "df_macro_kcal=df_macro_kcal.assign(health_score=df_macro_kcal.apply(lambda row: healthscore(row['carb_diff'],\n",
    "                                                                              row['fat_diff'],\n",
    "                                                                              row['protein_diff']),axis=1))\n",
    "\n",
    "df_macro_kcal.head()\n",
    "\n"
   ]
  },
  {
   "cell_type": "code",
   "execution_count": 45,
   "metadata": {},
   "outputs": [
    {
     "name": "stdout",
     "output_type": "stream",
     "text": [
      "Maximum health score:\n"
     ]
    },
    {
     "data": {
      "text/html": [
       "<div>\n",
       "<style scoped>\n",
       "    .dataframe tbody tr th:only-of-type {\n",
       "        vertical-align: middle;\n",
       "    }\n",
       "\n",
       "    .dataframe tbody tr th {\n",
       "        vertical-align: top;\n",
       "    }\n",
       "\n",
       "    .dataframe thead th {\n",
       "        text-align: right;\n",
       "    }\n",
       "</style>\n",
       "<table border=\"1\" class=\"dataframe\">\n",
       "  <thead>\n",
       "    <tr style=\"text-align: right;\">\n",
       "      <th></th>\n",
       "      <th>country</th>\n",
       "      <th>fat_percent</th>\n",
       "      <th>carb_percent</th>\n",
       "      <th>protein_percent</th>\n",
       "      <th>carb_diff</th>\n",
       "      <th>fat_diff</th>\n",
       "      <th>protein_diff</th>\n",
       "      <th>health_score</th>\n",
       "    </tr>\n",
       "  </thead>\n",
       "  <tbody>\n",
       "    <tr>\n",
       "      <th>126</th>\n",
       "      <td>Rwanda</td>\n",
       "      <td>2.041986</td>\n",
       "      <td>89.456296</td>\n",
       "      <td>8.501718</td>\n",
       "      <td>34.456296</td>\n",
       "      <td>-5.458014</td>\n",
       "      <td>-3.998282</td>\n",
       "      <td>43.912591</td>\n",
       "    </tr>\n",
       "  </tbody>\n",
       "</table>\n",
       "</div>"
      ],
      "text/plain": [
       "    country  fat_percent  carb_percent  protein_percent  carb_diff  fat_diff  \\\n",
       "126  Rwanda     2.041986     89.456296         8.501718  34.456296 -5.458014   \n",
       "\n",
       "     protein_diff  health_score  \n",
       "126     -3.998282     43.912591  "
      ]
     },
     "execution_count": 45,
     "metadata": {},
     "output_type": "execute_result"
    }
   ],
   "source": [
    "print(\"Maximum health score:\")\n",
    "df_macro_kcal[df_macro_kcal.get('health_score')== max(df_macro_kcal['health_score'])]"
   ]
  },
  {
   "cell_type": "code",
   "execution_count": 46,
   "metadata": {},
   "outputs": [
    {
     "name": "stdout",
     "output_type": "stream",
     "text": [
      "Minimum health score:\n"
     ]
    },
    {
     "data": {
      "text/html": [
       "<div>\n",
       "<style scoped>\n",
       "    .dataframe tbody tr th:only-of-type {\n",
       "        vertical-align: middle;\n",
       "    }\n",
       "\n",
       "    .dataframe tbody tr th {\n",
       "        vertical-align: top;\n",
       "    }\n",
       "\n",
       "    .dataframe thead th {\n",
       "        text-align: right;\n",
       "    }\n",
       "</style>\n",
       "<table border=\"1\" class=\"dataframe\">\n",
       "  <thead>\n",
       "    <tr style=\"text-align: right;\">\n",
       "      <th></th>\n",
       "      <th>country</th>\n",
       "      <th>fat_percent</th>\n",
       "      <th>carb_percent</th>\n",
       "      <th>protein_percent</th>\n",
       "      <th>carb_diff</th>\n",
       "      <th>fat_diff</th>\n",
       "      <th>protein_diff</th>\n",
       "      <th>health_score</th>\n",
       "    </tr>\n",
       "  </thead>\n",
       "  <tbody>\n",
       "    <tr>\n",
       "      <th>31</th>\n",
       "      <td>China, mainland</td>\n",
       "      <td>9.006647</td>\n",
       "      <td>78.167296</td>\n",
       "      <td>12.826057</td>\n",
       "      <td>23.167296</td>\n",
       "      <td>1.506647</td>\n",
       "      <td>0.326057</td>\n",
       "      <td>25.0</td>\n",
       "    </tr>\n",
       "  </tbody>\n",
       "</table>\n",
       "</div>"
      ],
      "text/plain": [
       "            country  fat_percent  carb_percent  protein_percent  carb_diff  \\\n",
       "31  China, mainland     9.006647     78.167296        12.826057  23.167296   \n",
       "\n",
       "    fat_diff  protein_diff  health_score  \n",
       "31  1.506647      0.326057          25.0  "
      ]
     },
     "execution_count": 46,
     "metadata": {},
     "output_type": "execute_result"
    }
   ],
   "source": [
    "print(\"Minimum health score:\")\n",
    "df_macro_kcal[df_macro_kcal.get('health_score')== min(df_macro_kcal['health_score'])]"
   ]
  },
  {
   "cell_type": "markdown",
   "metadata": {},
   "source": [
    "### Health Score Distributions ###"
   ]
  },
  {
   "cell_type": "code",
   "execution_count": 47,
   "metadata": {
    "scrolled": true
   },
   "outputs": [
    {
     "data": {
      "image/png": "[encoded data removed]",
      "text/plain": [
       "<Figure size 432x288 with 1 Axes>"
      ]
     },
     "metadata": {},
     "output_type": "display_data"
    }
   ],
   "source": [
    "#What distribution do the carb differences take on?\n",
    "\n",
    "fig_health_score = sns.histplot(x='carb_diff', data=df_macro_kcal, stat='count', bins=20)\n",
    "fig_health_score.set_title('Global Distribution of Deviance from Recommended Carbohydrate Intake');"
   ]
  },
  {
   "cell_type": "markdown",
   "metadata": {},
   "source": [
    "All nations in the dataset consume a higher percentage of carbohydrates than recommended. The distribution is left skewed."
   ]
  },
  {
   "cell_type": "code",
   "execution_count": 72,
   "metadata": {
    "scrolled": true
   },
   "outputs": [
    {
     "data": {
      "image/png": "[encoded data removed]",
      "text/plain": [
       "<Figure size 432x288 with 1 Axes>"
      ]
     },
     "metadata": {},
     "output_type": "display_data"
    }
   ],
   "source": [
    "#What distribution do the fat differences take on?\n",
    "fig_health_score = sns.histplot(x='fat_diff', data=df_macro_kcal, stat='count', bins=20)\n",
    "fig_health_score.set_title('Global Distribution of Deviance from Recommended Fat Intake');"
   ]
  },
  {
   "cell_type": "markdown",
   "metadata": {},
   "source": [
    "The distribution is right skewed; most nations roughly adhere to guideline fat%."
   ]
  },
  {
   "cell_type": "code",
   "execution_count": 49,
   "metadata": {},
   "outputs": [
    {
     "data": {
      "image/png": "[encoded data removed]",
      "text/plain": [
       "<Figure size 432x288 with 1 Axes>"
      ]
     },
     "metadata": {},
     "output_type": "display_data"
    }
   ],
   "source": [
    "#What distribution do the protein differences take on?\n",
    "\n",
    "fig_health_scoreAll nations in the dataset consume a higher percentage of carbohydrates than recommended. The distribution is left skewed. = sns.histplot(x='protein_diff', data=df_macro_kcal, stat='count', bins=20)\n",
    "fig_health_score.set_title('Global Distribution of Deviance from Recommended Protein Intake');"
   ]
  },
  {
   "cell_type": "code",
   "execution_count": 50,
   "metadata": {},
   "outputs": [
    {
     "data": {
      "image/png": "[encoded data removed]",
      "text/plain": [
       "<Figure size 432x288 with 1 Axes>"
      ]
     },
     "metadata": {},
     "output_type": "display_data"
    }
   ],
   "source": [
    "#What distribution do the overall### Is there a correlation between diet health score and COVID rates in a country? ### health scores take on?\n",
    "\n",
    "fig_health_score = sns.histplot(x='health_score', data=df_macro_kcal, stat='count', bins=20)\n",
    "fig_health_score.set_title('Global Distribution of Health Score');"
   ]
  },
  {
   "cell_type": "markdown",
   "metadata": {},
   "source": [
    "Health scores among countries are quite evenly distributed about the mean of ~33."
   ]
  },
  {
   "cell_type": "markdown",
   "metadata": {},
   "source": [
    "### Is there a correlation between diet health score and COVID rates in a country? ###"
   ]
  },
  {
   "cell_type": "code",
   "execution_count": 51,
   "metadata": {
    "scrolled": true
   },
   "outputs": [
    {
     "data": {
      "text/html": [
       "<div>\n",
       "<style scoped>\n",
       "    .dataframe tbody tr th:only-of-type {\n",
       "        vertical-align: middle;\n",
       "    }\n",
       "\n",
       "    .dataframe tbody tr th {\n",
       "        vertical-align: top;\n",
       "    }\n",
       "\n",
       "    .dataframe thead th {\n",
       "        text-align: right;\n",
       "    }\n",
       "</style>\n",
       "<table border=\"1\" class=\"dataframe\">\n",
       "  <thead>\n",
       "    <tr style=\"text-align: right;\">\n",
       "      <th></th>\n",
       "      <th>country</th>\n",
       "      <th>fat_percent</th>\n",
       "      <th>carb_percent</th>\n",
       "      <th>protein_percent</th>\n",
       "      <th>carb_diff</th>\n",
       "      <th>fat_diff</th>\n",
       "      <th>protein_diff</th>\n",
       "      <th>health_score</th>\n",
       "      <th>Country</th>\n",
       "      <th>Confirmed</th>\n",
       "      <th>Deaths</th>\n",
       "      <th>Recovered</th>\n",
       "      <th>Population</th>\n",
       "      <th>confirmed_log</th>\n",
       "      <th>deaths_log</th>\n",
       "      <th>recovered_log</th>\n",
       "      <th>Confirmed_log</th>\n",
       "      <th>Deaths_log</th>\n",
       "      <th>Recovered_log</th>\n",
       "    </tr>\n",
       "  </thead>\n",
       "  <tbody>\n",
       "    <tr>\n",
       "      <th>0</th>\n",
       "      <td>Afghanistan</td>\n",
       "      <td>6.349668</td>\n",
       "      <td>82.431859</td>\n",
       "      <td>11.218473</td>\n",
       "      <td>27.431859</td>\n",
       "      <td>-1.150332</td>\n",
       "      <td>-1.281527</td>\n",
       "      <td>29.863718</td>\n",
       "      <td>Afghanistan</td>\n",
       "      <td>0.142134</td>\n",
       "      <td>0.006186</td>\n",
       "      <td>0.123374</td>\n",
       "      <td>38928000.0</td>\n",
       "      <td>-0.847301</td>\n",
       "      <td>-2.208606</td>\n",
       "      <td>-0.908777</td>\n",
       "      <td>-0.847301</td>\n",
       "      <td>-2.208606</td>\n",
       "      <td>-0.908777</td>\n",
       "    </tr>\n",
       "    <tr>\n",
       "      <th>1</th>\n",
       "      <td>Albania</td>\n",
       "      <td>7.058474</td>\n",
       "      <td>85.768751</td>\n",
       "      <td>7.172775</td>\n",
       "      <td>30.768751</td>\n",
       "      <td>-0.441526</td>\n",
       "      <td>-5.327225</td>\n",
       "      <td>36.537502</td>\n",
       "      <td>Albania</td>\n",
       "      <td>2.967301</td>\n",
       "      <td>0.050951</td>\n",
       "      <td>1.792636</td>\n",
       "      <td>2838000.0</td>\n",
       "      <td>0.472362</td>\n",
       "      <td>-1.292844</td>\n",
       "      <td>0.253492</td>\n",
       "      <td>0.472362</td>\n",
       "      <td>-1.292844</td>\n",
       "      <td>0.253492</td>\n",
       "    </tr>\n",
       "    <tr>\n",
       "      <th>2</th>\n",
       "      <td>Algeria</td>\n",
       "      <td>7.458753</td>\n",
       "      <td>83.845685</td>\n",
       "      <td>8.695561</td>\n",
       "      <td>28.845685</td>\n",
       "      <td>-0.041247</td>\n",
       "      <td>-3.804439</td>\n",
       "      <td>32.691370</td>\n",
       "      <td>Algeria</td>\n",
       "      <td>0.244897</td>\n",
       "      <td>0.006558</td>\n",
       "      <td>0.167572</td>\n",
       "      <td>44357000.0</td>\n",
       "      <td>-0.611016</td>\n",
       "      <td>-2.183218</td>\n",
       "      <td>-0.775798</td>\n",
       "      <td>-0.611016</td>\n",
       "      <td>-2.183218</td>\n",
       "      <td>-0.775798</td>\n",
       "    </tr>\n",
       "    <tr>\n",
       "      <th>3</th>\n",
       "      <td>Angola</td>\n",
       "      <td>6.478974</td>\n",
       "      <td>86.330289</td>\n",
       "      <td>7.190737</td>\n",
       "      <td>31.330289</td>\n",
       "      <td>-1.021026</td>\n",
       "      <td>-5.309263</td>\n",
       "      <td>37.660578</td>\n",
       "      <td>Angola</td>\n",
       "      <td>0.061687</td>\n",
       "      <td>0.001461</td>\n",
       "      <td>0.056808</td>\n",
       "      <td>32522000.0</td>\n",
       "      <td>-1.209803</td>\n",
       "      <td>-2.835484</td>\n",
       "      <td>-1.245593</td>\n",
       "      <td>-1.209803</td>\n",
       "      <td>-2.835484</td>\n",
       "      <td>-1.245593</td>\n",
       "    </tr>\n",
       "    <tr>\n",
       "      <th>4</th>\n",
       "      <td>Antigua and Barbuda</td>\n",
       "      <td>10.292392</td>\n",
       "      <td>80.300590</td>\n",
       "      <td>9.407019</td>\n",
       "      <td>25.300590</td>\n",
       "      <td>2.792392</td>\n",
       "      <td>-3.092981</td>\n",
       "      <td>31.185963</td>\n",
       "      <td>Antigua and Barbuda</td>\n",
       "      <td>0.293878</td>\n",
       "      <td>0.007143</td>\n",
       "      <td>0.190816</td>\n",
       "      <td>98000.0</td>\n",
       "      <td>-0.531834</td>\n",
       "      <td>-2.146128</td>\n",
       "      <td>-0.719384</td>\n",
       "      <td>-0.531834</td>\n",
       "      <td>-2.146128</td>\n",
       "      <td>-0.719384</td>\n",
       "    </tr>\n",
       "  </tbody>\n",
       "</table>\n",
       "</div>"
      ],
      "text/plain": [
       "               country  fat_percent  carb_percent  protein_percent  carb_diff  \\\n",
       "0          Afghanistan     6.349668     82.431859        11.218473  27.431859   \n",
       "1              Albania     7.058474     85.768751         7.172775  30.768751   \n",
       "2              Algeria     7.458753     83.845685         8.695561  28.845685   \n",
       "3               Angola     6.478974     86.330289         7.190737  31.330289   \n",
       "4  Antigua and Barbuda    10.292392     80.300590         9.407019  25.300590   \n",
       "\n",
       "   fat_diff  protein_diff  health_score              Country  Confirmed  \\\n",
       "0 -1.150332     -1.281527     29.863718          Afghanistan   0.142134   \n",
       "1 -0.441526     -5.327225     36.537502              Albania   2.967301   \n",
       "2 -0.041247     -3.804439     32.691370              Algeria   0.244897   \n",
       "3 -1.021026     -5.309263     37.660578               Angola   0.061687   \n",
       "4  2.792392     -3.092981     31.185963  Antigua and Barbuda   0.293878   \n",
       "\n",
       "     Deaths  Recovered  Population  confirmed_log  deaths_log  recovered_log  \\\n",
       "0  0.006186   0.123374  38928000.0      -0.847301   -2.208606      -0.908777   \n",
       "1  0.050951   1.792636   2838000.0       0.472362   -1.292844       0.253492   \n",
       "2  0.006558   0.167572  44357000.0      -0.611016   -2.183218      -0.775798   \n",
       "3  0.001461   0.056808  32522000.0      -1.209803   -2.835484      -1.245593   \n",
       "4  0.007143   0.190816     98000.0      -0.531834   -2.146128      -0.719384   \n",
       "\n",
       "   Confirmed_log  Deaths_log  Recovered_log  \n",
       "0      -0.847301   -2.208606      -0.908777  \n",
       "1       0.472362   -1.292844       0.253492  \n",
       "2      -0.611016   -2.183218      -0.775798  \n",
       "3      -1.209803   -2.835484      -1.245593  \n",
       "4      -0.531834   -2.146128      -0.719384  "
      ]
     },
     "execution_count": 51,
     "metadata": {},
     "output_type": "execute_result"
    }
   ],
   "source": [
    "# combine health score dataframe with COVID dataframe\n",
    "kcal_covid_combined_df=pd.concat([df_macro_kcal, df_covid], axis=1)\n",
    "kcal_covid_combined_df.head()"
   ]
  },
  {
   "cell_type": "code",
   "execution_count": 63,
   "metadata": {
    "scrolled": true
   },
   "outputs": [
    {
     "data": {
      "image/png": "[encoded data removed]",
      "text/plain": [
       "<Figure size 504x1800 with 4 Axes>"
      ]
     },
     "metadata": {},
     "output_type": "display_data"
    }
   ],
   "source": [
    "sns.set()\n",
    "fig, axes = plt.subplots(4,1)\n",
    "sns.regplot(data = kcal_covid_combined_df, x = 'health_score', y = 'Confirmed', ax = axes[0])\n",
    "axes[0].set_title('National Diet Health Score vs Confirmed Covid Cases')\n",
    "sns.regplot(data = kcal_covid_combined_df, x = 'carb_diff', y = 'Confirmed', ax = axes[1])\n",
    "axes[1].set_title('Deviance from Recommended Carbohydrate Intake vs Confirmed Covid Cases')\n",
    "sns.regplot(data = kcal_covid_combined_df, x = 'fat_diff', y = 'Confirmed', ax = axes[2])\n",
    "axes[2].set_title('Deviance from Recommended Fat Intake vs Confirmed Covid Cases')\n",
    "sns.regplot(data = kcal_covid_combined_df, x = 'protein_diff', y = 'Confirmed', ax = axes[])\n",
    "axes[3].set_title('Deviance from Recommended Protein Intake vs Confirmed Covid Cases')\n",
    "\n",
    "# set subplot size\n",
    "fig.set_figheight(25)\n",
    "fig.set_figwidth(7)"
   ]
  },
  {
   "cell_type": "markdown",
   "metadata": {},
   "source": [
    "The following relationships can be observed in the 4 scatterplots above based on the regression line:\n",
    "* National Diet Health Score vs Confirmed Covid Cases: subtle negative linear relationship\n",
    "* Deviance from Recommended Carbohydrate Intake vs Confirmed Covid Cases: subtle negative linear relationship\n",
    "* Deviance from Recommended Fat Intake vs Confirmed Covid Cases: subtle positive linear relationship\n",
    "* Deviance from Recommended Protein Intake vs Confirmed Covid Cases: subtle positive linear relationship\n"
   ]
  },
  {
   "cell_type": "code",
   "execution_count": 67,
   "metadata": {},
   "outputs": [
    {
     "name": "stdout",
     "output_type": "stream",
     "text": [
      "                            OLS Regression Results                            \n",
      "==============================================================================\n",
      "Dep. Variable:              Confirmed   R-squared:                       0.005\n",
      "Model:                            OLS   Adj. R-squared:                 -0.001\n",
      "Method:                 Least Squares   F-statistic:                    0.8252\n",
      "Date:                Thu, 02 Jun 2022   Prob (F-statistic):              0.365\n",
      "Time:                        20:58:36   Log-Likelihood:                -372.64\n",
      "No. Observations:                 164   AIC:                             749.3\n",
      "Df Residuals:                     162   BIC:                             755.5\n",
      "Df Model:                           1                                         \n",
      "Covariance Type:            nonrobust                                         \n",
      "================================================================================\n",
      "                   coef    std err          t      P>|t|      [0.025      0.975]\n",
      "--------------------------------------------------------------------------------\n",
      "Intercept        3.4375      1.569      2.191      0.030       0.339       6.536\n",
      "health_score    -0.0418      0.046     -0.908      0.365      -0.133       0.049\n",
      "==============================================================================\n",
      "Omnibus:                       34.586   Durbin-Watson:                   1.939\n",
      "Prob(Omnibus):                  0.000   Jarque-Bera (JB):               48.529\n",
      "Skew:                           1.260   Prob(JB):                     2.90e-11\n",
      "Kurtosis:                       3.866   Cond. No.                         291.\n",
      "==============================================================================\n",
      "\n",
      "Notes:\n",
      "[1] Standard Errors assume that the covariance matrix of the errors is correctly specified.\n"
     ]
    }
   ],
   "source": [
    "# Linear regression on health score and covid cases\n",
    "outcome_score, predictors_score = patsy.dmatrices('Confirmed ~ health_score', kcal_covid_combined_df)\n",
    "mod_score = sm.OLS(outcome_score, predictors_score)\n",
    "res_score = mod_score.fit()\n",
    "print(res_score.summary())"
   ]
  },
  {
   "cell_type": "code",
   "execution_count": 68,
   "metadata": {
    "scrolled": true
   },
   "outputs": [
    {
     "name": "stdout",
     "output_type": "stream",
     "text": [
      "                            OLS Regression Results                            \n",
      "==============================================================================\n",
      "Dep. Variable:              Confirmed   R-squared:                       0.006\n",
      "Model:                            OLS   Adj. R-squared:                 -0.000\n",
      "Method:                 Least Squares   F-statistic:                    0.9304\n",
      "Date:                Thu, 02 Jun 2022   Prob (F-statistic):              0.336\n",
      "Time:                        20:58:37   Log-Likelihood:                -372.59\n",
      "No. Observations:                 164   AIC:                             749.2\n",
      "Df Residuals:                     162   BIC:                             755.4\n",
      "Df Model:                           1                                         \n",
      "Covariance Type:            nonrobust                                         \n",
      "==============================================================================\n",
      "                 coef    std err          t      P>|t|      [0.025      0.975]\n",
      "------------------------------------------------------------------------------\n",
      "Intercept      2.9033      0.932      3.115      0.002       1.063       4.744\n",
      "carb_diff     -0.0334      0.035     -0.965      0.336      -0.102       0.035\n",
      "==============================================================================\n",
      "Omnibus:                       33.812   Durbin-Watson:                   1.940\n",
      "Prob(Omnibus):                  0.000   Jarque-Bera (JB):               47.003\n",
      "Skew:                           1.245   Prob(JB):                     6.22e-11\n",
      "Kurtosis:                       3.824   Cond. No.                         136.\n",
      "==============================================================================\n",
      "\n",
      "Notes:\n",
      "[1] Standard Errors assume that the covariance matrix of the errors is correctly specified.\n"
     ]
    }
   ],
   "source": [
    "# Linear regression on carbohydrate differences and covid cases\n",
    "outcome_carb_diff, predictors_carb_diff = patsy.dmatrices('Confirmed ~ carb_diff', kcal_covid_combined_df)\n",
    "mod_carb_diff = sm.OLS(outcome_carb_diff, predictors_carb_diff)\n",
    "res_carb_diff = mod_carb_diff.fit()\n",
    "print(res_carb_diff.summary())"
   ]
  },
  {
   "cell_type": "code",
   "execution_count": 69,
   "metadata": {},
   "outputs": [
    {
     "name": "stdout",
     "output_type": "stream",
     "text": [
      "                            OLS Regression Results                            \n",
      "==============================================================================\n",
      "Dep. Variable:              Confirmed   R-squared:                       0.006\n",
      "Model:                            OLS   Adj. R-squared:                 -0.000\n",
      "Method:                 Least Squares   F-statistic:                    0.9469\n",
      "Date:                Thu, 02 Jun 2022   Prob (F-statistic):              0.332\n",
      "Time:                        20:58:41   Log-Likelihood:                -372.58\n",
      "No. Observations:                 164   AIC:                             749.2\n",
      "Df Residuals:                     162   BIC:                             755.4\n",
      "Df Model:                           1                                         \n",
      "Covariance Type:            nonrobust                                         \n",
      "==============================================================================\n",
      "                 coef    std err          t      P>|t|      [0.025      0.975]\n",
      "------------------------------------------------------------------------------\n",
      "Intercept      1.9372      0.204      9.500      0.000       1.535       2.340\n",
      "fat_diff       0.0372      0.038      0.973      0.332      -0.038       0.113\n",
      "==============================================================================\n",
      "Omnibus:                       34.030   Durbin-Watson:                   1.942\n",
      "Prob(Omnibus):                  0.000   Jarque-Bera (JB):               47.426\n",
      "Skew:                           1.248   Prob(JB):                     5.03e-11\n",
      "Kurtosis:                       3.844   Cond. No.                         5.94\n",
      "==============================================================================\n",
      "\n",
      "Notes:\n",
      "[1] Standard Errors assume that the covariance matrix of the errors is correctly specified.\n"
     ]
    }
   ],
   "source": [
    "# Linear regression on fat differences and covid cases\n",
    "outcome_fat_diff, predictors_fat_diff = patsy.dmatrices('Confirmed ~ fat_diff', kcal_covid_combined_df)\n",
    "mod_fat_diff = sm.OLS(outcome_fat_diff, predictors_fat_diff)\n",
    "res_fat_diff = mod_fat_diff.fit()\n",
    "print(res_fat_diff.summary())"
   ]
  },
  {
   "cell_type": "code",
   "execution_count": 70,
   "metadata": {},
   "outputs": [
    {
     "name": "stdout",
     "output_type": "stream",
     "text": [
      "                            OLS Regression Results                            \n",
      "==============================================================================\n",
      "Dep. Variable:              Confirmed   R-squared:                       0.001\n",
      "Model:                            OLS   Adj. R-squared:                 -0.006\n",
      "Method:                 Least Squares   F-statistic:                   0.08776\n",
      "Date:                Thu, 02 Jun 2022   Prob (F-statistic):              0.767\n",
      "Time:                        20:58:42   Log-Likelihood:                -373.01\n",
      "No. Observations:                 164   AIC:                             750.0\n",
      "Df Residuals:                     162   BIC:                             756.2\n",
      "Df Model:                           1                                         \n",
      "Covariance Type:            nonrobust                                         \n",
      "================================================================================\n",
      "                   coef    std err          t      P>|t|      [0.025      0.975]\n",
      "--------------------------------------------------------------------------------\n",
      "Intercept        2.1571      0.492      4.384      0.000       1.185       3.129\n",
      "protein_diff     0.0365      0.123      0.296      0.767      -0.207       0.279\n",
      "==============================================================================\n",
      "Omnibus:                       35.770   Durbin-Watson:                   1.926\n",
      "Prob(Omnibus):                  0.000   Jarque-Bera (JB):               50.930\n",
      "Skew:                           1.280   Prob(JB):                     8.72e-12\n",
      "Kurtosis:                       3.947   Cond. No.                         11.2\n",
      "==============================================================================\n",
      "\n",
      "Notes:\n",
      "[1] Standard Errors assume that the covariance matrix of the errors is correctly specified.\n"
     ]
    }
   ],
   "source": [
    "# Linear regression on protein differences and covid cases\n",
    "outcome_protein_diff, predictors_protein_diff = patsy.dmatrices('Confirmed ~ protein_diff', kcal_covid_combined_df)\n",
    "mod_protein_diff = sm.OLS(outcome_protein_diff, predictors_protein_diff)\n",
    "res_protein_diff = mod_protein_diff.fit()\n",
    "print(res_protein_diff.summary())"
   ]
  },
  {
   "cell_type": "markdown",
   "metadata": {},
   "source": [
    "The results of the linear regression analysis suggest that:\n",
    "1. There is not a statistically signficant relationship between health scores and COVID cases. \n",
    "\n",
    "2. There is not statistically signficant relationship between deviance from carbohydrate guidelines and COVID cases.\n",
    "\n",
    "3. There is not statistically signficant relationship between deviance from fat guidelines and COVID cases.\n",
    "\n",
    "4. There is not a statistically signficant relationship between deviance from protein guidelines and COVID cases.\n",
    "\n",
    " We can see that the 95% confidence interval for all four coefficients include 0."
   ]
  },
  {
   "cell_type": "markdown",
   "metadata": {},
   "source": [
    "# Ethics & Privacy"
   ]
  },
  {
   "cell_type": "markdown",
   "metadata": {},
   "source": [
    "The dataset for food supply, nutrition values, obesity, and undernourished percentages were collected from United Nations Food and Agricultural Organizations website; the dataset for population count were collected from Population Reference Bureau; the dataset for COVID-19 cases were collected from Johns Hopkins Center for Systems Science and Engineering website. Because all dataset are de-identified and are collected from global organizations, there is no exposure of personally identifiable information nor terms of use issues as well as no collection bias.\n",
    "\n",
    "However, dataset bias may be present due to imbalance of population data for each country. Such issues should be able to be resolved through normalization of data per country (e.g. using proportions) before and during the analysis. This will secure equitable analysis and fairness across groups."
   ]
  },
  {
   "cell_type": "markdown",
   "metadata": {},
   "source": [
    "# Conclusion & Discussion"
   ]
  },
  {
   "cell_type": "markdown",
   "metadata": {},
   "source": [
    "We don't have carbohydrate supply data and are calculating carbohydrate intake by substracting total quantity by fat and protein quantity; this isn't very accurate\n",
    "\n",
    "Health score: "
   ]
  },
  {
   "cell_type": "markdown",
   "metadata": {},
   "source": [
    "# Team Contributions"
   ]
  },
  {
   "cell_type": "markdown",
   "metadata": {},
   "source": [
    "*Specify who in your group worked on which parts of the project.*"
   ]
  }
 ],
 "metadata": {
  "kernelspec": {
   "display_name": "Python 3 (ipykernel)",
   "language": "python",
   "name": "python3"
  },
  "language_info": {
   "codemirror_mode": {
    "name": "ipython",
    "version": 3
   },
   "file_extension": ".py",
   "mimetype": "text/x-python",
   "name": "python",
   "nbconvert_exporter": "python",
   "pygments_lexer": "ipython3",
   "version": "3.9.2"
  }
 },
 "nbformat": 4,
 "nbformat_minor": 4
}
