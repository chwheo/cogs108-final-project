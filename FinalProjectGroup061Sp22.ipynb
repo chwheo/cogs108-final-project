{
 "cells": [
  {
   "cell_type": "markdown",
   "metadata": {},
   "source": [
    "# COGS 108 - Final Project (change this to your project's title)"
   ]
  },
  {
   "cell_type": "markdown",
   "metadata": {},
   "source": [
    "## Permissions\n",
    "\n",
    "Place an `X` in the appropriate bracket below to specify if you would like your group's project to be made available to the public. (Note that student names will be included (but PIDs will be scraped from any groups who include their PIDs).\n",
    "\n",
    "* [  ] YES - make available\n",
    "* [  ] NO - keep private"
   ]
  },
  {
   "cell_type": "markdown",
   "metadata": {},
   "source": [
    "# Overview"
   ]
  },
  {
   "cell_type": "markdown",
   "metadata": {},
   "source": [
    "*Fill in your overview here*"
   ]
  },
  {
   "cell_type": "markdown",
   "metadata": {},
   "source": [
    "# Names\n",
    "\n",
    "- Arnav Tayal\n",
    "- Chaewon Heo\n",
    "- Martha Chow\n",
    "- Zhiyi Zhu"
   ]
  },
  {
   "cell_type": "markdown",
   "metadata": {},
   "source": [
    "<a id='research_question'></a>\n",
    "# Research Question"
   ]
  },
  {
   "cell_type": "markdown",
   "metadata": {},
   "source": [
    "Main question: Are characteristics of an individual’s diet (such as the amount of calories, macronutrients, and/or micronutrients) correlated with their likelihood of contracting COVID-19? \n",
    "\n",
    "Sub-questions: Can we correlate diet type (eg. vegetarian, keto, pescetarian) with an individual’s likelihood of contracting COVID-19? Which characteristic is the strongest predictor? "
   ]
  },
  {
   "cell_type": "markdown",
   "metadata": {},
   "source": [
    "<a id='background'></a>\n",
    "\n",
    "## Background & Prior Work"
   ]
  },
  {
   "cell_type": "markdown",
   "metadata": {},
   "source": [
    "With the prevalence of the COVID-19 in recent years, multiple actions are taken to protect people from getting infected and help people recover. One possible action is to eat a healthy diet, since it is commonly heard that eating a healthy diet has multiple benefits, such as lowering risks for multiple common diseases, supporting muscle, and boosting immunity [^1]. According to the World Health Organization, a healthy diet is balanced calorically with energy expenditure; low in saturated fats, trans fats, free sugar, salt; and high in vegetables, fruits, whole grains, and legumes). [^2]\n",
    "\n",
    "Multiple studies have shown that there are correlations between certain dietary components and general health. For example, dietary fatty acids are found to have a significant role in immune responses and thus support immunity [^3]; Consuming a good source of protein at least twice a day can help maintaining strong respiratory muscles [^4], and high levels of certain vegetables are essential for sustaining intestinal immune function [^5]. However, these findings do not directly address whether there’s a correlation between certain dietary components and COVID-19.\n",
    "\n",
    "There are existing efforts to study healthy eating as a non-pharmaceutical intervention for COVID-19 [^6]. A dataset that details the typical characteristics of a country’s diet, as well as its obesity and COVID-19 rates, has been compiled. It is based on findings from organizations such as the UN and Johns Hopkins university. Potential concerns with the data include accuracy, inconsistencies in units, and collection from different years (which could make comparisons unfair). Notable conclusions from analysis so far include that \"COVID-19 confirmed percentage is less in the countries where Animal Product Protein consumption is low like India\", \"countries where obesity is low COVID-19 cases are low\", and \"​​ The countries with the most recovered rate seem to consume more vegetables than people on average\".\n",
    "\n",
    "It is worth noting that existing analysis on the dataset is incomplete, scattered, and presented in a confusing way (eg. relevant information like vegetable consumptions vs recovery rate is mixed in with irrelevant information like vegetable consumption vs alcohol consumption). There also  seems to be a stronger emphasis on establishing the relationship between obesity and COVID-19 rates rather than diet and COVID-19 rates.\n",
    "[^1]: \"Benefits of Healthy Eating | Nutrition | DNPAO.\" *CDC*, 16 May 2021, https://www.cdc.gov/nutrition/resources-publications/benefits-of-healthy-eating.html. Accessed 22 April 2022. \n",
    "[^2]: \"Healthy diet.\" *WHO | World Health Organization*, 29 April 2020, https://www.who.int/news-room/fact-sheets/detail/healthy-diet. Accessed 22 April 2022. \n",
    "[^3]: Radzikowska, Urszula. \"The Influence of Dietary Fatty Acids on Immune Responses.\" *MDPI*, 2019, https://doi.org/10.3390/nu11122990. Accessed 22 April 2022.\n",
    "[^4]: \"Nutrition and COPD.\" *American Lung Association*, https://www.lung.org/lung-health-diseases/lung-disease-lookup/copd/living-with-copd/nutrition. Accessed 22 April 2022.\n",
    "[^5]: Hooper, Lora V. \"You AhR what you eat: linking diet and immunity.\" *Cell* vol. 147,3 (2011): 489-91. doi:10.1016/j.cell.2011.10.004 \n",
    "[^6]: Ren, Maria. \"COVID-19 Healthy Diet Dataset.\" *Kaggle*, https://www.kaggle.com/datasets/mariaren/covid19-healthy-diet-dataset. Accessed 22 April 2022. "
   ]
  },
  {
   "cell_type": "markdown",
   "metadata": {},
   "source": [
    "# Hypothesis\n"
   ]
  },
  {
   "cell_type": "markdown",
   "metadata": {},
   "source": [
    "The characteristics of an individual’s diet is correlated with the likelihood of COVID-19 infection. Diets types that are correlated with decreased incidence of COVID-19 infection have common characteristics. \n",
    "Justification: based on past research, those who consume a healthy diet tend to be less likely to contract disease. As such, we predict that COVID-19 will fit this trend. \n",
    "\n",
    "Of all characteristics, amount of calories (units TBC, likely to be per year) is the most accurate predictor of likelihood to contract COVID-19.  \n",
    "Justification: Although calories do not necessarily represent the quality of one’s diet, it is generally the case that a diet high in calories is a poor diet. We can’t say this with as much confidence for other characteristics that are more ‘specific’ (calories can come from a range of nutrients, fat content is only based on one type of nutrient)."
   ]
  },
  {
   "cell_type": "markdown",
   "metadata": {},
   "source": [
    "# Dataset(s)"
   ]
  },
  {
   "cell_type": "markdown",
   "metadata": {},
   "source": [
    "\n",
    "- Dataset Name: Supply_Quantity_Kg\n",
    "- Link to the dataset:https://github.com/mariarencode/COVID_19_Dataset_Challenge/tree/master/Food_Supply_Quantity_Kg\n",
    "- Number of observations: 174\n",
    "\n",
    "Each file in this dataset records the amount of a particular food category of each country in kilograms/capita/yr\n",
    "\n",
    "- Dataset Name: Fat Supply\n",
    "- Link to the dataset: https://github.com/mariarencode/COVID_19_Dataset_Challenge/tree/master/Fat_Supply\n",
    "- Number of observations: 174\n",
    "\n",
    "Each file in this dataset records the amount of fat in a particular food category of each country in grams/capita/yr\n",
    "\n",
    "- Dataset Name: Protein Supply\n",
    "- Link to the dataset: https://github.com/mariarencode/COVID_19_Dataset_Challenge/tree/master/Protein_Supply\n",
    "- Number of observations: 174\n",
    "\n",
    "Each file in this dataset records the amount of protein in a particular food category of each country in grams/capita/yr\n",
    "\n",
    "We plan to pick particular columns from these datasets and combine them using the merge function in pandas, each row will be unique to a country "
   ]
  },
  {
   "cell_type": "markdown",
   "metadata": {},
   "source": [
    "# Setup"
   ]
  },
  {
   "cell_type": "code",
   "execution_count": 1,
   "metadata": {},
   "outputs": [],
   "source": [
    "import pandas as pd\n",
    "import numpy as np\n",
    "import seaborn as sns\n",
    "import matplotlib.pyplot as plt\n",
    "\n",
    "# packages for importing files\n",
    "import os\n",
    "import glob"
   ]
  },
  {
   "cell_type": "markdown",
   "metadata": {},
   "source": [
    "__Get the add the Confirmed,Deaths,Recovered,Active,Population to the dataframe; those are directly extracted from the dataframe that records the precentages. Due to the time dependence of active COVID cases, it will be excluded from analysis. Beside the population, the unit for the other 3 quantitative columns are in percentages.__"
   ]
  },
  {
   "cell_type": "code",
   "execution_count": 2,
   "metadata": {},
   "outputs": [
    {
     "data": {
      "text/html": [
       "<div>\n",
       "<style scoped>\n",
       "    .dataframe tbody tr th:only-of-type {\n",
       "        vertical-align: middle;\n",
       "    }\n",
       "\n",
       "    .dataframe tbody tr th {\n",
       "        vertical-align: top;\n",
       "    }\n",
       "\n",
       "    .dataframe thead th {\n",
       "        text-align: right;\n",
       "    }\n",
       "</style>\n",
       "<table border=\"1\" class=\"dataframe\">\n",
       "  <thead>\n",
       "    <tr style=\"text-align: right;\">\n",
       "      <th></th>\n",
       "      <th>Country</th>\n",
       "      <th>Confirmed</th>\n",
       "      <th>Deaths</th>\n",
       "      <th>Recovered</th>\n",
       "      <th>Population</th>\n",
       "    </tr>\n",
       "  </thead>\n",
       "  <tbody>\n",
       "    <tr>\n",
       "      <th>0</th>\n",
       "      <td>Afghanistan</td>\n",
       "      <td>0.142134</td>\n",
       "      <td>0.006186</td>\n",
       "      <td>0.123374</td>\n",
       "      <td>38928000.0</td>\n",
       "    </tr>\n",
       "    <tr>\n",
       "      <th>1</th>\n",
       "      <td>Albania</td>\n",
       "      <td>2.967301</td>\n",
       "      <td>0.050951</td>\n",
       "      <td>1.792636</td>\n",
       "      <td>2838000.0</td>\n",
       "    </tr>\n",
       "    <tr>\n",
       "      <th>2</th>\n",
       "      <td>Algeria</td>\n",
       "      <td>0.244897</td>\n",
       "      <td>0.006558</td>\n",
       "      <td>0.167572</td>\n",
       "      <td>44357000.0</td>\n",
       "    </tr>\n",
       "    <tr>\n",
       "      <th>3</th>\n",
       "      <td>Angola</td>\n",
       "      <td>0.061687</td>\n",
       "      <td>0.001461</td>\n",
       "      <td>0.056808</td>\n",
       "      <td>32522000.0</td>\n",
       "    </tr>\n",
       "    <tr>\n",
       "      <th>4</th>\n",
       "      <td>Antigua and Barbuda</td>\n",
       "      <td>0.293878</td>\n",
       "      <td>0.007143</td>\n",
       "      <td>0.190816</td>\n",
       "      <td>98000.0</td>\n",
       "    </tr>\n",
       "    <tr>\n",
       "      <th>5</th>\n",
       "      <td>Argentina</td>\n",
       "      <td>4.356147</td>\n",
       "      <td>0.108227</td>\n",
       "      <td>3.905192</td>\n",
       "      <td>45377000.0</td>\n",
       "    </tr>\n",
       "  </tbody>\n",
       "</table>\n",
       "</div>"
      ],
      "text/plain": [
       "               Country  Confirmed    Deaths  Recovered  Population\n",
       "0          Afghanistan   0.142134  0.006186   0.123374  38928000.0\n",
       "1              Albania   2.967301  0.050951   1.792636   2838000.0\n",
       "2              Algeria   0.244897  0.006558   0.167572  44357000.0\n",
       "3               Angola   0.061687  0.001461   0.056808  32522000.0\n",
       "4  Antigua and Barbuda   0.293878  0.007143   0.190816     98000.0\n",
       "5            Argentina   4.356147  0.108227   3.905192  45377000.0"
      ]
     },
     "execution_count": 2,
     "metadata": {},
     "output_type": "execute_result"
    }
   ],
   "source": [
    "df_covid = pd.read_csv('Food_Supply_Quantity_kg_Data.csv',usecols=['Country','Confirmed','Deaths','Recovered','Population'])\n",
    "df_covid.head(6)"
   ]
  },
  {
   "cell_type": "markdown",
   "metadata": {},
   "source": [
    "# Data Cleaning"
   ]
  },
  {
   "cell_type": "markdown",
   "metadata": {},
   "source": [
    "__Process data for food quantity (unit: kg/capita/yr)__"
   ]
  },
  {
   "cell_type": "code",
   "execution_count": 3,
   "metadata": {},
   "outputs": [],
   "source": [
    "# read in most csvs as a list\n",
    "path = 'Food_Supply_Quantity_Kg'\n",
    "all_files = glob.glob(os.path.join(path, \"*.csv\"))"
   ]
  },
  {
   "cell_type": "code",
   "execution_count": 4,
   "metadata": {},
   "outputs": [],
   "source": [
    "# function that standardize food name; all lowercase + no space + no special character\n",
    "def getName(n):\n",
    "    name = n.replace(' ','_')\n",
    "    name = name.replace('-','')\n",
    "    name = name.replace(',','')\n",
    "    name = name.replace('&','')\n",
    "    name = name.replace('__','_')\n",
    "    return name.lower()"
   ]
  },
  {
   "cell_type": "code",
   "execution_count": 5,
   "metadata": {},
   "outputs": [
    {
     "name": "stderr",
     "output_type": "stream",
     "text": [
      "C:\\Users\\Public\\Documents\\Wondershare\\CreatorTemp\\ipykernel_23720\\1764355593.py:5: FutureWarning: In a future version of pandas all arguments of DataFrame.drop except for the argument 'labels' will be keyword-only.\n",
      "  df_quantity = df_quantity.drop('Item', 1)\n",
      "C:\\Users\\Public\\Documents\\Wondershare\\CreatorTemp\\ipykernel_23720\\1764355593.py:13: FutureWarning: In a future version of pandas all arguments of DataFrame.drop except for the argument 'labels' will be keyword-only.\n",
      "  tmp = tmp.drop('Item', 1)\n",
      "C:\\Users\\Public\\Documents\\Wondershare\\CreatorTemp\\ipykernel_23720\\1764355593.py:13: FutureWarning: In a future version of pandas all arguments of DataFrame.drop except for the argument 'labels' will be keyword-only.\n",
      "  tmp = tmp.drop('Item', 1)\n",
      "C:\\Users\\Public\\Documents\\Wondershare\\CreatorTemp\\ipykernel_23720\\1764355593.py:13: FutureWarning: In a future version of pandas all arguments of DataFrame.drop except for the argument 'labels' will be keyword-only.\n",
      "  tmp = tmp.drop('Item', 1)\n",
      "C:\\Users\\Public\\Documents\\Wondershare\\CreatorTemp\\ipykernel_23720\\1764355593.py:13: FutureWarning: In a future version of pandas all arguments of DataFrame.drop except for the argument 'labels' will be keyword-only.\n",
      "  tmp = tmp.drop('Item', 1)\n",
      "C:\\Users\\Public\\Documents\\Wondershare\\CreatorTemp\\ipykernel_23720\\1764355593.py:13: FutureWarning: In a future version of pandas all arguments of DataFrame.drop except for the argument 'labels' will be keyword-only.\n",
      "  tmp = tmp.drop('Item', 1)\n",
      "C:\\Users\\Public\\Documents\\Wondershare\\CreatorTemp\\ipykernel_23720\\1764355593.py:13: FutureWarning: In a future version of pandas all arguments of DataFrame.drop except for the argument 'labels' will be keyword-only.\n",
      "  tmp = tmp.drop('Item', 1)\n",
      "C:\\Users\\Public\\Documents\\Wondershare\\CreatorTemp\\ipykernel_23720\\1764355593.py:13: FutureWarning: In a future version of pandas all arguments of DataFrame.drop except for the argument 'labels' will be keyword-only.\n",
      "  tmp = tmp.drop('Item', 1)\n",
      "C:\\Users\\Public\\Documents\\Wondershare\\CreatorTemp\\ipykernel_23720\\1764355593.py:13: FutureWarning: In a future version of pandas all arguments of DataFrame.drop except for the argument 'labels' will be keyword-only.\n",
      "  tmp = tmp.drop('Item', 1)\n",
      "C:\\Users\\Public\\Documents\\Wondershare\\CreatorTemp\\ipykernel_23720\\1764355593.py:13: FutureWarning: In a future version of pandas all arguments of DataFrame.drop except for the argument 'labels' will be keyword-only.\n",
      "  tmp = tmp.drop('Item', 1)\n",
      "C:\\Users\\Public\\Documents\\Wondershare\\CreatorTemp\\ipykernel_23720\\1764355593.py:13: FutureWarning: In a future version of pandas all arguments of DataFrame.drop except for the argument 'labels' will be keyword-only.\n",
      "  tmp = tmp.drop('Item', 1)\n",
      "C:\\Users\\Public\\Documents\\Wondershare\\CreatorTemp\\ipykernel_23720\\1764355593.py:13: FutureWarning: In a future version of pandas all arguments of DataFrame.drop except for the argument 'labels' will be keyword-only.\n",
      "  tmp = tmp.drop('Item', 1)\n",
      "C:\\Users\\Public\\Documents\\Wondershare\\CreatorTemp\\ipykernel_23720\\1764355593.py:13: FutureWarning: In a future version of pandas all arguments of DataFrame.drop except for the argument 'labels' will be keyword-only.\n",
      "  tmp = tmp.drop('Item', 1)\n",
      "C:\\Users\\Public\\Documents\\Wondershare\\CreatorTemp\\ipykernel_23720\\1764355593.py:13: FutureWarning: In a future version of pandas all arguments of DataFrame.drop except for the argument 'labels' will be keyword-only.\n",
      "  tmp = tmp.drop('Item', 1)\n",
      "C:\\Users\\Public\\Documents\\Wondershare\\CreatorTemp\\ipykernel_23720\\1764355593.py:13: FutureWarning: In a future version of pandas all arguments of DataFrame.drop except for the argument 'labels' will be keyword-only.\n",
      "  tmp = tmp.drop('Item', 1)\n",
      "C:\\Users\\Public\\Documents\\Wondershare\\CreatorTemp\\ipykernel_23720\\1764355593.py:13: FutureWarning: In a future version of pandas all arguments of DataFrame.drop except for the argument 'labels' will be keyword-only.\n",
      "  tmp = tmp.drop('Item', 1)\n",
      "C:\\Users\\Public\\Documents\\Wondershare\\CreatorTemp\\ipykernel_23720\\1764355593.py:13: FutureWarning: In a future version of pandas all arguments of DataFrame.drop except for the argument 'labels' will be keyword-only.\n",
      "  tmp = tmp.drop('Item', 1)\n",
      "C:\\Users\\Public\\Documents\\Wondershare\\CreatorTemp\\ipykernel_23720\\1764355593.py:13: FutureWarning: In a future version of pandas all arguments of DataFrame.drop except for the argument 'labels' will be keyword-only.\n",
      "  tmp = tmp.drop('Item', 1)\n",
      "C:\\Users\\Public\\Documents\\Wondershare\\CreatorTemp\\ipykernel_23720\\1764355593.py:13: FutureWarning: In a future version of pandas all arguments of DataFrame.drop except for the argument 'labels' will be keyword-only.\n",
      "  tmp = tmp.drop('Item', 1)\n",
      "C:\\Users\\Public\\Documents\\Wondershare\\CreatorTemp\\ipykernel_23720\\1764355593.py:13: FutureWarning: In a future version of pandas all arguments of DataFrame.drop except for the argument 'labels' will be keyword-only.\n",
      "  tmp = tmp.drop('Item', 1)\n",
      "C:\\Users\\Public\\Documents\\Wondershare\\CreatorTemp\\ipykernel_23720\\1764355593.py:13: FutureWarning: In a future version of pandas all arguments of DataFrame.drop except for the argument 'labels' will be keyword-only.\n",
      "  tmp = tmp.drop('Item', 1)\n"
     ]
    }
   ],
   "source": [
    "# read in the first csv in the directory so we can merge other csvs with it\n",
    "col_list = [\"Area\", \"Item\", \"Value\"] # we only need the country and the quantity of food from the file\n",
    "df_quantity = pd.read_csv(all_files[0], usecols=col_list)\n",
    "name = getName(df_quantity.loc[0].at[\"Item\"])\n",
    "df_quantity = df_quantity.drop('Item', 1)\n",
    "df_quantity.columns = ['country',name]\n",
    "\n",
    "# merge all csvs in the directory into df_quantity\n",
    "for i in all_files[1:len(all_files)]:\n",
    "    # extract the name of the file\n",
    "    tmp = pd.read_csv(i, usecols=col_list)\n",
    "    name = getName(tmp.loc[0].at[\"Item\"])\n",
    "    tmp = tmp.drop('Item', 1)\n",
    "    tmp.columns = ['country',name] \n",
    "    df_quantity = pd.merge(df_quantity,tmp,on ='country', how='outer')"
   ]
  },
  {
   "cell_type": "code",
   "execution_count": 6,
   "metadata": {},
   "outputs": [],
   "source": [
    "# we also need the Animal Product and Vegetal Product csvs that are in different forms, so add them to dataframe seperately\n",
    "animal = pd.read_csv('FAOSTAT_food_kg_animal.csv')\n",
    "animal.columns = ['country','animal_products'] \n",
    "vegetal_prod = pd.read_csv('FAOSTAT_food_kg_vegetal_prod.csv')\n",
    "vegetal_prod.columns = ['country','vegetal_products']\n",
    "df_quantity = pd.merge(df_quantity,animal,on ='country', how='outer')\n",
    "df_quantity = pd.merge(df_quantity,vegetal_prod,on ='country', how='outer')"
   ]
  },
  {
   "cell_type": "code",
   "execution_count": 7,
   "metadata": {},
   "outputs": [],
   "source": [
    "# sort the columns, with country at the first column, and the food columns in alphabetical order\n",
    "df_quantity = df_quantity.sort_index(axis=1)\n",
    "first_column = df_quantity.pop('country')\n",
    "df_quantity.insert(0, 'country', first_column)\n",
    "\n",
    "# fill na with 0\n",
    "df_quantity = df_quantity.fillna(0)"
   ]
  },
  {
   "cell_type": "code",
   "execution_count": 8,
   "metadata": {},
   "outputs": [
    {
     "data": {
      "text/html": [
       "<div>\n",
       "<style scoped>\n",
       "    .dataframe tbody tr th:only-of-type {\n",
       "        vertical-align: middle;\n",
       "    }\n",
       "\n",
       "    .dataframe tbody tr th {\n",
       "        vertical-align: top;\n",
       "    }\n",
       "\n",
       "    .dataframe thead th {\n",
       "        text-align: right;\n",
       "    }\n",
       "</style>\n",
       "<table border=\"1\" class=\"dataframe\">\n",
       "  <thead>\n",
       "    <tr style=\"text-align: right;\">\n",
       "      <th></th>\n",
       "      <th>country</th>\n",
       "      <th>alcoholic_beverages</th>\n",
       "      <th>animal_fats</th>\n",
       "      <th>animal_products</th>\n",
       "      <th>aquatic_products_other</th>\n",
       "      <th>cereals_excluding_beer</th>\n",
       "      <th>eggs</th>\n",
       "      <th>fish_seafood</th>\n",
       "      <th>fruits_excluding_wine</th>\n",
       "      <th>meat</th>\n",
       "      <th>...</th>\n",
       "      <th>pulses</th>\n",
       "      <th>spices</th>\n",
       "      <th>starchy_roots</th>\n",
       "      <th>stimulants</th>\n",
       "      <th>sugar_crops</th>\n",
       "      <th>sugar_sweeteners</th>\n",
       "      <th>treenuts</th>\n",
       "      <th>vegetable_oils</th>\n",
       "      <th>vegetables</th>\n",
       "      <th>vegetal_products</th>\n",
       "    </tr>\n",
       "  </thead>\n",
       "  <tbody>\n",
       "    <tr>\n",
       "      <th>0</th>\n",
       "      <td>Afghanistan</td>\n",
       "      <td>0.01</td>\n",
       "      <td>1.41</td>\n",
       "      <td>67.42</td>\n",
       "      <td>0.0</td>\n",
       "      <td>177.30</td>\n",
       "      <td>1.50</td>\n",
       "      <td>0.25</td>\n",
       "      <td>38.23</td>\n",
       "      <td>8.59</td>\n",
       "      <td>...</td>\n",
       "      <td>2.11</td>\n",
       "      <td>0.41</td>\n",
       "      <td>6.29</td>\n",
       "      <td>2.20</td>\n",
       "      <td>0.0</td>\n",
       "      <td>9.64</td>\n",
       "      <td>0.55</td>\n",
       "      <td>3.82</td>\n",
       "      <td>48.34</td>\n",
       "      <td>289.89</td>\n",
       "    </tr>\n",
       "    <tr>\n",
       "      <th>1</th>\n",
       "      <td>Albania</td>\n",
       "      <td>42.15</td>\n",
       "      <td>3.42</td>\n",
       "      <td>473.16</td>\n",
       "      <td>0.0</td>\n",
       "      <td>145.76</td>\n",
       "      <td>14.66</td>\n",
       "      <td>5.36</td>\n",
       "      <td>171.08</td>\n",
       "      <td>47.51</td>\n",
       "      <td>...</td>\n",
       "      <td>6.00</td>\n",
       "      <td>0.02</td>\n",
       "      <td>45.62</td>\n",
       "      <td>2.66</td>\n",
       "      <td>0.0</td>\n",
       "      <td>38.74</td>\n",
       "      <td>3.82</td>\n",
       "      <td>8.22</td>\n",
       "      <td>296.86</td>\n",
       "      <td>787.33</td>\n",
       "    </tr>\n",
       "    <tr>\n",
       "      <th>2</th>\n",
       "      <td>Algeria</td>\n",
       "      <td>4.33</td>\n",
       "      <td>0.45</td>\n",
       "      <td>153.89</td>\n",
       "      <td>0.0</td>\n",
       "      <td>218.56</td>\n",
       "      <td>8.43</td>\n",
       "      <td>3.86</td>\n",
       "      <td>101.92</td>\n",
       "      <td>18.06</td>\n",
       "      <td>...</td>\n",
       "      <td>7.64</td>\n",
       "      <td>0.89</td>\n",
       "      <td>66.04</td>\n",
       "      <td>3.54</td>\n",
       "      <td>0.0</td>\n",
       "      <td>29.30</td>\n",
       "      <td>1.84</td>\n",
       "      <td>16.47</td>\n",
       "      <td>186.08</td>\n",
       "      <td>644.82</td>\n",
       "    </tr>\n",
       "    <tr>\n",
       "      <th>3</th>\n",
       "      <td>Angola</td>\n",
       "      <td>66.33</td>\n",
       "      <td>0.64</td>\n",
       "      <td>56.27</td>\n",
       "      <td>0.0</td>\n",
       "      <td>104.01</td>\n",
       "      <td>0.67</td>\n",
       "      <td>20.22</td>\n",
       "      <td>68.52</td>\n",
       "      <td>23.49</td>\n",
       "      <td>...</td>\n",
       "      <td>7.43</td>\n",
       "      <td>0.01</td>\n",
       "      <td>206.80</td>\n",
       "      <td>0.58</td>\n",
       "      <td>0.0</td>\n",
       "      <td>21.12</td>\n",
       "      <td>0.07</td>\n",
       "      <td>7.38</td>\n",
       "      <td>26.31</td>\n",
       "      <td>514.68</td>\n",
       "    </tr>\n",
       "    <tr>\n",
       "      <th>4</th>\n",
       "      <td>Antigua and Barbuda</td>\n",
       "      <td>45.29</td>\n",
       "      <td>0.11</td>\n",
       "      <td>210.99</td>\n",
       "      <td>0.0</td>\n",
       "      <td>75.93</td>\n",
       "      <td>2.88</td>\n",
       "      <td>52.54</td>\n",
       "      <td>136.07</td>\n",
       "      <td>72.04</td>\n",
       "      <td>...</td>\n",
       "      <td>2.33</td>\n",
       "      <td>1.93</td>\n",
       "      <td>18.39</td>\n",
       "      <td>1.98</td>\n",
       "      <td>0.0</td>\n",
       "      <td>49.07</td>\n",
       "      <td>0.32</td>\n",
       "      <td>10.26</td>\n",
       "      <td>69.01</td>\n",
       "      <td>421.99</td>\n",
       "    </tr>\n",
       "    <tr>\n",
       "      <th>5</th>\n",
       "      <td>Argentina</td>\n",
       "      <td>66.28</td>\n",
       "      <td>3.47</td>\n",
       "      <td>300.48</td>\n",
       "      <td>0.0</td>\n",
       "      <td>130.63</td>\n",
       "      <td>15.50</td>\n",
       "      <td>7.29</td>\n",
       "      <td>93.87</td>\n",
       "      <td>109.38</td>\n",
       "      <td>...</td>\n",
       "      <td>0.82</td>\n",
       "      <td>0.19</td>\n",
       "      <td>47.25</td>\n",
       "      <td>6.80</td>\n",
       "      <td>0.0</td>\n",
       "      <td>47.43</td>\n",
       "      <td>0.31</td>\n",
       "      <td>14.82</td>\n",
       "      <td>67.57</td>\n",
       "      <td>476.16</td>\n",
       "    </tr>\n",
       "  </tbody>\n",
       "</table>\n",
       "<p>6 rows × 24 columns</p>\n",
       "</div>"
      ],
      "text/plain": [
       "               country  alcoholic_beverages  animal_fats  animal_products  \\\n",
       "0          Afghanistan                 0.01         1.41            67.42   \n",
       "1              Albania                42.15         3.42           473.16   \n",
       "2              Algeria                 4.33         0.45           153.89   \n",
       "3               Angola                66.33         0.64            56.27   \n",
       "4  Antigua and Barbuda                45.29         0.11           210.99   \n",
       "5            Argentina                66.28         3.47           300.48   \n",
       "\n",
       "   aquatic_products_other  cereals_excluding_beer   eggs  fish_seafood  \\\n",
       "0                     0.0                  177.30   1.50          0.25   \n",
       "1                     0.0                  145.76  14.66          5.36   \n",
       "2                     0.0                  218.56   8.43          3.86   \n",
       "3                     0.0                  104.01   0.67         20.22   \n",
       "4                     0.0                   75.93   2.88         52.54   \n",
       "5                     0.0                  130.63  15.50          7.29   \n",
       "\n",
       "   fruits_excluding_wine    meat  ...  pulses  spices  starchy_roots  \\\n",
       "0                  38.23    8.59  ...    2.11    0.41           6.29   \n",
       "1                 171.08   47.51  ...    6.00    0.02          45.62   \n",
       "2                 101.92   18.06  ...    7.64    0.89          66.04   \n",
       "3                  68.52   23.49  ...    7.43    0.01         206.80   \n",
       "4                 136.07   72.04  ...    2.33    1.93          18.39   \n",
       "5                  93.87  109.38  ...    0.82    0.19          47.25   \n",
       "\n",
       "   stimulants  sugar_crops  sugar_sweeteners  treenuts  vegetable_oils  \\\n",
       "0        2.20          0.0              9.64      0.55            3.82   \n",
       "1        2.66          0.0             38.74      3.82            8.22   \n",
       "2        3.54          0.0             29.30      1.84           16.47   \n",
       "3        0.58          0.0             21.12      0.07            7.38   \n",
       "4        1.98          0.0             49.07      0.32           10.26   \n",
       "5        6.80          0.0             47.43      0.31           14.82   \n",
       "\n",
       "   vegetables  vegetal_products  \n",
       "0       48.34            289.89  \n",
       "1      296.86            787.33  \n",
       "2      186.08            644.82  \n",
       "3       26.31            514.68  \n",
       "4       69.01            421.99  \n",
       "5       67.57            476.16  \n",
       "\n",
       "[6 rows x 24 columns]"
      ]
     },
     "execution_count": 8,
     "metadata": {},
     "output_type": "execute_result"
    }
   ],
   "source": [
    "df_quantity.head(6)"
   ]
  },
  {
   "cell_type": "code",
   "execution_count": 9,
   "metadata": {},
   "outputs": [
    {
     "data": {
      "text/plain": [
       "(173, 24)"
      ]
     },
     "execution_count": 9,
     "metadata": {},
     "output_type": "execute_result"
    }
   ],
   "source": [
    "df_quantity.shape"
   ]
  },
  {
   "cell_type": "markdown",
   "metadata": {},
   "source": [
    "__Process data for fat ( original unit: g/capita/day; will be converted to kg/capita/year)__"
   ]
  },
  {
   "cell_type": "code",
   "execution_count": 10,
   "metadata": {},
   "outputs": [],
   "source": [
    "# function that converts g/capita/day to kg/capita/yr \n",
    "# TODO: someone check if this is correct\n",
    "def standUnit(x):\n",
    "    # g -> kg: / 1000\n",
    "    # day -> year: * 365\n",
    "    return x / 1000 * 365"
   ]
  },
  {
   "cell_type": "code",
   "execution_count": 11,
   "metadata": {},
   "outputs": [
    {
     "name": "stderr",
     "output_type": "stream",
     "text": [
      "C:\\Users\\Public\\Documents\\Wondershare\\CreatorTemp\\ipykernel_23720\\3306572841.py:9: FutureWarning: In a future version of pandas all arguments of DataFrame.drop except for the argument 'labels' will be keyword-only.\n",
      "  df_fat = df_fat.drop('Item', 1)\n",
      "C:\\Users\\Public\\Documents\\Wondershare\\CreatorTemp\\ipykernel_23720\\3306572841.py:17: FutureWarning: In a future version of pandas all arguments of DataFrame.drop except for the argument 'labels' will be keyword-only.\n",
      "  tmp = tmp.drop('Item', 1)\n",
      "C:\\Users\\Public\\Documents\\Wondershare\\CreatorTemp\\ipykernel_23720\\3306572841.py:17: FutureWarning: In a future version of pandas all arguments of DataFrame.drop except for the argument 'labels' will be keyword-only.\n",
      "  tmp = tmp.drop('Item', 1)\n",
      "C:\\Users\\Public\\Documents\\Wondershare\\CreatorTemp\\ipykernel_23720\\3306572841.py:17: FutureWarning: In a future version of pandas all arguments of DataFrame.drop except for the argument 'labels' will be keyword-only.\n",
      "  tmp = tmp.drop('Item', 1)\n",
      "C:\\Users\\Public\\Documents\\Wondershare\\CreatorTemp\\ipykernel_23720\\3306572841.py:17: FutureWarning: In a future version of pandas all arguments of DataFrame.drop except for the argument 'labels' will be keyword-only.\n",
      "  tmp = tmp.drop('Item', 1)\n",
      "C:\\Users\\Public\\Documents\\Wondershare\\CreatorTemp\\ipykernel_23720\\3306572841.py:17: FutureWarning: In a future version of pandas all arguments of DataFrame.drop except for the argument 'labels' will be keyword-only.\n",
      "  tmp = tmp.drop('Item', 1)\n",
      "C:\\Users\\Public\\Documents\\Wondershare\\CreatorTemp\\ipykernel_23720\\3306572841.py:17: FutureWarning: In a future version of pandas all arguments of DataFrame.drop except for the argument 'labels' will be keyword-only.\n",
      "  tmp = tmp.drop('Item', 1)\n",
      "C:\\Users\\Public\\Documents\\Wondershare\\CreatorTemp\\ipykernel_23720\\3306572841.py:17: FutureWarning: In a future version of pandas all arguments of DataFrame.drop except for the argument 'labels' will be keyword-only.\n",
      "  tmp = tmp.drop('Item', 1)\n",
      "C:\\Users\\Public\\Documents\\Wondershare\\CreatorTemp\\ipykernel_23720\\3306572841.py:17: FutureWarning: In a future version of pandas all arguments of DataFrame.drop except for the argument 'labels' will be keyword-only.\n",
      "  tmp = tmp.drop('Item', 1)\n",
      "C:\\Users\\Public\\Documents\\Wondershare\\CreatorTemp\\ipykernel_23720\\3306572841.py:17: FutureWarning: In a future version of pandas all arguments of DataFrame.drop except for the argument 'labels' will be keyword-only.\n",
      "  tmp = tmp.drop('Item', 1)\n",
      "C:\\Users\\Public\\Documents\\Wondershare\\CreatorTemp\\ipykernel_23720\\3306572841.py:17: FutureWarning: In a future version of pandas all arguments of DataFrame.drop except for the argument 'labels' will be keyword-only.\n",
      "  tmp = tmp.drop('Item', 1)\n",
      "C:\\Users\\Public\\Documents\\Wondershare\\CreatorTemp\\ipykernel_23720\\3306572841.py:17: FutureWarning: In a future version of pandas all arguments of DataFrame.drop except for the argument 'labels' will be keyword-only.\n",
      "  tmp = tmp.drop('Item', 1)\n",
      "C:\\Users\\Public\\Documents\\Wondershare\\CreatorTemp\\ipykernel_23720\\3306572841.py:17: FutureWarning: In a future version of pandas all arguments of DataFrame.drop except for the argument 'labels' will be keyword-only.\n",
      "  tmp = tmp.drop('Item', 1)\n",
      "C:\\Users\\Public\\Documents\\Wondershare\\CreatorTemp\\ipykernel_23720\\3306572841.py:17: FutureWarning: In a future version of pandas all arguments of DataFrame.drop except for the argument 'labels' will be keyword-only.\n",
      "  tmp = tmp.drop('Item', 1)\n",
      "C:\\Users\\Public\\Documents\\Wondershare\\CreatorTemp\\ipykernel_23720\\3306572841.py:17: FutureWarning: In a future version of pandas all arguments of DataFrame.drop except for the argument 'labels' will be keyword-only.\n",
      "  tmp = tmp.drop('Item', 1)\n",
      "C:\\Users\\Public\\Documents\\Wondershare\\CreatorTemp\\ipykernel_23720\\3306572841.py:17: FutureWarning: In a future version of pandas all arguments of DataFrame.drop except for the argument 'labels' will be keyword-only.\n",
      "  tmp = tmp.drop('Item', 1)\n",
      "C:\\Users\\Public\\Documents\\Wondershare\\CreatorTemp\\ipykernel_23720\\3306572841.py:17: FutureWarning: In a future version of pandas all arguments of DataFrame.drop except for the argument 'labels' will be keyword-only.\n",
      "  tmp = tmp.drop('Item', 1)\n",
      "C:\\Users\\Public\\Documents\\Wondershare\\CreatorTemp\\ipykernel_23720\\3306572841.py:17: FutureWarning: In a future version of pandas all arguments of DataFrame.drop except for the argument 'labels' will be keyword-only.\n",
      "  tmp = tmp.drop('Item', 1)\n",
      "C:\\Users\\Public\\Documents\\Wondershare\\CreatorTemp\\ipykernel_23720\\3306572841.py:17: FutureWarning: In a future version of pandas all arguments of DataFrame.drop except for the argument 'labels' will be keyword-only.\n",
      "  tmp = tmp.drop('Item', 1)\n",
      "C:\\Users\\Public\\Documents\\Wondershare\\CreatorTemp\\ipykernel_23720\\3306572841.py:17: FutureWarning: In a future version of pandas all arguments of DataFrame.drop except for the argument 'labels' will be keyword-only.\n",
      "  tmp = tmp.drop('Item', 1)\n",
      "C:\\Users\\Public\\Documents\\Wondershare\\CreatorTemp\\ipykernel_23720\\3306572841.py:17: FutureWarning: In a future version of pandas all arguments of DataFrame.drop except for the argument 'labels' will be keyword-only.\n",
      "  tmp = tmp.drop('Item', 1)\n",
      "C:\\Users\\Public\\Documents\\Wondershare\\CreatorTemp\\ipykernel_23720\\3306572841.py:17: FutureWarning: In a future version of pandas all arguments of DataFrame.drop except for the argument 'labels' will be keyword-only.\n",
      "  tmp = tmp.drop('Item', 1)\n",
      "C:\\Users\\Public\\Documents\\Wondershare\\CreatorTemp\\ipykernel_23720\\3306572841.py:17: FutureWarning: In a future version of pandas all arguments of DataFrame.drop except for the argument 'labels' will be keyword-only.\n",
      "  tmp = tmp.drop('Item', 1)\n"
     ]
    }
   ],
   "source": [
    "# read in most csvs as a list\n",
    "path = 'Fat_Supply'\n",
    "all_files = glob.glob(os.path.join(path, \"*.csv\"))\n",
    "\n",
    "# read in the first csv in the directory so we can merge other csvs with it\n",
    "col_list = [\"Area\", \"Item\", \"Value\"] # we only need the country and the quantity of food from the file\n",
    "df_fat = pd.read_csv(all_files[0], usecols=col_list)\n",
    "name = getName(df_fat.loc[0].at[\"Item\"])\n",
    "df_fat = df_fat.drop('Item', 1)\n",
    "df_fat.columns = ['country',name]\n",
    "\n",
    "# merge all csvs in the directory into df_fat\n",
    "for i in all_files[1:len(all_files)]:\n",
    "    # extract the name of the file\n",
    "    tmp = pd.read_csv(i, usecols=col_list)\n",
    "    name = getName(tmp.loc[0].at[\"Item\"])\n",
    "    tmp = tmp.drop('Item', 1)\n",
    "    tmp.columns = ['country',name] \n",
    "    df_fat = pd.merge(df_fat,tmp,on ='country', how='outer')\n",
    "    \n",
    "# sort the columns, with country at the first column, and the food columns in alphabetical order\n",
    "df_fat = df_fat.sort_index(axis=1)\n",
    "first_column = df_fat.pop('country')\n",
    "df_fat.insert(0, 'country', first_column)\n",
    "\n",
    "# replace na with 0\n",
    "df_fat = df_fat.fillna(0)"
   ]
  },
  {
   "cell_type": "code",
   "execution_count": 12,
   "metadata": {},
   "outputs": [
    {
     "data": {
      "text/html": [
       "<div>\n",
       "<style scoped>\n",
       "    .dataframe tbody tr th:only-of-type {\n",
       "        vertical-align: middle;\n",
       "    }\n",
       "\n",
       "    .dataframe tbody tr th {\n",
       "        vertical-align: top;\n",
       "    }\n",
       "\n",
       "    .dataframe thead th {\n",
       "        text-align: right;\n",
       "    }\n",
       "</style>\n",
       "<table border=\"1\" class=\"dataframe\">\n",
       "  <thead>\n",
       "    <tr style=\"text-align: right;\">\n",
       "      <th></th>\n",
       "      <th>country</th>\n",
       "      <th>alcoholic_beverages</th>\n",
       "      <th>animal_fats</th>\n",
       "      <th>animal_products</th>\n",
       "      <th>aquatic_products_other</th>\n",
       "      <th>cereals_excluding_beer</th>\n",
       "      <th>eggs</th>\n",
       "      <th>fish_seafood</th>\n",
       "      <th>fruits_excluding_wine</th>\n",
       "      <th>meat</th>\n",
       "      <th>...</th>\n",
       "      <th>pulses</th>\n",
       "      <th>spices</th>\n",
       "      <th>starchy_roots</th>\n",
       "      <th>stimulants</th>\n",
       "      <th>sugar_crops</th>\n",
       "      <th>sugar_sweeteners</th>\n",
       "      <th>treenuts</th>\n",
       "      <th>vegetable_oils</th>\n",
       "      <th>vegetables</th>\n",
       "      <th>vegetal_products</th>\n",
       "    </tr>\n",
       "  </thead>\n",
       "  <tbody>\n",
       "    <tr>\n",
       "      <th>0</th>\n",
       "      <td>Afghanistan</td>\n",
       "      <td>0.00000</td>\n",
       "      <td>1.39065</td>\n",
       "      <td>4.83625</td>\n",
       "      <td>0.0</td>\n",
       "      <td>1.79580</td>\n",
       "      <td>0.15330</td>\n",
       "      <td>0.0073</td>\n",
       "      <td>0.09490</td>\n",
       "      <td>1.36875</td>\n",
       "      <td>...</td>\n",
       "      <td>0.04380</td>\n",
       "      <td>0.06205</td>\n",
       "      <td>0.01095</td>\n",
       "      <td>0.02190</td>\n",
       "      <td>0.0000</td>\n",
       "      <td>0.0</td>\n",
       "      <td>0.16790</td>\n",
       "      <td>3.81790</td>\n",
       "      <td>0.08030</td>\n",
       "      <td>6.34005</td>\n",
       "    </tr>\n",
       "    <tr>\n",
       "      <th>1</th>\n",
       "      <td>Albania</td>\n",
       "      <td>0.00000</td>\n",
       "      <td>2.93460</td>\n",
       "      <td>27.48085</td>\n",
       "      <td>0.0</td>\n",
       "      <td>2.29585</td>\n",
       "      <td>1.41255</td>\n",
       "      <td>0.1241</td>\n",
       "      <td>0.55115</td>\n",
       "      <td>7.50805</td>\n",
       "      <td>...</td>\n",
       "      <td>0.09855</td>\n",
       "      <td>0.00000</td>\n",
       "      <td>0.04380</td>\n",
       "      <td>0.45260</td>\n",
       "      <td>0.0000</td>\n",
       "      <td>0.0</td>\n",
       "      <td>0.78840</td>\n",
       "      <td>7.93875</td>\n",
       "      <td>0.55845</td>\n",
       "      <td>15.45775</td>\n",
       "    </tr>\n",
       "    <tr>\n",
       "      <th>2</th>\n",
       "      <td>Algeria</td>\n",
       "      <td>0.00000</td>\n",
       "      <td>0.52195</td>\n",
       "      <td>8.38770</td>\n",
       "      <td>0.0</td>\n",
       "      <td>2.44550</td>\n",
       "      <td>0.70810</td>\n",
       "      <td>0.1168</td>\n",
       "      <td>0.33580</td>\n",
       "      <td>2.26665</td>\n",
       "      <td>...</td>\n",
       "      <td>0.15695</td>\n",
       "      <td>0.09125</td>\n",
       "      <td>0.06570</td>\n",
       "      <td>0.16790</td>\n",
       "      <td>0.0000</td>\n",
       "      <td>0.0</td>\n",
       "      <td>0.50005</td>\n",
       "      <td>15.91765</td>\n",
       "      <td>0.29930</td>\n",
       "      <td>20.70280</td>\n",
       "    </tr>\n",
       "    <tr>\n",
       "      <th>3</th>\n",
       "      <td>Angola</td>\n",
       "      <td>0.00000</td>\n",
       "      <td>0.46720</td>\n",
       "      <td>5.44580</td>\n",
       "      <td>0.0</td>\n",
       "      <td>2.33235</td>\n",
       "      <td>0.05475</td>\n",
       "      <td>0.5037</td>\n",
       "      <td>0.12410</td>\n",
       "      <td>3.92375</td>\n",
       "      <td>...</td>\n",
       "      <td>0.11680</td>\n",
       "      <td>0.00365</td>\n",
       "      <td>0.25185</td>\n",
       "      <td>0.04015</td>\n",
       "      <td>0.0000</td>\n",
       "      <td>0.0</td>\n",
       "      <td>0.01095</td>\n",
       "      <td>7.99350</td>\n",
       "      <td>0.04380</td>\n",
       "      <td>12.34795</td>\n",
       "    </tr>\n",
       "    <tr>\n",
       "      <th>4</th>\n",
       "      <td>Antigua and Barbuda</td>\n",
       "      <td>0.00000</td>\n",
       "      <td>3.03680</td>\n",
       "      <td>18.02005</td>\n",
       "      <td>0.0</td>\n",
       "      <td>2.09145</td>\n",
       "      <td>0.25185</td>\n",
       "      <td>0.9928</td>\n",
       "      <td>0.79205</td>\n",
       "      <td>9.31480</td>\n",
       "      <td>...</td>\n",
       "      <td>0.04380</td>\n",
       "      <td>0.23360</td>\n",
       "      <td>0.02920</td>\n",
       "      <td>0.68620</td>\n",
       "      <td>0.0000</td>\n",
       "      <td>0.0</td>\n",
       "      <td>0.13140</td>\n",
       "      <td>9.39510</td>\n",
       "      <td>0.16060</td>\n",
       "      <td>14.50510</td>\n",
       "    </tr>\n",
       "    <tr>\n",
       "      <th>...</th>\n",
       "      <td>...</td>\n",
       "      <td>...</td>\n",
       "      <td>...</td>\n",
       "      <td>...</td>\n",
       "      <td>...</td>\n",
       "      <td>...</td>\n",
       "      <td>...</td>\n",
       "      <td>...</td>\n",
       "      <td>...</td>\n",
       "      <td>...</td>\n",
       "      <td>...</td>\n",
       "      <td>...</td>\n",
       "      <td>...</td>\n",
       "      <td>...</td>\n",
       "      <td>...</td>\n",
       "      <td>...</td>\n",
       "      <td>...</td>\n",
       "      <td>...</td>\n",
       "      <td>...</td>\n",
       "      <td>...</td>\n",
       "      <td>...</td>\n",
       "    </tr>\n",
       "    <tr>\n",
       "      <th>168</th>\n",
       "      <td>Venezuela (Bolivarian Republic of)</td>\n",
       "      <td>0.00000</td>\n",
       "      <td>1.07310</td>\n",
       "      <td>7.72705</td>\n",
       "      <td>0.0</td>\n",
       "      <td>1.20450</td>\n",
       "      <td>0.31025</td>\n",
       "      <td>0.2701</td>\n",
       "      <td>0.45625</td>\n",
       "      <td>3.35800</td>\n",
       "      <td>...</td>\n",
       "      <td>0.05475</td>\n",
       "      <td>0.00000</td>\n",
       "      <td>0.06205</td>\n",
       "      <td>0.04015</td>\n",
       "      <td>0.0000</td>\n",
       "      <td>0.0</td>\n",
       "      <td>0.00730</td>\n",
       "      <td>13.97220</td>\n",
       "      <td>0.08760</td>\n",
       "      <td>15.94320</td>\n",
       "    </tr>\n",
       "    <tr>\n",
       "      <th>169</th>\n",
       "      <td>Viet Nam</td>\n",
       "      <td>0.00000</td>\n",
       "      <td>2.19000</td>\n",
       "      <td>19.04205</td>\n",
       "      <td>0.0</td>\n",
       "      <td>2.12795</td>\n",
       "      <td>0.44895</td>\n",
       "      <td>0.6424</td>\n",
       "      <td>0.23360</td>\n",
       "      <td>15.13655</td>\n",
       "      <td>...</td>\n",
       "      <td>0.04380</td>\n",
       "      <td>0.36135</td>\n",
       "      <td>0.04015</td>\n",
       "      <td>0.04745</td>\n",
       "      <td>0.0219</td>\n",
       "      <td>0.0</td>\n",
       "      <td>0.67160</td>\n",
       "      <td>3.21930</td>\n",
       "      <td>0.36500</td>\n",
       "      <td>9.59585</td>\n",
       "    </tr>\n",
       "    <tr>\n",
       "      <th>170</th>\n",
       "      <td>Yemen</td>\n",
       "      <td>0.00000</td>\n",
       "      <td>0.57305</td>\n",
       "      <td>3.56970</td>\n",
       "      <td>0.0</td>\n",
       "      <td>3.28135</td>\n",
       "      <td>0.15695</td>\n",
       "      <td>0.1095</td>\n",
       "      <td>0.07300</td>\n",
       "      <td>2.27760</td>\n",
       "      <td>...</td>\n",
       "      <td>0.14235</td>\n",
       "      <td>0.02920</td>\n",
       "      <td>0.01460</td>\n",
       "      <td>0.10585</td>\n",
       "      <td>0.0000</td>\n",
       "      <td>0.0</td>\n",
       "      <td>0.02190</td>\n",
       "      <td>6.72695</td>\n",
       "      <td>0.04745</td>\n",
       "      <td>10.66165</td>\n",
       "    </tr>\n",
       "    <tr>\n",
       "      <th>171</th>\n",
       "      <td>Zambia</td>\n",
       "      <td>0.02555</td>\n",
       "      <td>0.52560</td>\n",
       "      <td>3.13170</td>\n",
       "      <td>0.0</td>\n",
       "      <td>4.67200</td>\n",
       "      <td>0.20440</td>\n",
       "      <td>0.3285</td>\n",
       "      <td>0.04380</td>\n",
       "      <td>1.59870</td>\n",
       "      <td>...</td>\n",
       "      <td>0.02555</td>\n",
       "      <td>0.05110</td>\n",
       "      <td>0.06570</td>\n",
       "      <td>0.02190</td>\n",
       "      <td>0.0000</td>\n",
       "      <td>0.0</td>\n",
       "      <td>0.00365</td>\n",
       "      <td>4.98590</td>\n",
       "      <td>0.05110</td>\n",
       "      <td>13.17650</td>\n",
       "    </tr>\n",
       "    <tr>\n",
       "      <th>172</th>\n",
       "      <td>Zimbabwe</td>\n",
       "      <td>0.00000</td>\n",
       "      <td>1.23005</td>\n",
       "      <td>4.32160</td>\n",
       "      <td>0.0</td>\n",
       "      <td>4.07705</td>\n",
       "      <td>0.15330</td>\n",
       "      <td>0.1022</td>\n",
       "      <td>0.02555</td>\n",
       "      <td>1.90165</td>\n",
       "      <td>...</td>\n",
       "      <td>0.04745</td>\n",
       "      <td>0.02190</td>\n",
       "      <td>0.03650</td>\n",
       "      <td>0.04380</td>\n",
       "      <td>0.0000</td>\n",
       "      <td>0.0</td>\n",
       "      <td>0.17885</td>\n",
       "      <td>11.21645</td>\n",
       "      <td>0.03285</td>\n",
       "      <td>16.49800</td>\n",
       "    </tr>\n",
       "  </tbody>\n",
       "</table>\n",
       "<p>173 rows × 24 columns</p>\n",
       "</div>"
      ],
      "text/plain": [
       "                                country  alcoholic_beverages  animal_fats  \\\n",
       "0                           Afghanistan              0.00000      1.39065   \n",
       "1                               Albania              0.00000      2.93460   \n",
       "2                               Algeria              0.00000      0.52195   \n",
       "3                                Angola              0.00000      0.46720   \n",
       "4                   Antigua and Barbuda              0.00000      3.03680   \n",
       "..                                  ...                  ...          ...   \n",
       "168  Venezuela (Bolivarian Republic of)              0.00000      1.07310   \n",
       "169                            Viet Nam              0.00000      2.19000   \n",
       "170                               Yemen              0.00000      0.57305   \n",
       "171                              Zambia              0.02555      0.52560   \n",
       "172                            Zimbabwe              0.00000      1.23005   \n",
       "\n",
       "     animal_products  aquatic_products_other  cereals_excluding_beer     eggs  \\\n",
       "0            4.83625                     0.0                 1.79580  0.15330   \n",
       "1           27.48085                     0.0                 2.29585  1.41255   \n",
       "2            8.38770                     0.0                 2.44550  0.70810   \n",
       "3            5.44580                     0.0                 2.33235  0.05475   \n",
       "4           18.02005                     0.0                 2.09145  0.25185   \n",
       "..               ...                     ...                     ...      ...   \n",
       "168          7.72705                     0.0                 1.20450  0.31025   \n",
       "169         19.04205                     0.0                 2.12795  0.44895   \n",
       "170          3.56970                     0.0                 3.28135  0.15695   \n",
       "171          3.13170                     0.0                 4.67200  0.20440   \n",
       "172          4.32160                     0.0                 4.07705  0.15330   \n",
       "\n",
       "     fish_seafood  fruits_excluding_wine      meat  ...   pulses   spices  \\\n",
       "0          0.0073                0.09490   1.36875  ...  0.04380  0.06205   \n",
       "1          0.1241                0.55115   7.50805  ...  0.09855  0.00000   \n",
       "2          0.1168                0.33580   2.26665  ...  0.15695  0.09125   \n",
       "3          0.5037                0.12410   3.92375  ...  0.11680  0.00365   \n",
       "4          0.9928                0.79205   9.31480  ...  0.04380  0.23360   \n",
       "..            ...                    ...       ...  ...      ...      ...   \n",
       "168        0.2701                0.45625   3.35800  ...  0.05475  0.00000   \n",
       "169        0.6424                0.23360  15.13655  ...  0.04380  0.36135   \n",
       "170        0.1095                0.07300   2.27760  ...  0.14235  0.02920   \n",
       "171        0.3285                0.04380   1.59870  ...  0.02555  0.05110   \n",
       "172        0.1022                0.02555   1.90165  ...  0.04745  0.02190   \n",
       "\n",
       "     starchy_roots  stimulants  sugar_crops  sugar_sweeteners  treenuts  \\\n",
       "0          0.01095     0.02190       0.0000               0.0   0.16790   \n",
       "1          0.04380     0.45260       0.0000               0.0   0.78840   \n",
       "2          0.06570     0.16790       0.0000               0.0   0.50005   \n",
       "3          0.25185     0.04015       0.0000               0.0   0.01095   \n",
       "4          0.02920     0.68620       0.0000               0.0   0.13140   \n",
       "..             ...         ...          ...               ...       ...   \n",
       "168        0.06205     0.04015       0.0000               0.0   0.00730   \n",
       "169        0.04015     0.04745       0.0219               0.0   0.67160   \n",
       "170        0.01460     0.10585       0.0000               0.0   0.02190   \n",
       "171        0.06570     0.02190       0.0000               0.0   0.00365   \n",
       "172        0.03650     0.04380       0.0000               0.0   0.17885   \n",
       "\n",
       "     vegetable_oils  vegetables  vegetal_products  \n",
       "0           3.81790     0.08030           6.34005  \n",
       "1           7.93875     0.55845          15.45775  \n",
       "2          15.91765     0.29930          20.70280  \n",
       "3           7.99350     0.04380          12.34795  \n",
       "4           9.39510     0.16060          14.50510  \n",
       "..              ...         ...               ...  \n",
       "168        13.97220     0.08760          15.94320  \n",
       "169         3.21930     0.36500           9.59585  \n",
       "170         6.72695     0.04745          10.66165  \n",
       "171         4.98590     0.05110          13.17650  \n",
       "172        11.21645     0.03285          16.49800  \n",
       "\n",
       "[173 rows x 24 columns]"
      ]
     },
     "execution_count": 12,
     "metadata": {},
     "output_type": "execute_result"
    }
   ],
   "source": [
    "# convert g/capita/day to kg/capita/yr\n",
    "df_fat[df_fat.columns[1:len(df_fat.columns)]] = df_fat[df_fat.columns[1:len(df_fat.columns)]].applymap(standUnit)\n",
    "df_fat"
   ]
  },
  {
   "cell_type": "markdown",
   "metadata": {},
   "source": [
    "__Process protein as fat__"
   ]
  },
  {
   "cell_type": "code",
   "execution_count": 13,
   "metadata": {},
   "outputs": [
    {
     "name": "stderr",
     "output_type": "stream",
     "text": [
      "C:\\Users\\Public\\Documents\\Wondershare\\CreatorTemp\\ipykernel_23720\\3721737032.py:9: FutureWarning: In a future version of pandas all arguments of DataFrame.drop except for the argument 'labels' will be keyword-only.\n",
      "  df_protein = df_protein.drop('Item', 1)\n",
      "C:\\Users\\Public\\Documents\\Wondershare\\CreatorTemp\\ipykernel_23720\\3721737032.py:17: FutureWarning: In a future version of pandas all arguments of DataFrame.drop except for the argument 'labels' will be keyword-only.\n",
      "  tmp = tmp.drop('Item', 1)\n",
      "C:\\Users\\Public\\Documents\\Wondershare\\CreatorTemp\\ipykernel_23720\\3721737032.py:17: FutureWarning: In a future version of pandas all arguments of DataFrame.drop except for the argument 'labels' will be keyword-only.\n",
      "  tmp = tmp.drop('Item', 1)\n",
      "C:\\Users\\Public\\Documents\\Wondershare\\CreatorTemp\\ipykernel_23720\\3721737032.py:17: FutureWarning: In a future version of pandas all arguments of DataFrame.drop except for the argument 'labels' will be keyword-only.\n",
      "  tmp = tmp.drop('Item', 1)\n",
      "C:\\Users\\Public\\Documents\\Wondershare\\CreatorTemp\\ipykernel_23720\\3721737032.py:17: FutureWarning: In a future version of pandas all arguments of DataFrame.drop except for the argument 'labels' will be keyword-only.\n",
      "  tmp = tmp.drop('Item', 1)\n",
      "C:\\Users\\Public\\Documents\\Wondershare\\CreatorTemp\\ipykernel_23720\\3721737032.py:17: FutureWarning: In a future version of pandas all arguments of DataFrame.drop except for the argument 'labels' will be keyword-only.\n",
      "  tmp = tmp.drop('Item', 1)\n",
      "C:\\Users\\Public\\Documents\\Wondershare\\CreatorTemp\\ipykernel_23720\\3721737032.py:17: FutureWarning: In a future version of pandas all arguments of DataFrame.drop except for the argument 'labels' will be keyword-only.\n",
      "  tmp = tmp.drop('Item', 1)\n",
      "C:\\Users\\Public\\Documents\\Wondershare\\CreatorTemp\\ipykernel_23720\\3721737032.py:17: FutureWarning: In a future version of pandas all arguments of DataFrame.drop except for the argument 'labels' will be keyword-only.\n",
      "  tmp = tmp.drop('Item', 1)\n",
      "C:\\Users\\Public\\Documents\\Wondershare\\CreatorTemp\\ipykernel_23720\\3721737032.py:17: FutureWarning: In a future version of pandas all arguments of DataFrame.drop except for the argument 'labels' will be keyword-only.\n",
      "  tmp = tmp.drop('Item', 1)\n",
      "C:\\Users\\Public\\Documents\\Wondershare\\CreatorTemp\\ipykernel_23720\\3721737032.py:17: FutureWarning: In a future version of pandas all arguments of DataFrame.drop except for the argument 'labels' will be keyword-only.\n",
      "  tmp = tmp.drop('Item', 1)\n",
      "C:\\Users\\Public\\Documents\\Wondershare\\CreatorTemp\\ipykernel_23720\\3721737032.py:17: FutureWarning: In a future version of pandas all arguments of DataFrame.drop except for the argument 'labels' will be keyword-only.\n",
      "  tmp = tmp.drop('Item', 1)\n",
      "C:\\Users\\Public\\Documents\\Wondershare\\CreatorTemp\\ipykernel_23720\\3721737032.py:17: FutureWarning: In a future version of pandas all arguments of DataFrame.drop except for the argument 'labels' will be keyword-only.\n",
      "  tmp = tmp.drop('Item', 1)\n",
      "C:\\Users\\Public\\Documents\\Wondershare\\CreatorTemp\\ipykernel_23720\\3721737032.py:17: FutureWarning: In a future version of pandas all arguments of DataFrame.drop except for the argument 'labels' will be keyword-only.\n",
      "  tmp = tmp.drop('Item', 1)\n",
      "C:\\Users\\Public\\Documents\\Wondershare\\CreatorTemp\\ipykernel_23720\\3721737032.py:17: FutureWarning: In a future version of pandas all arguments of DataFrame.drop except for the argument 'labels' will be keyword-only.\n",
      "  tmp = tmp.drop('Item', 1)\n",
      "C:\\Users\\Public\\Documents\\Wondershare\\CreatorTemp\\ipykernel_23720\\3721737032.py:17: FutureWarning: In a future version of pandas all arguments of DataFrame.drop except for the argument 'labels' will be keyword-only.\n",
      "  tmp = tmp.drop('Item', 1)\n",
      "C:\\Users\\Public\\Documents\\Wondershare\\CreatorTemp\\ipykernel_23720\\3721737032.py:17: FutureWarning: In a future version of pandas all arguments of DataFrame.drop except for the argument 'labels' will be keyword-only.\n",
      "  tmp = tmp.drop('Item', 1)\n",
      "C:\\Users\\Public\\Documents\\Wondershare\\CreatorTemp\\ipykernel_23720\\3721737032.py:17: FutureWarning: In a future version of pandas all arguments of DataFrame.drop except for the argument 'labels' will be keyword-only.\n",
      "  tmp = tmp.drop('Item', 1)\n",
      "C:\\Users\\Public\\Documents\\Wondershare\\CreatorTemp\\ipykernel_23720\\3721737032.py:17: FutureWarning: In a future version of pandas all arguments of DataFrame.drop except for the argument 'labels' will be keyword-only.\n",
      "  tmp = tmp.drop('Item', 1)\n",
      "C:\\Users\\Public\\Documents\\Wondershare\\CreatorTemp\\ipykernel_23720\\3721737032.py:17: FutureWarning: In a future version of pandas all arguments of DataFrame.drop except for the argument 'labels' will be keyword-only.\n",
      "  tmp = tmp.drop('Item', 1)\n",
      "C:\\Users\\Public\\Documents\\Wondershare\\CreatorTemp\\ipykernel_23720\\3721737032.py:17: FutureWarning: In a future version of pandas all arguments of DataFrame.drop except for the argument 'labels' will be keyword-only.\n",
      "  tmp = tmp.drop('Item', 1)\n",
      "C:\\Users\\Public\\Documents\\Wondershare\\CreatorTemp\\ipykernel_23720\\3721737032.py:17: FutureWarning: In a future version of pandas all arguments of DataFrame.drop except for the argument 'labels' will be keyword-only.\n",
      "  tmp = tmp.drop('Item', 1)\n",
      "C:\\Users\\Public\\Documents\\Wondershare\\CreatorTemp\\ipykernel_23720\\3721737032.py:17: FutureWarning: In a future version of pandas all arguments of DataFrame.drop except for the argument 'labels' will be keyword-only.\n",
      "  tmp = tmp.drop('Item', 1)\n",
      "C:\\Users\\Public\\Documents\\Wondershare\\CreatorTemp\\ipykernel_23720\\3721737032.py:17: FutureWarning: In a future version of pandas all arguments of DataFrame.drop except for the argument 'labels' will be keyword-only.\n",
      "  tmp = tmp.drop('Item', 1)\n"
     ]
    },
    {
     "data": {
      "text/html": [
       "<div>\n",
       "<style scoped>\n",
       "    .dataframe tbody tr th:only-of-type {\n",
       "        vertical-align: middle;\n",
       "    }\n",
       "\n",
       "    .dataframe tbody tr th {\n",
       "        vertical-align: top;\n",
       "    }\n",
       "\n",
       "    .dataframe thead th {\n",
       "        text-align: right;\n",
       "    }\n",
       "</style>\n",
       "<table border=\"1\" class=\"dataframe\">\n",
       "  <thead>\n",
       "    <tr style=\"text-align: right;\">\n",
       "      <th></th>\n",
       "      <th>country</th>\n",
       "      <th>alcoholic_beverages</th>\n",
       "      <th>animal_fats</th>\n",
       "      <th>animal_products</th>\n",
       "      <th>aquatic_products_other</th>\n",
       "      <th>cereals_excluding_beer</th>\n",
       "      <th>eggs</th>\n",
       "      <th>fish_seafood</th>\n",
       "      <th>fruits_excluding_wine</th>\n",
       "      <th>meat</th>\n",
       "      <th>...</th>\n",
       "      <th>pulses</th>\n",
       "      <th>spices</th>\n",
       "      <th>starchy_roots</th>\n",
       "      <th>stimulants</th>\n",
       "      <th>sugar_crops</th>\n",
       "      <th>sugar_sweeteners</th>\n",
       "      <th>treenuts</th>\n",
       "      <th>vegetable_oils</th>\n",
       "      <th>vegetables</th>\n",
       "      <th>vegetal_products</th>\n",
       "    </tr>\n",
       "  </thead>\n",
       "  <tbody>\n",
       "    <tr>\n",
       "      <th>0</th>\n",
       "      <td>Afghanistan</td>\n",
       "      <td>0.00</td>\n",
       "      <td>0.03</td>\n",
       "      <td>10.55</td>\n",
       "      <td>0.0</td>\n",
       "      <td>38.92</td>\n",
       "      <td>0.44</td>\n",
       "      <td>0.07</td>\n",
       "      <td>0.63</td>\n",
       "      <td>3.39</td>\n",
       "      <td>...</td>\n",
       "      <td>1.35</td>\n",
       "      <td>0.18</td>\n",
       "      <td>0.21</td>\n",
       "      <td>0.60</td>\n",
       "      <td>0.0</td>\n",
       "      <td>0.00</td>\n",
       "      <td>0.15</td>\n",
       "      <td>0.00</td>\n",
       "      <td>1.23</td>\n",
       "      <td>43.54</td>\n",
       "    </tr>\n",
       "    <tr>\n",
       "      <th>1</th>\n",
       "      <td>Albania</td>\n",
       "      <td>0.44</td>\n",
       "      <td>0.17</td>\n",
       "      <td>66.34</td>\n",
       "      <td>0.0</td>\n",
       "      <td>34.03</td>\n",
       "      <td>4.32</td>\n",
       "      <td>1.50</td>\n",
       "      <td>3.05</td>\n",
       "      <td>18.31</td>\n",
       "      <td>...</td>\n",
       "      <td>3.48</td>\n",
       "      <td>0.00</td>\n",
       "      <td>2.12</td>\n",
       "      <td>0.63</td>\n",
       "      <td>0.0</td>\n",
       "      <td>0.01</td>\n",
       "      <td>0.64</td>\n",
       "      <td>0.02</td>\n",
       "      <td>7.76</td>\n",
       "      <td>53.21</td>\n",
       "    </tr>\n",
       "    <tr>\n",
       "      <th>2</th>\n",
       "      <td>Algeria</td>\n",
       "      <td>0.06</td>\n",
       "      <td>0.01</td>\n",
       "      <td>25.71</td>\n",
       "      <td>0.0</td>\n",
       "      <td>49.36</td>\n",
       "      <td>2.40</td>\n",
       "      <td>1.18</td>\n",
       "      <td>2.16</td>\n",
       "      <td>6.52</td>\n",
       "      <td>...</td>\n",
       "      <td>4.74</td>\n",
       "      <td>0.33</td>\n",
       "      <td>2.72</td>\n",
       "      <td>0.86</td>\n",
       "      <td>0.0</td>\n",
       "      <td>0.00</td>\n",
       "      <td>0.51</td>\n",
       "      <td>0.05</td>\n",
       "      <td>5.81</td>\n",
       "      <td>67.21</td>\n",
       "    </tr>\n",
       "  </tbody>\n",
       "</table>\n",
       "<p>3 rows × 24 columns</p>\n",
       "</div>"
      ],
      "text/plain": [
       "       country  alcoholic_beverages  animal_fats  animal_products  \\\n",
       "0  Afghanistan                 0.00         0.03            10.55   \n",
       "1      Albania                 0.44         0.17            66.34   \n",
       "2      Algeria                 0.06         0.01            25.71   \n",
       "\n",
       "   aquatic_products_other  cereals_excluding_beer  eggs  fish_seafood  \\\n",
       "0                     0.0                   38.92  0.44          0.07   \n",
       "1                     0.0                   34.03  4.32          1.50   \n",
       "2                     0.0                   49.36  2.40          1.18   \n",
       "\n",
       "   fruits_excluding_wine   meat  ...  pulses  spices  starchy_roots  \\\n",
       "0                   0.63   3.39  ...    1.35    0.18           0.21   \n",
       "1                   3.05  18.31  ...    3.48    0.00           2.12   \n",
       "2                   2.16   6.52  ...    4.74    0.33           2.72   \n",
       "\n",
       "   stimulants  sugar_crops  sugar_sweeteners  treenuts  vegetable_oils  \\\n",
       "0        0.60          0.0              0.00      0.15            0.00   \n",
       "1        0.63          0.0              0.01      0.64            0.02   \n",
       "2        0.86          0.0              0.00      0.51            0.05   \n",
       "\n",
       "   vegetables  vegetal_products  \n",
       "0        1.23             43.54  \n",
       "1        7.76             53.21  \n",
       "2        5.81             67.21  \n",
       "\n",
       "[3 rows x 24 columns]"
      ]
     },
     "execution_count": 13,
     "metadata": {},
     "output_type": "execute_result"
    }
   ],
   "source": [
    "# read in most csvs as a list\n",
    "path = 'Protein_Supply'\n",
    "all_files = glob.glob(os.path.join(path, \"*.csv\"))\n",
    "\n",
    "# read in the first csv in the directory so we can merge other csvs with it\n",
    "col_list = [\"Area\", \"Item\", \"Value\"] # we only need the country and the quantity of food from the file\n",
    "df_protein = pd.read_csv(all_files[0], usecols=col_list)\n",
    "name = getName(df_protein.loc[0].at[\"Item\"])\n",
    "df_protein = df_protein.drop('Item', 1)\n",
    "df_protein.columns = ['country',name]\n",
    "\n",
    "# merge all csvs in the directory into df_protein\n",
    "for i in all_files[1:len(all_files)]:\n",
    "    # extract the name of the file\n",
    "    tmp = pd.read_csv(i, usecols=col_list)\n",
    "    name = getName(tmp.loc[0].at[\"Item\"])\n",
    "    tmp = tmp.drop('Item', 1)\n",
    "    tmp.columns = ['country',name] \n",
    "    df_protein = pd.merge(df_protein,tmp,on ='country', how='outer')\n",
    "    \n",
    "# sort the columns, with country at the first column, and the food columns in alphabetical order\n",
    "df_protein = df_protein.sort_index(axis=1)\n",
    "first_column = df_protein.pop('country')\n",
    "df_protein.insert(0, 'country', first_column)\n",
    "\n",
    "# replace na with 0\n",
    "df_protein = df_protein.fillna(0)\n",
    "df_protein.head(3)"
   ]
  },
  {
   "cell_type": "code",
   "execution_count": 14,
   "metadata": {},
   "outputs": [
    {
     "data": {
      "text/html": [
       "<div>\n",
       "<style scoped>\n",
       "    .dataframe tbody tr th:only-of-type {\n",
       "        vertical-align: middle;\n",
       "    }\n",
       "\n",
       "    .dataframe tbody tr th {\n",
       "        vertical-align: top;\n",
       "    }\n",
       "\n",
       "    .dataframe thead th {\n",
       "        text-align: right;\n",
       "    }\n",
       "</style>\n",
       "<table border=\"1\" class=\"dataframe\">\n",
       "  <thead>\n",
       "    <tr style=\"text-align: right;\">\n",
       "      <th></th>\n",
       "      <th>country</th>\n",
       "      <th>alcoholic_beverages</th>\n",
       "      <th>animal_fats</th>\n",
       "      <th>animal_products</th>\n",
       "      <th>aquatic_products_other</th>\n",
       "      <th>cereals_excluding_beer</th>\n",
       "      <th>eggs</th>\n",
       "      <th>fish_seafood</th>\n",
       "      <th>fruits_excluding_wine</th>\n",
       "      <th>meat</th>\n",
       "      <th>...</th>\n",
       "      <th>pulses</th>\n",
       "      <th>spices</th>\n",
       "      <th>starchy_roots</th>\n",
       "      <th>stimulants</th>\n",
       "      <th>sugar_crops</th>\n",
       "      <th>sugar_sweeteners</th>\n",
       "      <th>treenuts</th>\n",
       "      <th>vegetable_oils</th>\n",
       "      <th>vegetables</th>\n",
       "      <th>vegetal_products</th>\n",
       "    </tr>\n",
       "  </thead>\n",
       "  <tbody>\n",
       "    <tr>\n",
       "      <th>0</th>\n",
       "      <td>Afghanistan</td>\n",
       "      <td>0.0000</td>\n",
       "      <td>0.01095</td>\n",
       "      <td>3.85075</td>\n",
       "      <td>0.0</td>\n",
       "      <td>14.20580</td>\n",
       "      <td>0.1606</td>\n",
       "      <td>0.02555</td>\n",
       "      <td>0.22995</td>\n",
       "      <td>1.23735</td>\n",
       "      <td>...</td>\n",
       "      <td>0.49275</td>\n",
       "      <td>0.06570</td>\n",
       "      <td>0.07665</td>\n",
       "      <td>0.21900</td>\n",
       "      <td>0.0</td>\n",
       "      <td>0.00000</td>\n",
       "      <td>0.05475</td>\n",
       "      <td>0.00000</td>\n",
       "      <td>0.44895</td>\n",
       "      <td>15.89210</td>\n",
       "    </tr>\n",
       "    <tr>\n",
       "      <th>1</th>\n",
       "      <td>Albania</td>\n",
       "      <td>0.1606</td>\n",
       "      <td>0.06205</td>\n",
       "      <td>24.21410</td>\n",
       "      <td>0.0</td>\n",
       "      <td>12.42095</td>\n",
       "      <td>1.5768</td>\n",
       "      <td>0.54750</td>\n",
       "      <td>1.11325</td>\n",
       "      <td>6.68315</td>\n",
       "      <td>...</td>\n",
       "      <td>1.27020</td>\n",
       "      <td>0.00000</td>\n",
       "      <td>0.77380</td>\n",
       "      <td>0.22995</td>\n",
       "      <td>0.0</td>\n",
       "      <td>0.00365</td>\n",
       "      <td>0.23360</td>\n",
       "      <td>0.00730</td>\n",
       "      <td>2.83240</td>\n",
       "      <td>19.42165</td>\n",
       "    </tr>\n",
       "    <tr>\n",
       "      <th>2</th>\n",
       "      <td>Algeria</td>\n",
       "      <td>0.0219</td>\n",
       "      <td>0.00365</td>\n",
       "      <td>9.38415</td>\n",
       "      <td>0.0</td>\n",
       "      <td>18.01640</td>\n",
       "      <td>0.8760</td>\n",
       "      <td>0.43070</td>\n",
       "      <td>0.78840</td>\n",
       "      <td>2.37980</td>\n",
       "      <td>...</td>\n",
       "      <td>1.73010</td>\n",
       "      <td>0.12045</td>\n",
       "      <td>0.99280</td>\n",
       "      <td>0.31390</td>\n",
       "      <td>0.0</td>\n",
       "      <td>0.00000</td>\n",
       "      <td>0.18615</td>\n",
       "      <td>0.01825</td>\n",
       "      <td>2.12065</td>\n",
       "      <td>24.53165</td>\n",
       "    </tr>\n",
       "  </tbody>\n",
       "</table>\n",
       "<p>3 rows × 24 columns</p>\n",
       "</div>"
      ],
      "text/plain": [
       "       country  alcoholic_beverages  animal_fats  animal_products  \\\n",
       "0  Afghanistan               0.0000      0.01095          3.85075   \n",
       "1      Albania               0.1606      0.06205         24.21410   \n",
       "2      Algeria               0.0219      0.00365          9.38415   \n",
       "\n",
       "   aquatic_products_other  cereals_excluding_beer    eggs  fish_seafood  \\\n",
       "0                     0.0                14.20580  0.1606       0.02555   \n",
       "1                     0.0                12.42095  1.5768       0.54750   \n",
       "2                     0.0                18.01640  0.8760       0.43070   \n",
       "\n",
       "   fruits_excluding_wine     meat  ...   pulses   spices  starchy_roots  \\\n",
       "0                0.22995  1.23735  ...  0.49275  0.06570        0.07665   \n",
       "1                1.11325  6.68315  ...  1.27020  0.00000        0.77380   \n",
       "2                0.78840  2.37980  ...  1.73010  0.12045        0.99280   \n",
       "\n",
       "   stimulants  sugar_crops  sugar_sweeteners  treenuts  vegetable_oils  \\\n",
       "0     0.21900          0.0           0.00000   0.05475         0.00000   \n",
       "1     0.22995          0.0           0.00365   0.23360         0.00730   \n",
       "2     0.31390          0.0           0.00000   0.18615         0.01825   \n",
       "\n",
       "   vegetables  vegetal_products  \n",
       "0     0.44895          15.89210  \n",
       "1     2.83240          19.42165  \n",
       "2     2.12065          24.53165  \n",
       "\n",
       "[3 rows x 24 columns]"
      ]
     },
     "execution_count": 14,
     "metadata": {},
     "output_type": "execute_result"
    }
   ],
   "source": [
    "# convert g/capita/day to kg/capita/yr\n",
    "df_protein[df_protein.columns[1:len(df_protein.columns)]] = df_protein[df_protein.columns[1:len(df_protein.columns)]].applymap(standUnit)\n",
    "df_protein.head(3)"
   ]
  },
  {
   "cell_type": "markdown",
   "metadata": {},
   "source": [
    "# Data Analysis & Results"
   ]
  },
  {
   "cell_type": "markdown",
   "metadata": {},
   "source": [
    "Include cells that describe the steps in your data analysis."
   ]
  },
  {
   "cell_type": "code",
   "execution_count": 15,
   "metadata": {},
   "outputs": [],
   "source": [
    "## YOUR CODE HERE\n",
    "import matplotlib.pyplot as plt\n",
    "import statsmodels.api as sm\n",
    "import patsy"
   ]
  },
  {
   "cell_type": "markdown",
   "metadata": {},
   "source": [
    "## Creating Summary Dataframe ##"
   ]
  },
  {
   "cell_type": "code",
   "execution_count": 16,
   "metadata": {},
   "outputs": [],
   "source": [
    "col_names = df_fat.columns"
   ]
  },
  {
   "cell_type": "code",
   "execution_count": 17,
   "metadata": {},
   "outputs": [],
   "source": [
    "country_names = list(df_fat['country'])\n",
    "covid_names = ['confirmed', 'deaths', 'recovered', 'active',\n",
    "       'population']\n",
    "macronutrient_source_names = ['alcoholic_beverages', 'animal_fats',\n",
    "       'animal_products', 'aquatic_products_other', 'cereals_excluding_beer',\n",
    "       'eggs', 'fish_seafood', 'fruits_excluding_wine', 'meat',\n",
    "       'milk_excluding_butter', 'miscellaneous', 'offals', 'oilcrops',\n",
    "       'pulses', 'spices', 'starchy_roots', 'stimulants', 'sugar_crops',\n",
    "       'sugar_sweeteners', 'treenuts', 'vegetable_oils', 'vegetables',\n",
    "       'vegetal_products']"
   ]
  },
  {
   "cell_type": "code",
   "execution_count": 18,
   "metadata": {},
   "outputs": [
    {
     "data": {
      "text/plain": [
       "0    22.34895\n",
       "1    85.87720\n",
       "2    58.17735\n",
       "dtype: float64"
      ]
     },
     "execution_count": 18,
     "metadata": {},
     "output_type": "execute_result"
    }
   ],
   "source": [
    "# yearly fat intake of first three countries (alphabetical) (unit: kg/capita/yr)\n",
    "fat_sum = df_fat[macronutrient_source_names].sum(axis=1)\n",
    "fat_sum.head(3)"
   ]
  },
  {
   "cell_type": "code",
   "execution_count": 19,
   "metadata": {},
   "outputs": [
    {
     "data": {
      "text/plain": [
       "0    39.48570\n",
       "1    87.26785\n",
       "2    67.82430\n",
       "dtype: float64"
      ]
     },
     "execution_count": 19,
     "metadata": {},
     "output_type": "execute_result"
    }
   ],
   "source": [
    "# yearly protein intake of first three countries (alphabetical) (unit: kg/capita/yr)\n",
    "protein_sum = df_protein[macronutrient_source_names].sum(axis=1)\n",
    "protein_sum.head(3)"
   ]
  },
  {
   "cell_type": "code",
   "execution_count": 20,
   "metadata": {},
   "outputs": [
    {
     "name": "stderr",
     "output_type": "stream",
     "text": [
      "C:\\Users\\Public\\Documents\\Wondershare\\CreatorTemp\\ipykernel_23720\\3701914948.py:3: FutureWarning: Dropping of nuisance columns in DataFrame reductions (with 'numeric_only=None') is deprecated; in a future version this will raise TypeError.  Select only valid columns before calling the reduction.\n",
      "  carb_sum=df_quantity.sum(axis=1)-protein_sum-fat_sum\n"
     ]
    },
    {
     "data": {
      "text/plain": [
       "0     652.80535\n",
       "1    2347.89495\n",
       "2    1471.46835\n",
       "dtype: float64"
      ]
     },
     "execution_count": 20,
     "metadata": {},
     "output_type": "execute_result"
    }
   ],
   "source": [
    "#yearly carbohydrate intake of first three countries (alphabetical) (unit: kg/capita/yr)\n",
    "#computed by total quantity-protein-fat\n",
    "carb_sum=df_quantity.sum(axis=1)-protein_sum-fat_sum\n",
    "carb_sum.head(3)"
   ]
  },
  {
   "cell_type": "code",
   "execution_count": 21,
   "metadata": {},
   "outputs": [],
   "source": [
    "# create macronutrients summary dataframe\n",
    "df_macro = pd.DataFrame({'country': country_names,\n",
    "                          'fat_sum': fat_sum,\n",
    "                          'protein_sum': protein_sum,\n",
    "                          'carb_sum':carb_sum})"
   ]
  },
  {
   "cell_type": "code",
   "execution_count": 22,
   "metadata": {},
   "outputs": [
    {
     "data": {
      "text/html": [
       "<div>\n",
       "<style scoped>\n",
       "    .dataframe tbody tr th:only-of-type {\n",
       "        vertical-align: middle;\n",
       "    }\n",
       "\n",
       "    .dataframe tbody tr th {\n",
       "        vertical-align: top;\n",
       "    }\n",
       "\n",
       "    .dataframe thead th {\n",
       "        text-align: right;\n",
       "    }\n",
       "</style>\n",
       "<table border=\"1\" class=\"dataframe\">\n",
       "  <thead>\n",
       "    <tr style=\"text-align: right;\">\n",
       "      <th></th>\n",
       "      <th>country</th>\n",
       "      <th>fat_sum</th>\n",
       "      <th>protein_sum</th>\n",
       "      <th>carb_sum</th>\n",
       "    </tr>\n",
       "  </thead>\n",
       "  <tbody>\n",
       "    <tr>\n",
       "      <th>0</th>\n",
       "      <td>Afghanistan</td>\n",
       "      <td>22.34895</td>\n",
       "      <td>39.48570</td>\n",
       "      <td>652.80535</td>\n",
       "    </tr>\n",
       "    <tr>\n",
       "      <th>1</th>\n",
       "      <td>Albania</td>\n",
       "      <td>85.87720</td>\n",
       "      <td>87.26785</td>\n",
       "      <td>2347.89495</td>\n",
       "    </tr>\n",
       "    <tr>\n",
       "      <th>2</th>\n",
       "      <td>Algeria</td>\n",
       "      <td>58.17735</td>\n",
       "      <td>67.82430</td>\n",
       "      <td>1471.46835</td>\n",
       "    </tr>\n",
       "    <tr>\n",
       "      <th>3</th>\n",
       "      <td>Angola</td>\n",
       "      <td>35.58385</td>\n",
       "      <td>39.49300</td>\n",
       "      <td>1066.82315</td>\n",
       "    </tr>\n",
       "    <tr>\n",
       "      <th>4</th>\n",
       "      <td>Antigua and Barbuda</td>\n",
       "      <td>65.04665</td>\n",
       "      <td>59.45120</td>\n",
       "      <td>1141.85215</td>\n",
       "    </tr>\n",
       "    <tr>\n",
       "      <th>...</th>\n",
       "      <td>...</td>\n",
       "      <td>...</td>\n",
       "      <td>...</td>\n",
       "      <td>...</td>\n",
       "    </tr>\n",
       "    <tr>\n",
       "      <th>168</th>\n",
       "      <td>Venezuela (Bolivarian Republic of)</td>\n",
       "      <td>47.32955</td>\n",
       "      <td>74.97465</td>\n",
       "      <td>945.83580</td>\n",
       "    </tr>\n",
       "    <tr>\n",
       "      <th>169</th>\n",
       "      <td>Viet Nam</td>\n",
       "      <td>57.27215</td>\n",
       "      <td>74.12055</td>\n",
       "      <td>1295.53730</td>\n",
       "    </tr>\n",
       "    <tr>\n",
       "      <th>170</th>\n",
       "      <td>Yemen</td>\n",
       "      <td>28.46635</td>\n",
       "      <td>65.95185</td>\n",
       "      <td>510.52180</td>\n",
       "    </tr>\n",
       "    <tr>\n",
       "      <th>171</th>\n",
       "      <td>Zambia</td>\n",
       "      <td>32.62005</td>\n",
       "      <td>76.37625</td>\n",
       "      <td>603.00370</td>\n",
       "    </tr>\n",
       "    <tr>\n",
       "      <th>172</th>\n",
       "      <td>Zimbabwe</td>\n",
       "      <td>41.63555</td>\n",
       "      <td>70.82460</td>\n",
       "      <td>563.45985</td>\n",
       "    </tr>\n",
       "  </tbody>\n",
       "</table>\n",
       "<p>173 rows × 4 columns</p>\n",
       "</div>"
      ],
      "text/plain": [
       "                                country   fat_sum  protein_sum    carb_sum\n",
       "0                           Afghanistan  22.34895     39.48570   652.80535\n",
       "1                               Albania  85.87720     87.26785  2347.89495\n",
       "2                               Algeria  58.17735     67.82430  1471.46835\n",
       "3                                Angola  35.58385     39.49300  1066.82315\n",
       "4                   Antigua and Barbuda  65.04665     59.45120  1141.85215\n",
       "..                                  ...       ...          ...         ...\n",
       "168  Venezuela (Bolivarian Republic of)  47.32955     74.97465   945.83580\n",
       "169                            Viet Nam  57.27215     74.12055  1295.53730\n",
       "170                               Yemen  28.46635     65.95185   510.52180\n",
       "171                              Zambia  32.62005     76.37625   603.00370\n",
       "172                            Zimbabwe  41.63555     70.82460   563.45985\n",
       "\n",
       "[173 rows x 4 columns]"
      ]
     },
     "execution_count": 22,
     "metadata": {},
     "output_type": "execute_result"
    }
   ],
   "source": [
    "df_macro"
   ]
  },
  {
   "cell_type": "code",
   "execution_count": 23,
   "metadata": {},
   "outputs": [
    {
     "name": "stdout",
     "output_type": "stream",
     "text": [
      "Maximum Fat Value: 122.05964999999998 \n",
      "Maximum Protein Value: 102.93365 \n",
      "Maximum Carbohydrate Value: 2347.89495\n",
      "Minimum Fat Value: 17.1477 \n",
      "Minimum Protein Value: 29.127000000000002 \n",
      "Minimum Carbohydrate Value: 510.5218\n"
     ]
    }
   ],
   "source": [
    "fat_max, protein_max, carb_max = max(df_macro['fat_sum']), max(df_macro['protein_sum']),  max(df_macro['carb_sum'])\n",
    "print('Maximum Fat Value: ' + str(fat_max), '\\nMaximum Protein Value: ' + str(protein_max),'\\nMaximum Carbohydrate Value: ' + str(carb_max),)\n",
    "\n",
    "fat_min, protein_min, carb_min = min(df_macro['fat_sum']), min(df_macro['protein_sum']),  min(df_macro['carb_sum'])\n",
    "print('Minimum Fat Value: ' + str(fat_min), '\\nMinimum Protein Value: ' + str(protein_min),'\\nMinimum Carbohydrate Value: ' + str(carb_min),)"
   ]
  },
  {
   "cell_type": "markdown",
   "metadata": {},
   "source": [
    "## Histogram of Worldwide Macronutrient Distribution ##\n",
    "* `x` : percentage ranges\n",
    "* `y` : count of countries that fall under the percentage range# fat intake distribution worldwide\n",
    "fig1 = sns.histplot(x='fat_sum', data=df_macro, stat='count', bins=20)"
   ]
  },
  {
   "cell_type": "code",
   "execution_count": 24,
   "metadata": {},
   "outputs": [
    {
     "data": {
      "text/plain": [
       "Text(0.5, 1.0, 'Global distribution of Fat intake')"
      ]
     },
     "execution_count": 24,
     "metadata": {},
     "output_type": "execute_result"
    },
    {
     "data": {
      "image/png": "[encoded data removed]",
      "text/plain": [
       "<Figure size 432x288 with 1 Axes>"
      ]
     },
     "metadata": {
      "needs_background": "light"
     },
     "output_type": "display_data"
    }
   ],
   "source": [
    "# fat intake distribution worldwide\n",
    "fig1 = sns.histplot(x='fat_sum', data=df_macro, stat='count', bins=20)\n",
    "fig1.set_title('Global distribution of Fat intake')"
   ]
  },
  {
   "cell_type": "code",
   "execution_count": 25,
   "metadata": {},
   "outputs": [
    {
     "data": {
      "text/plain": [
       "Text(0.5, 1.0, 'Global Distribution of Protein Intake')"
      ]
     },
     "execution_count": 25,
     "metadata": {},
     "output_type": "execute_result"
    },
    {
     "data": {
      "image/png": "[encoded data removed]",
      "text/plain": [
       "<Figure size 432x288 with 1 Axes>"
      ]
     },
     "metadata": {
      "needs_background": "light"
     },
     "output_type": "display_data"
    }
   ],
   "source": [
    "# protein intake distribution worldwide\n",
    "fig2 = sns.histplot(x='protein_sum', data=df_macro, stat='count', bins=20)\n",
    "fig2.set_title('Global Distribution of Protein Intake')"
   ]
  },
  {
   "cell_type": "code",
   "execution_count": 26,
   "metadata": {},
   "outputs": [
    {
     "data": {
      "text/plain": [
       "Text(0.5, 1.0, 'Global Distribution of Carbohydrate Intake')"
      ]
     },
     "execution_count": 26,
     "metadata": {},
     "output_type": "execute_result"
    },
    {
     "data": {
      "image/png": "[encoded data removed]",
      "text/plain": [
       "<Figure size 432x288 with 1 Axes>"
      ]
     },
     "metadata": {
      "needs_background": "light"
     },
     "output_type": "display_data"
    }
   ],
   "source": [
    "# carb intake distribution worldwide\n",
    "fig3 = sns.histplot(x='carb_sum', data=df_macro, stat='count', bins=20)\n",
    "fig3.set_title('Global Distribution of Carbohydrate Intake')"
   ]
  },
  {
   "cell_type": "markdown",
   "metadata": {},
   "source": [
    "## Histogram of Worldwide Covid Distribution ##\n",
    "* `x` : percentage of each case\n",
    "* `y` : count of countries that fall under each bin"
   ]
  },
  {
   "cell_type": "code",
   "execution_count": 27,
   "metadata": {},
   "outputs": [
    {
     "name": "stdout",
     "output_type": "stream",
     "text": [
      "Total number of countries in the dataset: 170\n"
     ]
    }
   ],
   "source": [
    "print('Total number of countries in the dataset: '+ str(len(df_covid['Country'])))"
   ]
  },
  {
   "cell_type": "code",
   "execution_count": 28,
   "metadata": {},
   "outputs": [
    {
     "data": {
      "text/plain": [
       "Text(0.5, 1.0, 'Worldwide distribution of Confirmed Covid Cases')"
      ]
     },
     "execution_count": 28,
     "metadata": {},
     "output_type": "execute_result"
    },
    {
     "data": {
      "image/png": "[encoded data removed]",
      "text/plain": [
       "<Figure size 432x288 with 1 Axes>"
      ]
     },
     "metadata": {
      "needs_background": "light"
     },
     "output_type": "display_data"
    }
   ],
   "source": [
    "# covid confirmed cases distribution worldwide\n",
    "# observed a strong right skew, performing a log transformation\n",
    "fig4 = sns.histplot(x='Confirmed', data=df_covid, stat='count', bins=20)\n",
    "fig4.set_title('Worldwide distribution of Confirmed Covid Cases') "
   ]
  },
  {
   "cell_type": "code",
   "execution_count": 29,
   "metadata": {},
   "outputs": [
    {
     "data": {
      "text/plain": [
       "Text(0.5, 1.0, 'Global Distribution of Covid Deaths')"
      ]
     },
     "execution_count": 29,
     "metadata": {},
     "output_type": "execute_result"
    },
    {
     "data": {
      "image/png": "[encoded data removed]",
      "text/plain": [
       "<Figure size 432x288 with 1 Axes>"
      ]
     },
     "metadata": {
      "needs_background": "light"
     },
     "output_type": "display_data"
    }
   ],
   "source": [
    "# covid deaths cases distribution worldwide\n",
    "fig5 = sns.histplot(x='Deaths', data=df_covid, stat='count', bins=20)\n",
    "fig5.set_title('Global Distribution of Covid Deaths') "
   ]
  },
  {
   "cell_type": "code",
   "execution_count": 30,
   "metadata": {},
   "outputs": [
    {
     "data": {
      "text/plain": [
       "Text(0.5, 1.0, 'Global Distribution of Covid Recovery Rates')"
      ]
     },
     "execution_count": 30,
     "metadata": {},
     "output_type": "execute_result"
    },
    {
     "data": {
      "image/png": "[encoded data removed]",
      "text/plain": [
       "<Figure size 432x288 with 1 Axes>"
      ]
     },
     "metadata": {
      "needs_background": "light"
     },
     "output_type": "display_data"
    }
   ],
   "source": [
    "# covid recovered cases distribution worldwide\n",
    "fig6 = sns.histplot(x='Recovered', data=df_covid, stat='count', bins=20)\n",
    "fig6.set_title('Global Distribution of Covid Recovery Rates')"
   ]
  },
  {
   "cell_type": "code",
   "execution_count": 31,
   "metadata": {},
   "outputs": [
    {
     "name": "stderr",
     "output_type": "stream",
     "text": [
      "C:\\Users\\arnav\\AppData\\Roaming\\jupyterlab-desktop\\jlab_server\\lib\\site-packages\\pandas\\core\\arraylike.py:397: RuntimeWarning: divide by zero encountered in log10\n",
      "  result = getattr(ufunc, method)(*inputs, **kwargs)\n"
     ]
    }
   ],
   "source": [
    "# perform log transformations of COVID Distributions\n",
    "df_covid['Confirmed'] = np.log10(df_covid['Confirmed'])\n",
    "df_covid['Deaths'] = np.log10(df_covid['Deaths'])\n",
    "df_covid['Recovered'] = np.log10(df_covid['Recovered'])"
   ]
  },
  {
   "cell_type": "markdown",
   "metadata": {},
   "source": [
    "# Ethics & Privacy"
   ]
  },
  {
   "cell_type": "markdown",
   "metadata": {},
   "source": [
    "*Fill in your ethics & privacy discussion here*"
   ]
  },
  {
   "cell_type": "markdown",
   "metadata": {},
   "source": [
    "# Conclusion & Discussion"
   ]
  },
  {
   "cell_type": "markdown",
   "metadata": {},
   "source": [
    "*Fill in your discussion information here*"
   ]
  },
  {
   "cell_type": "markdown",
   "metadata": {},
   "source": [
    "# Team Contributions"
   ]
  },
  {
   "cell_type": "markdown",
   "metadata": {},
   "source": [
    "*Specify who in your group worked on which parts of the project.*"
   ]
  }
 ],
 "metadata": {
  "kernelspec": {
   "display_name": "Python 3 (ipykernel)",
   "language": "python",
   "name": "python3"
  },
  "language_info": {
   "codemirror_mode": {
    "name": "ipython",
    "version": 3
   },
   "file_extension": ".py",
   "mimetype": "text/x-python",
   "name": "python",
   "nbconvert_exporter": "python",
   "pygments_lexer": "ipython3",
   "version": "3.8.13"
  }
 },
 "nbformat": 4,
 "nbformat_minor": 4
}
